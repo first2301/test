{
 "cells": [
  {
   "cell_type": "code",
   "execution_count": 42,
   "metadata": {},
   "outputs": [],
   "source": [
    "from langchain_community.vectorstores import ElasticsearchStore\n",
    "from langchain_community.embeddings import HuggingFaceEmbeddings\n",
    "\n",
    "import os\n",
    "\n",
    "# Embedding model configuration\n",
    "EMBEDDING_MODEL_PATH = \"F:\\\\chat_test\\\\ai_models\\\\intfloat\\\\multilingual-e5-large-instruct\"\n",
    "EMBEDDING_MODEL_CACHE_DIR = \"F:\\\\chat_test\\\\ai_models\\intfloat\\\\multilingual-e5-large-instruct\"\n",
    "\n",
    "# Elasticsearch configuration\n",
    "ELASTICSEARCH_URL = \"http://127.0.0.1:9200\"\n",
    "\n",
    "\n",
    "embeddings = HuggingFaceEmbeddings(\n",
    "    model_name=EMBEDDING_MODEL_PATH,\n",
    "    cache_folder=EMBEDDING_MODEL_CACHE_DIR,\n",
    "    model_kwargs={\"device\": \"cpu\"},                    # GPU 사용 안함\n",
    "    encode_kwargs={\"normalize_embeddings\": True}       # 임베딩 정규화 (권장)\n",
    ")\n",
    "\n",
    "elastic_vector_search = ElasticsearchStore(\n",
    "    index_name=\"documents\",\n",
    "    embedding=embeddings,\n",
    "    es_url=ELASTICSEARCH_URL,\n",
    "    es_user=\"elastic\",  # 보안이 비활성화된 경우\n",
    "    es_password=\"elastic\",  # 보안이 비활성화된 경우\n",
    ")"
   ]
  },
  {
   "cell_type": "code",
   "execution_count": 44,
   "metadata": {},
   "outputs": [
    {
     "data": {
      "text/plain": [
       "['eb155f57-20c0-426e-80a1-8807ef718b9e',\n",
       " '421b10cf-f109-49fa-813e-12fa66f253f6',\n",
       " '6530be02-ac97-479d-92e5-d8ab1aac0578',\n",
       " '733df0f4-1755-4f6b-b9af-7a8893985d9f',\n",
       " 'ee315ce1-9f7b-4eaa-af3d-0b581b746c31',\n",
       " '2c397e4d-3f5d-4826-b84e-2eae21a46bc2',\n",
       " '37c9b49b-5381-452e-87d3-a033fd871f76',\n",
       " 'c58fc860-2412-4667-86b2-557badb117e7',\n",
       " 'cd5c9553-d905-4b5b-a587-9c26b08944a1',\n",
       " '989aa7bc-dd4f-431c-b6df-c4f58a187ea3']"
      ]
     },
     "execution_count": 44,
     "metadata": {},
     "output_type": "execute_result"
    }
   ],
   "source": [
    "from uuid import uuid4\n",
    "from langchain_core.documents import Document\n",
    "\n",
    "document_1 = Document(\n",
    "    page_content=\"개인정보 보호법에 따라 개인정보 수집 시에는 반드시 이용자의 동의를 받아야 합니다.\",\n",
    "    metadata={\"source\": \"법률\"},\n",
    ")\n",
    "\n",
    "document_2 = Document(\n",
    "    page_content=\"개인정보 유출 시에는 지체 없이 해당 사실을 이용자에게 알리고 대통령령으로 정하는 바에 따라 조치한 결과를 이용자에게 알려야 합니다.\",\n",
    "    metadata={\"source\": \"법률\"},\n",
    ")\n",
    "\n",
    "document_3 = Document(\n",
    "    page_content=\"개인정보 보호책임자는 개인정보 처리에 관한 법률 및 이 법의 준비와 집행을 맡는 이사 또는 이와 동등한 임원으로 지정하여야 합니다.\",\n",
    "    metadata={\"source\": \"법률\"},\n",
    ")\n",
    "\n",
    "document_4 = Document(\n",
    "    page_content=\"개인정보의 수집과 이용 목적이 달성되면 지체 없이 해당 개인정보를 파기해야 합니다.\",\n",
    "    metadata={\"source\": \"법률\"},\n",
    ")\n",
    "\n",
    "document_5 = Document(\n",
    "    page_content=\"개인정보의 안전성 확보를 위해 암호화, 접근제한, 접속이력 관리 등의 기술적 조치를 취해야 합니다.\",\n",
    "    metadata={\"source\": \"법률\"},\n",
    ")\n",
    "\n",
    "document_6 = Document(\n",
    "    page_content=\"개인정보 보호법 위반 시 5년 이하의 징역 또는 5천만원 이하의 벌금이 부과될 수 있습니다.\",\n",
    "    metadata={\"source\": \"법률\"},\n",
    ")\n",
    "\n",
    "document_7 = Document(\n",
    "    page_content=\"개인정보의 수집과 이용에 대한 동의는 구체적이고 명확한 목적을 제시한 후 받아야 합니다.\",\n",
    "    metadata={\"source\": \"법률\"},\n",
    ")\n",
    "\n",
    "document_8 = Document(\n",
    "    page_content=\"개인정보 보호법은 개인정보의 수집, 사용, 제공, 관리, 보호 등에 관한 사항을 규정합니다.\",\n",
    "    metadata={\"source\": \"법률\"},\n",
    ")\n",
    "\n",
    "document_9 = Document(\n",
    "    page_content=\"개인정보 보호책임자는 개인정보 처리방침의 수립과 공개, 개인정보 보호 교육 등을 수행합니다.\",\n",
    "    metadata={\"source\": \"법률\"},\n",
    ")\n",
    "\n",
    "document_10 = Document(\n",
    "    page_content=\"개인정보의 수집과 이용에 대한 동의는 이용자가 쉽게 인지하고 선택할 수 있도록 명확하게 표시해야 합니다.\",\n",
    "    metadata={\"source\": \"법률\"},\n",
    ")\n",
    "\n",
    "documents = [\n",
    "    document_1,\n",
    "    document_2,\n",
    "    document_3,\n",
    "    document_4,\n",
    "    document_5,\n",
    "    document_6,\n",
    "    document_7,\n",
    "    document_8,\n",
    "    document_9,\n",
    "    document_10,\n",
    "]\n",
    "uuids = [str(uuid4()) for _ in range(len(documents))]\n",
    "\n",
    "elastic_vector_search.add_documents(documents=documents, ids=uuids)"
   ]
  },
  {
   "cell_type": "code",
   "execution_count": 48,
   "metadata": {},
   "outputs": [],
   "source": [
    "from pydantic import BaseModel\n",
    "class QueryResponse(BaseModel):\n",
    "    answer: str"
   ]
  },
  {
   "cell_type": "code",
   "execution_count": 54,
   "metadata": {},
   "outputs": [
    {
     "data": {
      "text/plain": [
       "QueryResponse(answer='test')"
      ]
     },
     "execution_count": 54,
     "metadata": {},
     "output_type": "execute_result"
    }
   ],
   "source": [
    "QueryResponse(answer=\"test\")"
   ]
  },
  {
   "cell_type": "code",
   "execution_count": 53,
   "metadata": {},
   "outputs": [
    {
     "data": {
      "text/plain": [
       "'test'"
      ]
     },
     "execution_count": 53,
     "metadata": {},
     "output_type": "execute_result"
    }
   ],
   "source": [
    "QueryResponse(answer=\"test\").answer"
   ]
  },
  {
   "cell_type": "code",
   "execution_count": 25,
   "metadata": {},
   "outputs": [
    {
     "name": "stdout",
     "output_type": "stream",
     "text": [
      "* 개인정보 보호법은 개인정보의 수집, 사용, 제공, 관리, 보호 등에 관한 사항을 규정합니다. [{'source': '법률'}]\n",
      "* 개인정보 보호법에 따라 개인정보 수집 시에는 반드시 이용자의 동의를 받아야 합니다. [{'source': '법률'}]\n"
     ]
    }
   ],
   "source": [
    "results = elastic_vector_search.similarity_search(\n",
    "    query=\"개인정보란?\",\n",
    "    k=2,\n",
    "    filter=[{\"term\": {\"metadata.source.keyword\": \"법률\"}}],\n",
    ")\n",
    "for res in results:\n",
    "    print(f\"* {res.page_content} [{res.metadata}]\")"
   ]
  },
  {
   "cell_type": "code",
   "execution_count": 32,
   "metadata": {},
   "outputs": [
    {
     "data": {
      "text/plain": [
       "[Document(metadata={'source': '법률'}, page_content='개인정보 보호법은 개인정보의 수집, 사용, 제공, 관리, 보호 등에 관한 사항을 규정합니다.'),\n",
       " Document(metadata={'source': '법률'}, page_content='개인정보 보호법에 따라 개인정보 수집 시에는 반드시 이용자의 동의를 받아야 합니다.'),\n",
       " Document(metadata={'source': '법률'}, page_content='개인정보의 수집과 이용 목적이 달성되면 지체 없이 해당 개인정보를 파기해야 합니다.'),\n",
       " Document(metadata={'source': '법률'}, page_content='개인정보의 안전성 확보를 위해 암호화, 접근제한, 접속이력 관리 등의 기술적 조치를 취해야 합니다.')]"
      ]
     },
     "execution_count": 32,
     "metadata": {},
     "output_type": "execute_result"
    }
   ],
   "source": [
    "retriever = elastic_vector_search.as_retriever(\n",
    "    search_type=\"similarity_score_threshold\", search_kwargs={\"score_threshold\": 0.2}\n",
    ")\n",
    "retriever.invoke(\"개인정보란?\")"
   ]
  },
  {
   "cell_type": "code",
   "execution_count": 27,
   "metadata": {},
   "outputs": [
    {
     "name": "stdout",
     "output_type": "stream",
     "text": [
      "* [SIM=0.871169] 개인정보의 수집과 이용 목적이 달성되면 지체 없이 해당 개인정보를 파기해야 합니다. [{'source': '법률'}]\n"
     ]
    }
   ],
   "source": [
    "results = elastic_vector_search.similarity_search_with_score(\n",
    "    query=\"Will it be hot tomorrow\",\n",
    "    k=1,\n",
    "    filter=[{\"term\": {\"metadata.source.keyword\": \"법률\"}}],\n",
    ")\n",
    "for doc, score in results:\n",
    "    print(f\"* [SIM={score:3f}] {doc.page_content} [{doc.metadata}]\")"
   ]
  },
  {
   "cell_type": "code",
   "execution_count": 55,
   "metadata": {},
   "outputs": [],
   "source": [
    "\n",
    "retriever = elastic_vector_search.as_retriever(\n",
    "    search_type=\"similarity_score_threshold\", \n",
    "    search_kwargs={\"score_threshold\": 0.2}\n",
    ")"
   ]
  },
  {
   "cell_type": "code",
   "execution_count": 57,
   "metadata": {},
   "outputs": [
    {
     "data": {
      "text/plain": [
       "[Document(metadata={'source': '법률'}, page_content='개인정보 보호법은 개인정보의 수집, 사용, 제공, 관리, 보호 등에 관한 사항을 규정합니다.'),\n",
       " Document(metadata={'source': '법률'}, page_content='개인정보 보호법은 개인정보의 수집, 사용, 제공, 관리, 보호 등에 관한 사항을 규정합니다.'),\n",
       " Document(metadata={'source': '법률'}, page_content='개인정보 보호법에 따라 개인정보 수집 시에는 반드시 이용자의 동의를 받아야 합니다.'),\n",
       " Document(metadata={'source': '법률'}, page_content='개인정보 보호법에 따라 개인정보 수집 시에는 반드시 이용자의 동의를 받아야 합니다.')]"
      ]
     },
     "execution_count": 57,
     "metadata": {},
     "output_type": "execute_result"
    }
   ],
   "source": [
    "retriever.invoke(\"개인정보\")"
   ]
  },
  {
   "cell_type": "code",
   "execution_count": null,
   "metadata": {},
   "outputs": [],
   "source": []
  }
 ],
 "metadata": {
  "kernelspec": {
   "display_name": ".venv",
   "language": "python",
   "name": "python3"
  },
  "language_info": {
   "codemirror_mode": {
    "name": "ipython",
    "version": 3
   },
   "file_extension": ".py",
   "mimetype": "text/x-python",
   "name": "python",
   "nbconvert_exporter": "python",
   "pygments_lexer": "ipython3",
   "version": "3.11.2"
  }
 },
 "nbformat": 4,
 "nbformat_minor": 2
}
