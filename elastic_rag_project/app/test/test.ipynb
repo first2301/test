{
 "cells": [
  {
   "cell_type": "code",
   "execution_count": 17,
   "metadata": {},
   "outputs": [],
   "source": [
    "from langchain_community.vectorstores import ElasticsearchStore\n",
    "from langchain_community.embeddings import HuggingFaceEmbeddings\n",
    "\n",
    "import os\n",
    "\n",
    "# Embedding model configuration\n",
    "EMBEDDING_MODEL_PATH = \"F:\\\\chat_test\\\\ai_models\\\\intfloat\\\\multilingual-e5-large-instruct\"\n",
    "EMBEDDING_MODEL_CACHE_DIR = \"F:\\\\chat_test\\\\ai_models\\intfloat\\\\multilingual-e5-large-instruct\"\n",
    "\n",
    "# Elasticsearch configuration\n",
    "ELASTICSEARCH_URL = \"http://127.0.0.1:9200\"\n",
    "\n",
    "\n",
    "embeddings = HuggingFaceEmbeddings(\n",
    "    model_name=EMBEDDING_MODEL_PATH,\n",
    "    cache_folder=EMBEDDING_MODEL_CACHE_DIR,\n",
    "    model_kwargs={\"device\": \"cpu\"},                    # GPU 사용 안함\n",
    "    encode_kwargs={\"normalize_embeddings\": True}       # 임베딩 정규화 (권장)\n",
    ")\n",
    "\n",
    "elastic_vector_search = ElasticsearchStore(\n",
    "    index_name=\"documents\",\n",
    "    embedding=embeddings,\n",
    "    es_url=ELASTICSEARCH_URL,\n",
    "    es_user=\"elastic\",  # 보안이 비활성화된 경우\n",
    "    es_password=\"elastic\",  # 보안이 비활성화된 경우\n",
    ")"
   ]
  },
  {
   "cell_type": "code",
   "execution_count": 19,
   "metadata": {},
   "outputs": [
    {
     "data": {
      "text/plain": [
       "['4192d0d1-86a7-4d76-8aff-b54c0a5a1d21',\n",
       " '5d0bc587-66f5-4126-afba-19bce252992e',\n",
       " 'd5281930-da46-4893-b152-efa635ba8da9',\n",
       " 'cede6be0-bdbb-44b7-969c-3c5d43d6abd4',\n",
       " '4164b984-7889-40f5-bbad-ec3802edae3d',\n",
       " '8dd71e17-cba0-4b5e-9eef-05f9fd870b30',\n",
       " '4725733b-733b-4043-b1fd-82c1f80a529e',\n",
       " '1f901ebe-d10a-4350-b758-249304a6d47d',\n",
       " '84c2d457-73b0-4adf-9532-ae41d78252d5',\n",
       " '745acdcf-564b-43e1-9554-aacd643c3dc0']"
      ]
     },
     "execution_count": 19,
     "metadata": {},
     "output_type": "execute_result"
    }
   ],
   "source": [
    "from uuid import uuid4\n",
    "from langchain_core.documents import Document\n",
    "\n",
    "document_1 = Document(\n",
    "    page_content=\"개인정보 보호법에 따라 개인정보 수집 시에는 반드시 이용자의 동의를 받아야 합니다.\",\n",
    "    metadata={\"source\": \"법률\"},\n",
    ")\n",
    "\n",
    "document_2 = Document(\n",
    "    page_content=\"개인정보 유출 시에는 지체 없이 해당 사실을 이용자에게 알리고 대통령령으로 정하는 바에 따라 조치한 결과를 이용자에게 알려야 합니다.\",\n",
    "    metadata={\"source\": \"법률\"},\n",
    ")\n",
    "\n",
    "document_3 = Document(\n",
    "    page_content=\"개인정보 보호책임자는 개인정보 처리에 관한 법률 및 이 법의 준비와 집행을 맡는 이사 또는 이와 동등한 임원으로 지정하여야 합니다.\",\n",
    "    metadata={\"source\": \"법률\"},\n",
    ")\n",
    "\n",
    "document_4 = Document(\n",
    "    page_content=\"개인정보의 수집과 이용 목적이 달성되면 지체 없이 해당 개인정보를 파기해야 합니다.\",\n",
    "    metadata={\"source\": \"법률\"},\n",
    ")\n",
    "\n",
    "document_5 = Document(\n",
    "    page_content=\"개인정보의 안전성 확보를 위해 암호화, 접근제한, 접속이력 관리 등의 기술적 조치를 취해야 합니다.\",\n",
    "    metadata={\"source\": \"법률\"},\n",
    ")\n",
    "\n",
    "document_6 = Document(\n",
    "    page_content=\"개인정보 보호법 위반 시 5년 이하의 징역 또는 5천만원 이하의 벌금이 부과될 수 있습니다.\",\n",
    "    metadata={\"source\": \"법률\"},\n",
    ")\n",
    "\n",
    "document_7 = Document(\n",
    "    page_content=\"개인정보의 수집과 이용에 대한 동의는 구체적이고 명확한 목적을 제시한 후 받아야 합니다.\",\n",
    "    metadata={\"source\": \"법률\"},\n",
    ")\n",
    "\n",
    "document_8 = Document(\n",
    "    page_content=\"개인정보 보호법은 개인정보의 수집, 사용, 제공, 관리, 보호 등에 관한 사항을 규정합니다.\",\n",
    "    metadata={\"source\": \"법률\"},\n",
    ")\n",
    "\n",
    "document_9 = Document(\n",
    "    page_content=\"개인정보 보호책임자는 개인정보 처리방침의 수립과 공개, 개인정보 보호 교육 등을 수행합니다.\",\n",
    "    metadata={\"source\": \"법률\"},\n",
    ")\n",
    "\n",
    "document_10 = Document(\n",
    "    page_content=\"개인정보의 수집과 이용에 대한 동의는 이용자가 쉽게 인지하고 선택할 수 있도록 명확하게 표시해야 합니다.\",\n",
    "    metadata={\"source\": \"법률\"},\n",
    ")\n",
    "\n",
    "documents = [\n",
    "    document_1,\n",
    "    document_2,\n",
    "    document_3,\n",
    "    document_4,\n",
    "    document_5,\n",
    "    document_6,\n",
    "    document_7,\n",
    "    document_8,\n",
    "    document_9,\n",
    "    document_10,\n",
    "]\n",
    "uuids = [str(uuid4()) for _ in range(len(documents))]\n",
    "\n",
    "elastic_vector_search.add_documents(documents=documents, ids=uuids)"
   ]
  },
  {
   "cell_type": "code",
   "execution_count": 25,
   "metadata": {},
   "outputs": [
    {
     "name": "stdout",
     "output_type": "stream",
     "text": [
      "* 개인정보 보호법은 개인정보의 수집, 사용, 제공, 관리, 보호 등에 관한 사항을 규정합니다. [{'source': '법률'}]\n",
      "* 개인정보 보호법에 따라 개인정보 수집 시에는 반드시 이용자의 동의를 받아야 합니다. [{'source': '법률'}]\n"
     ]
    }
   ],
   "source": [
    "results = elastic_vector_search.similarity_search(\n",
    "    query=\"개인정보란?\",\n",
    "    k=2,\n",
    "    filter=[{\"term\": {\"metadata.source.keyword\": \"법률\"}}],\n",
    ")\n",
    "for res in results:\n",
    "    print(f\"* {res.page_content} [{res.metadata}]\")"
   ]
  },
  {
   "cell_type": "code",
   "execution_count": 32,
   "metadata": {},
   "outputs": [
    {
     "data": {
      "text/plain": [
       "[Document(metadata={'source': '법률'}, page_content='개인정보 보호법은 개인정보의 수집, 사용, 제공, 관리, 보호 등에 관한 사항을 규정합니다.'),\n",
       " Document(metadata={'source': '법률'}, page_content='개인정보 보호법에 따라 개인정보 수집 시에는 반드시 이용자의 동의를 받아야 합니다.'),\n",
       " Document(metadata={'source': '법률'}, page_content='개인정보의 수집과 이용 목적이 달성되면 지체 없이 해당 개인정보를 파기해야 합니다.'),\n",
       " Document(metadata={'source': '법률'}, page_content='개인정보의 안전성 확보를 위해 암호화, 접근제한, 접속이력 관리 등의 기술적 조치를 취해야 합니다.')]"
      ]
     },
     "execution_count": 32,
     "metadata": {},
     "output_type": "execute_result"
    }
   ],
   "source": [
    "retriever = elastic_vector_search.as_retriever(\n",
    "    search_type=\"similarity_score_threshold\", search_kwargs={\"score_threshold\": 0.2}\n",
    ")\n",
    "retriever.invoke(\"개인정보란?\")"
   ]
  },
  {
   "cell_type": "code",
   "execution_count": 27,
   "metadata": {},
   "outputs": [
    {
     "name": "stdout",
     "output_type": "stream",
     "text": [
      "* [SIM=0.871169] 개인정보의 수집과 이용 목적이 달성되면 지체 없이 해당 개인정보를 파기해야 합니다. [{'source': '법률'}]\n"
     ]
    }
   ],
   "source": [
    "results = elastic_vector_search.similarity_search_with_score(\n",
    "    query=\"Will it be hot tomorrow\",\n",
    "    k=1,\n",
    "    filter=[{\"term\": {\"metadata.source.keyword\": \"법률\"}}],\n",
    ")\n",
    "for doc, score in results:\n",
    "    print(f\"* [SIM={score:3f}] {doc.page_content} [{doc.metadata}]\")"
   ]
  },
  {
   "cell_type": "code",
   "execution_count": null,
   "metadata": {},
   "outputs": [],
   "source": []
  }
 ],
 "metadata": {
  "kernelspec": {
   "display_name": ".venv",
   "language": "python",
   "name": "python3"
  },
  "language_info": {
   "codemirror_mode": {
    "name": "ipython",
    "version": 3
   },
   "file_extension": ".py",
   "mimetype": "text/x-python",
   "name": "python",
   "nbconvert_exporter": "python",
   "pygments_lexer": "ipython3",
   "version": "3.11.2"
  }
 },
 "nbformat": 4,
 "nbformat_minor": 2
}
