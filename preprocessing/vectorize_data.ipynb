{
 "cells": [
  {
   "cell_type": "code",
   "execution_count": 1,
   "id": "b2f6d054",
   "metadata": {},
   "outputs": [
    {
     "name": "stdout",
     "output_type": "stream",
     "text": [
      "True\n",
      "NVIDIA A100-SXM4-80GB\n"
     ]
    }
   ],
   "source": [
    "import torch\n",
    "print(torch.cuda.is_available())\n",
    "print(torch.cuda.get_device_name(0))\n"
   ]
  },
  {
   "cell_type": "code",
   "execution_count": 1,
   "id": "272202b4",
   "metadata": {},
   "outputs": [],
   "source": [
    "from langchain_community.vectorstores import FAISS\n",
    "# from langchain.embeddings import HuggingFaceEmbeddings\n",
    "from langchain_huggingface import HuggingFaceEmbeddings\n",
    "from langchain_community.document_loaders.csv_loader import CSVLoader\n",
    "\n",
    "# CSV 로더 생성\n",
    "\n",
    "LLM_MODEL_PATH = \"../ai_models/llama-3.2-Korean-Bllossom-3B-gguf-Q4_K_M/llama-3.2-Korean-Bllossom-3B-gguf-Q4_K_M.gguf\"\n",
    "EMBEDDING_MODEL_PATH = \"../ai_models/intfloat/multilingual-e5-large-instruct\"  # 또는 로컬 모델 경로\n",
    "VECTORSTORE_PATH = \"../data/vectorstore/faiss_index\" \n",
    "\n",
    "\n",
    "path = \"../data/csv/한국인터넷진흥원_개인정보포털 상황별 FAQ정보_20240731.csv\"\n",
    "loader = CSVLoader(file_path=path, encoding=\"utf-8\")\n"
   ]
  },
  {
   "cell_type": "code",
   "execution_count": 5,
   "id": "9132ced8",
   "metadata": {},
   "outputs": [],
   "source": [
    "csv_docs = loader.load()\n",
    "\n",
    "# 임베딩 모델 생성\n",
    "embedding_model = HuggingFaceEmbeddings(model_name=EMBEDDING_MODEL_PATH)\n",
    "\n",
    "# 문서 텍스트 추출 (Document 객체라면 .page_content 사용)\n",
    "texts = [doc.page_content for doc in csv_docs]\n",
    "\n",
    "# FAISS 인덱스 생성\n",
    "vectorstore = FAISS.from_texts(texts, embedding_model)\n",
    "\n",
    "# 인덱스 저장\n",
    "vectorstore.save_local(\"../data/vectorstore/faiss_index\")\n"
   ]
  },
  {
   "cell_type": "code",
   "execution_count": 6,
   "id": "302cc7b0",
   "metadata": {},
   "outputs": [],
   "source": [
    "embedding = HuggingFaceEmbeddings(\n",
    "    model_name=EMBEDDING_MODEL_PATH,\n",
    "    model_kwargs={\"device\": \"cpu\"},                    # GPU 사용 안함\n",
    "    encode_kwargs={\"normalize_embeddings\": True}       # 임베딩 정규화 (권장)\n",
    ")\n",
    "vectorstore = FAISS.load_local(VECTORSTORE_PATH, embedding, allow_dangerous_deserialization=True)"
   ]
  },
  {
   "cell_type": "code",
   "execution_count": 7,
   "id": "43077e0f",
   "metadata": {},
   "outputs": [],
   "source": [
    "retriever = vectorstore.as_retriever(search_kwargs={\"k\": 2})  # top-3 문서 검색"
   ]
  },
  {
   "cell_type": "code",
   "execution_count": 8,
   "id": "e62c6ebe",
   "metadata": {},
   "outputs": [
    {
     "name": "stderr",
     "output_type": "stream",
     "text": [
      "/tmp/ipykernel_3983422/2043201211.py:1: LangChainDeprecationWarning: The method `BaseRetriever.get_relevant_documents` was deprecated in langchain-core 0.1.46 and will be removed in 1.0. Use :meth:`~invoke` instead.\n",
      "  retriever.get_relevant_documents(\"개인정보 유출이란?\")  # 검색 쿼리\n"
     ]
    },
    {
     "data": {
      "text/plain": [
       "[Document(id='e75bbb95-17d5-4fa0-b228-d46a9206e5d7', metadata={}, page_content='\\ufeff처리상황단계내용: 안전성확보조치\\n적용분야내용: 시스템 분야\\n개인정보유형내용: 일반정보\\n코드제목: 홈페이지 방문객이 게시판에 스스로 본인의 개인정보를 게시했다면?\\n주제내용: 정보주체가 자신의 개인정보를 인터넷 게시판에 게재하는 경우 조치 방법\\n문제상황내용: 협회에서는 홈페이지를 운영하고 있으나 별도의 회원가입 없이 누구나 자유롭게 게시판을 이용할 수 있도록 자유게시판을 운영하고 있습니다. 그런데 일부 홈페이지 이용자가 게시물에 자신의 성명, 전화번호, 이메일주소 등의 개인정보를 공개하는 경우가 있습니다. 이런 경우 개인정보가 유출되는 것은 아닌지 우려가 되고, 개인정보가 포함된 게시글을 삭제해야 하는지 고민이 됩니다.\\n질문: 개인이 본인의 개인정보가 포함된 게시물을 작성하여 게시판에 올린 경우 어떻게 처리해야 하나요?\\n해결방법내용: 홈페이지 운영자는 이용자가 작성한 게시물에 개인정보가 포함되어 있는 경우 개인정보의 추가적인 노출 및 타인에 의한 도용 등 2차적 피해를 예방하기 위하여  게시판 안내문을 통해 게시글에 개인정보가 포함되어 있는지 여부를 작성자가 확인하도록 하고, 개인정보 유출로 인한 피해가 있음을 알려줄 수 있습니다. 또한 고객이 부주의하게 게재한 개인정보는 고객의 의사를 확인하여 일부 마스킹 처리하거나 개인정보 입력을 사전에 차단할 수 있도록 ‘필터링 시스템’을 적용할 수 있습니다. 이와 같이 홈페이지 운영자는 최대한 개인정보 유출 방지를 위한 안전성 확보조치를 취하는 것이 바람직합니다.\\n결론내용: 홈페이지 이용자가 인터넷 게시판을 이용하면서 부주의로 자신의 개인정보를 게재하지 않도록 피해가능성 등에 대한 경고문을 사전에 안내하고, 개인정보 유출 방지를 위한 안전조치를 하여야 할 것입니다.\\n유사사례내용: FAQ_0000000000000748\\nfaq식별자: FAQ_0000000000000803\\n최종수정년월일시: 2013-10-11 21:01:49\\n조회수: 5385\\n임시: 안전성확보조치'),\n",
       " Document(id='1261b0d5-858b-4901-97e6-d640a3749a9d', metadata={}, page_content='\\ufeff처리상황단계내용: 위탁\\n적용분야내용: 공통분야\\n개인정보유형내용: 일반정보\\n코드제목: 수탁사에서 개인정보를 유출한 경우 위탁사는 아무책임 없다?\\n주제내용: 수탁회사의 잘못으로 개인정보가 유출된 경우 손해배상 책임\\n문제상황내용: A사는 자신들의 고객관리업무를 B사에 위탁하고 있습니다. 그런데 얼마 전 B사가 고객정보를 TM업체에 팔아넘겨 손해를 보았습니다. 이에 따라 A사에 개인정보 유출에 대한 손해배상을 청구하였으나, A사는 자신들의 책임이 아니라며 B사에 손해배상을 청구하라고 하며 손해배상을 거부했습니다.제가 회원가입을 한 곳은 A사인데 A사에서 아무런 책임이 없다고 하는 것이 이해가 되지 않습니다\\n질문: 유출 피해를 입은 정보주체는 가입회사(A)사에 손해배상을 청구할 수 없나요?\\n해결방법내용: 개인정보보호법 제26조에서는 위탁자는 수탁자가 개인정보를 안전하게 처리하는지를 감독하도록 하고 있고, 수탁자가 위탁받은 업무와 관련하여 개인정보보호법을 위반해 정보주체에게 손해를 발생시킨 경우 수탁자를 개인정보처리자의 소속 직원으로 보도록 하여 위탁자에게 사용자 책임을 부담하도록 하고 있습니다.민법상 사용자 책임은 부진정 연대채무로 손해를 입은 정보주체는 수탁자나 위탁자 중 선택하여 손해배상을 청구할 수 있습니다.\\n결론내용: 수탁자가 개인정보보호법을 위반해 정보주체에게 손해가 발생한 경우 정보주체는 위탁자(A사)에게 손해배상을 청구할 수 있습니다.\\n유사사례내용: FAQ_0000000000000774\\nfaq식별자: FAQ_0000000000000743\\n최종수정년월일시: 2013-10-02 10:05:22\\n조회수: 2697\\n임시: 위탁')]"
      ]
     },
     "execution_count": 8,
     "metadata": {},
     "output_type": "execute_result"
    }
   ],
   "source": [
    "retriever.get_relevant_documents(\"개인정보 유출이란?\")  # 검색 쿼리"
   ]
  },
  {
   "cell_type": "code",
   "execution_count": 10,
   "id": "e45886de",
   "metadata": {},
   "outputs": [
    {
     "name": "stdout",
     "output_type": "stream",
     "text": [
      "결과 1:\n",
      "﻿처리상황단계내용: 수집·이용\n",
      "적용분야내용: 공통분야\n",
      "개인정보유형내용: 일반정보\n",
      "코드제목: 법인이나 개인사업자 정보도 개인정보로 보호되어야 한다?\n",
      "주제내용: 법인 및 개인사업자 정보가 개인정보보호법상 개인정보에 해당 여부\n",
      "문제상황내용: 우리 회사는 업무 효율성을 높이기 위해 협력사 및 거래처에 대한 정보를 체계적으로 관리하려고 합니다. 회사에서 관리하고자 하는 정보는 법인 및 개인사업자의 사업자등록번호, 사업장 주소, 사업장 전화번호, 대표자 성명입니다.\n",
      "질문: 개인정보보호법에 따르면 개인정보는 살아 있는 개인에 대한 정보라고 정의 되어 있는데, 이러한 정보들이 개인정보에 해당되나요?\n",
      "해결방법내용: 개인정보보호법은 생존하고 있는 자연인에 대한 개인정보를 보호 대상으로 하고 있습니다. 자연인이 아닌 법인이나 사업체(개인사업자 포함)의 정보는 원칙적으로 개인정보보호법상 보호대상인 개인정보에 해당하지 않습니다.그러나 대표자의 성명이 법인이나 사업체의 정보로서가 아니라 자연인으로서의 개인정보로 처리되는 경우 또는 마케팅 목적으로 이용되는 경우에는 개인정보보호법에 따른 개인정보에 포함될 수 있습니다.\n",
      "결론내용: 법인이나 사업체의 정보인 사업장주소, 사업장전화번호, 대표자성명은 자연인으로서의 개인정보에 해당하지 않습니다\n",
      "유사사례내용: FAQ_0000000000000770\n",
      "faq식별자: FAQ_0000000000000784\n",
      "최종수정년월일시: 2013-10-07 10:45:47\n",
      "조회수: 11934\n",
      "임시: 수집·이용\n",
      "\n",
      "결과 2:\n",
      "﻿처리상황단계내용: 안전성확보조치\n",
      "적용분야내용: 시스템 분야\n",
      "개인정보유형내용: 일반정보\n",
      "코드제목: 홈페이지 방문객이 게시판에 스스로 본인의 개인정보를 게시했다면?\n",
      "주제내용: 정보주체가 자신의 개인정보를 인터넷 게시판에 게재하는 경우 조치 방법\n",
      "문제상황내용: 협회에서는 홈페이지를 운영하고 있으나 별도의 회원가입 없이 누구나 자유롭게 게시판을 이용할 수 있도록 자유게시판을 운영하고 있습니다. 그런데 일부 홈페이지 이용자가 게시물에 자신의 성명, 전화번호, 이메일주소 등의 개인정보를 공개하는 경우가 있습니다. 이런 경우 개인정보가 유출되는 것은 아닌지 우려가 되고, 개인정보가 포함된 게시글을 삭제해야 하는지 고민이 됩니다.\n",
      "질문: 개인이 본인의 개인정보가 포함된 게시물을 작성하여 게시판에 올린 경우 어떻게 처리해야 하나요?\n",
      "해결방법내용: 홈페이지 운영자는 이용자가 작성한 게시물에 개인정보가 포함되어 있는 경우 개인정보의 추가적인 노출 및 타인에 의한 도용 등 2차적 피해를 예방하기 위하여  게시판 안내문을 통해 게시글에 개인정보가 포함되어 있는지 여부를 작성자가 확인하도록 하고, 개인정보 유출로 인한 피해가 있음을 알려줄 수 있습니다. 또한 고객이 부주의하게 게재한 개인정보는 고객의 의사를 확인하여 일부 마스킹 처리하거나 개인정보 입력을 사전에 차단할 수 있도록 ‘필터링 시스템’을 적용할 수 있습니다. 이와 같이 홈페이지 운영자는 최대한 개인정보 유출 방지를 위한 안전성 확보조치를 취하는 것이 바람직합니다.\n",
      "결론내용: 홈페이지 이용자가 인터넷 게시판을 이용하면서 부주의로 자신의 개인정보를 게재하지 않도록 피해가능성 등에 대한 경고문을 사전에 안내하고, 개인정보 유출 방지를 위한 안전조치를 하여야 할 것입니다.\n",
      "유사사례내용: FAQ_0000000000000748\n",
      "faq식별자: FAQ_0000000000000803\n",
      "최종수정년월일시: 2013-10-11 21:01:49\n",
      "조회수: 5385\n",
      "임시: 안전성확보조치\n",
      "\n",
      "결과 3:\n",
      "﻿처리상황단계내용: 수집·이용\n",
      "적용분야내용: 공통분야\n",
      "개인정보유형내용: 일반정보\n",
      "코드제목: 만족도 조사를 위해 고객정보를 이용해도 된다?\n",
      "주제내용: 고객만족도 조사를 위해 고객의 개인정보 이용\n",
      "문제상황내용: 이태리음식 전문점인 저희 매장은 예약 고객을 대상으로 서비스가 제공되고 있으며, 예약접수 및 예약 확인을 위해 고객의 성명과 전화번호를 수집하고 있습니다. 예약 후 매장을 방문하여 서비스를 이용한 고객을 대상으로 예약담당자의 친절도와 서비스 이용의 만족도, 불만사항 및 개선사항 등을 알아보기 위하여 ‘만족도 조사’를 진행하려고 합니다. 그러나 아직 고객들로부터 만족도 조사에 대한 사전 동의를 받지는 않았습니다.\n",
      "질문: 고객만족도를 조사하기 위하여 예약접수 시 수집한 고객의 연락처를 이용해도 되는지요?\n",
      "해결방법내용: 개인정보보호법 제15조제1항제4호에 따라 계약의 체결 및 이행을 위하여 불가피한 경우 정보주체의 동의 없이 개인정보를 수집·이용할 수 있습니다. 서비스 이용자의 만족도 조사는 서비스계약의 일부에 해당하므로, 매장은 예약접수 시 수집한 개인정보를 이용하여 고객만족도 조사를 실시할 수 있으며, 고객의 동의는 필요하지 않습니다.  다만, 고객이 원하지 않거나 자신의 개인정보를 처리정지 및 파기하기를 요청하는 경우에는 지체 없이 필요한 조치를 취하여야 합니다. 또한 수집한 고객의 개인정보를 홍보나 마케팅에 이용하기 위해서는 고객의 별도의 동의를 받아야 합니다.\n",
      "결론내용: 해당 서비스 이용자의 만족도 조사를 위해 예약접수 시 수집한 고객의 연락처를 이용할 때는 정보주체의 동의를 받지 않아도 됩니다.\n",
      "유사사례내용: FAQ_0000000000000799,FAQ_0000000000000819\n",
      "faq식별자: FAQ_0000000000000783\n",
      "최종수정년월일시: 2013-10-02 11:40:21\n",
      "조회수: 3732\n",
      "임시: 수집·이용\n",
      "\n"
     ]
    }
   ],
   "source": [
    "# 검색 쿼리 입력\n",
    "query = \"개인정보\"\n",
    "\n",
    "# top-k 유사 문서 검색\n",
    "docs = vectorstore.similarity_search(query, k=3)\n",
    "\n",
    "# 결과 출력\n",
    "for i, doc in enumerate(docs):\n",
    "    print(f\"결과 {i+1}:\\n{doc.page_content}\\n\")\n"
   ]
  },
  {
   "cell_type": "code",
   "execution_count": null,
   "id": "d691c325",
   "metadata": {},
   "outputs": [],
   "source": []
  }
 ],
 "metadata": {
  "kernelspec": {
   "display_name": ".venv",
   "language": "python",
   "name": "python3"
  },
  "language_info": {
   "codemirror_mode": {
    "name": "ipython",
    "version": 3
   },
   "file_extension": ".py",
   "mimetype": "text/x-python",
   "name": "python",
   "nbconvert_exporter": "python",
   "pygments_lexer": "ipython3",
   "version": "3.11.4"
  }
 },
 "nbformat": 4,
 "nbformat_minor": 5
}
