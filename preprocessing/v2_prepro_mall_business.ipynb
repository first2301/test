{
 "cells": [
  {
   "cell_type": "markdown",
   "id": "7cbea769",
   "metadata": {},
   "source": [
    "# Small_Bussiness_Customer_Order_QnA\n",
    "- train data: 2303354\n",
    "- validation data: 295153"
   ]
  },
  {
   "cell_type": "code",
   "execution_count": 3,
   "id": "921a5c02",
   "metadata": {},
   "outputs": [
    {
     "name": "stderr",
     "output_type": "stream",
     "text": [
      "  0%|          | 0/14 [00:00<?, ?it/s]/tmp/ipykernel_521601/2799918030.py:17: FutureWarning: A value is trying to be set on a copy of a DataFrame or Series through chained assignment using an inplace method.\n",
      "The behavior will change in pandas 3.0. This inplace method will never work because the intermediate object on which we are setting values always behaves as a copy.\n",
      "\n",
      "For example, when doing 'df[col].method(value, inplace=True)', try using 'df.method({col: value}, inplace=True)' or df[col] = df[col].method(value) instead, to perform the operation inplace on the original object.\n",
      "\n",
      "\n",
      "  df_processed[\"QA여부\"].replace({\"q\": \"user\", \"a\": \"system\"}, inplace=True)\n",
      "  7%|▋         | 1/14 [00:02<00:28,  2.16s/it]"
     ]
    },
    {
     "name": "stdout",
     "output_type": "stream",
     "text": [
      "✅ 가구인테리어_validation.jsonl 저장 완료! 총 31963개 대화\n"
     ]
    },
    {
     "name": "stderr",
     "output_type": "stream",
     "text": [
      "/tmp/ipykernel_521601/2799918030.py:17: FutureWarning: A value is trying to be set on a copy of a DataFrame or Series through chained assignment using an inplace method.\n",
      "The behavior will change in pandas 3.0. This inplace method will never work because the intermediate object on which we are setting values always behaves as a copy.\n",
      "\n",
      "For example, when doing 'df[col].method(value, inplace=True)', try using 'df.method({col: value}, inplace=True)' or df[col] = df[col].method(value) instead, to perform the operation inplace on the original object.\n",
      "\n",
      "\n",
      "  df_processed[\"QA여부\"].replace({\"q\": \"user\", \"a\": \"system\"}, inplace=True)\n",
      " 14%|█▍        | 2/14 [00:02<00:15,  1.30s/it]"
     ]
    },
    {
     "name": "stdout",
     "output_type": "stream",
     "text": [
      "✅ 건강_validation.jsonl 저장 완료! 총 10240개 대화\n"
     ]
    },
    {
     "name": "stderr",
     "output_type": "stream",
     "text": [
      "/tmp/ipykernel_521601/2799918030.py:17: FutureWarning: A value is trying to be set on a copy of a DataFrame or Series through chained assignment using an inplace method.\n",
      "The behavior will change in pandas 3.0. This inplace method will never work because the intermediate object on which we are setting values always behaves as a copy.\n",
      "\n",
      "For example, when doing 'df[col].method(value, inplace=True)', try using 'df.method({col: value}, inplace=True)' or df[col] = df[col].method(value) instead, to perform the operation inplace on the original object.\n",
      "\n",
      "\n",
      "  df_processed[\"QA여부\"].replace({\"q\": \"user\", \"a\": \"system\"}, inplace=True)\n",
      " 21%|██▏       | 3/14 [00:03<00:11,  1.02s/it]"
     ]
    },
    {
     "name": "stdout",
     "output_type": "stream",
     "text": [
      "✅ 기타_validation.jsonl 저장 완료! 총 9965개 대화\n"
     ]
    },
    {
     "name": "stderr",
     "output_type": "stream",
     "text": [
      "/tmp/ipykernel_521601/2799918030.py:30: DtypeWarning: Columns (14) have mixed types. Specify dtype option on import or set low_memory=False.\n",
      "  df = process_df(pd.read_csv(path))\n",
      "/tmp/ipykernel_521601/2799918030.py:17: FutureWarning: A value is trying to be set on a copy of a DataFrame or Series through chained assignment using an inplace method.\n",
      "The behavior will change in pandas 3.0. This inplace method will never work because the intermediate object on which we are setting values always behaves as a copy.\n",
      "\n",
      "For example, when doing 'df[col].method(value, inplace=True)', try using 'df.method({col: value}, inplace=True)' or df[col] = df[col].method(value) instead, to perform the operation inplace on the original object.\n",
      "\n",
      "\n",
      "  df_processed[\"QA여부\"].replace({\"q\": \"user\", \"a\": \"system\"}, inplace=True)\n",
      " 29%|██▊       | 4/14 [00:06<00:19,  1.91s/it]"
     ]
    },
    {
     "name": "stdout",
     "output_type": "stream",
     "text": [
      "✅ 디지털가전_validation.jsonl 저장 완료! 총 47231개 대화\n"
     ]
    },
    {
     "name": "stderr",
     "output_type": "stream",
     "text": [
      "/tmp/ipykernel_521601/2799918030.py:17: FutureWarning: A value is trying to be set on a copy of a DataFrame or Series through chained assignment using an inplace method.\n",
      "The behavior will change in pandas 3.0. This inplace method will never work because the intermediate object on which we are setting values always behaves as a copy.\n",
      "\n",
      "For example, when doing 'df[col].method(value, inplace=True)', try using 'df.method({col: value}, inplace=True)' or df[col] = df[col].method(value) instead, to perform the operation inplace on the original object.\n",
      "\n",
      "\n",
      "  df_processed[\"QA여부\"].replace({\"q\": \"user\", \"a\": \"system\"}, inplace=True)\n",
      " 36%|███▌      | 5/14 [00:07<00:12,  1.42s/it]"
     ]
    },
    {
     "name": "stdout",
     "output_type": "stream",
     "text": [
      "✅ 병원_validation.jsonl 저장 완료! 총 8159개 대화\n"
     ]
    },
    {
     "name": "stderr",
     "output_type": "stream",
     "text": [
      "/tmp/ipykernel_521601/2799918030.py:17: FutureWarning: A value is trying to be set on a copy of a DataFrame or Series through chained assignment using an inplace method.\n",
      "The behavior will change in pandas 3.0. This inplace method will never work because the intermediate object on which we are setting values always behaves as a copy.\n",
      "\n",
      "For example, when doing 'df[col].method(value, inplace=True)', try using 'df.method({col: value}, inplace=True)' or df[col] = df[col].method(value) instead, to perform the operation inplace on the original object.\n",
      "\n",
      "\n",
      "  df_processed[\"QA여부\"].replace({\"q\": \"user\", \"a\": \"system\"}, inplace=True)\n",
      " 43%|████▎     | 6/14 [00:08<00:10,  1.31s/it]"
     ]
    },
    {
     "name": "stdout",
     "output_type": "stream",
     "text": [
      "✅ 뷰티_validation.jsonl 저장 완료! 총 16065개 대화\n"
     ]
    },
    {
     "name": "stderr",
     "output_type": "stream",
     "text": [
      "/tmp/ipykernel_521601/2799918030.py:17: FutureWarning: A value is trying to be set on a copy of a DataFrame or Series through chained assignment using an inplace method.\n",
      "The behavior will change in pandas 3.0. This inplace method will never work because the intermediate object on which we are setting values always behaves as a copy.\n",
      "\n",
      "For example, when doing 'df[col].method(value, inplace=True)', try using 'df.method({col: value}, inplace=True)' or df[col] = df[col].method(value) instead, to perform the operation inplace on the original object.\n",
      "\n",
      "\n",
      "  df_processed[\"QA여부\"].replace({\"q\": \"user\", \"a\": \"system\"}, inplace=True)\n",
      " 50%|█████     | 7/14 [00:11<00:12,  1.81s/it]"
     ]
    },
    {
     "name": "stdout",
     "output_type": "stream",
     "text": [
      "✅ 생활잡화_validation.jsonl 저장 완료! 총 41651개 대화\n"
     ]
    },
    {
     "name": "stderr",
     "output_type": "stream",
     "text": [
      "/tmp/ipykernel_521601/2799918030.py:17: FutureWarning: A value is trying to be set on a copy of a DataFrame or Series through chained assignment using an inplace method.\n",
      "The behavior will change in pandas 3.0. This inplace method will never work because the intermediate object on which we are setting values always behaves as a copy.\n",
      "\n",
      "For example, when doing 'df[col].method(value, inplace=True)', try using 'df.method({col: value}, inplace=True)' or df[col] = df[col].method(value) instead, to perform the operation inplace on the original object.\n",
      "\n",
      "\n",
      "  df_processed[\"QA여부\"].replace({\"q\": \"user\", \"a\": \"system\"}, inplace=True)\n",
      " 57%|█████▋    | 8/14 [00:12<00:09,  1.59s/it]"
     ]
    },
    {
     "name": "stdout",
     "output_type": "stream",
     "text": [
      "✅ 슈퍼_validation.jsonl 저장 완료! 총 17504개 대화\n"
     ]
    },
    {
     "name": "stderr",
     "output_type": "stream",
     "text": [
      "/tmp/ipykernel_521601/2799918030.py:17: FutureWarning: A value is trying to be set on a copy of a DataFrame or Series through chained assignment using an inplace method.\n",
      "The behavior will change in pandas 3.0. This inplace method will never work because the intermediate object on which we are setting values always behaves as a copy.\n",
      "\n",
      "For example, when doing 'df[col].method(value, inplace=True)', try using 'df.method({col: value}, inplace=True)' or df[col] = df[col].method(value) instead, to perform the operation inplace on the original object.\n",
      "\n",
      "\n",
      "  df_processed[\"QA여부\"].replace({\"q\": \"user\", \"a\": \"system\"}, inplace=True)\n",
      " 64%|██████▍   | 9/14 [00:14<00:08,  1.69s/it]"
     ]
    },
    {
     "name": "stdout",
     "output_type": "stream",
     "text": [
      "✅ 식품_validation.jsonl 저장 완료! 총 27690개 대화\n"
     ]
    },
    {
     "name": "stderr",
     "output_type": "stream",
     "text": [
      "/tmp/ipykernel_521601/2799918030.py:30: DtypeWarning: Columns (8,9,10,12,13) have mixed types. Specify dtype option on import or set low_memory=False.\n",
      "  df = process_df(pd.read_csv(path))\n",
      "/tmp/ipykernel_521601/2799918030.py:17: FutureWarning: A value is trying to be set on a copy of a DataFrame or Series through chained assignment using an inplace method.\n",
      "The behavior will change in pandas 3.0. This inplace method will never work because the intermediate object on which we are setting values always behaves as a copy.\n",
      "\n",
      "For example, when doing 'df[col].method(value, inplace=True)', try using 'df.method({col: value}, inplace=True)' or df[col] = df[col].method(value) instead, to perform the operation inplace on the original object.\n",
      "\n",
      "\n",
      "  df_processed[\"QA여부\"].replace({\"q\": \"user\", \"a\": \"system\"}, inplace=True)\n",
      " 71%|███████▏  | 10/14 [00:15<00:05,  1.49s/it]"
     ]
    },
    {
     "name": "stdout",
     "output_type": "stream",
     "text": [
      "✅ 음식점_validation.jsonl 저장 완료! 총 12100개 대화\n"
     ]
    },
    {
     "name": "stderr",
     "output_type": "stream",
     "text": [
      "/tmp/ipykernel_521601/2799918030.py:17: FutureWarning: A value is trying to be set on a copy of a DataFrame or Series through chained assignment using an inplace method.\n",
      "The behavior will change in pandas 3.0. This inplace method will never work because the intermediate object on which we are setting values always behaves as a copy.\n",
      "\n",
      "For example, when doing 'df[col].method(value, inplace=True)', try using 'df.method({col: value}, inplace=True)' or df[col] = df[col].method(value) instead, to perform the operation inplace on the original object.\n",
      "\n",
      "\n",
      "  df_processed[\"QA여부\"].replace({\"q\": \"user\", \"a\": \"system\"}, inplace=True)\n",
      " 79%|███████▊  | 11/14 [00:17<00:04,  1.57s/it]"
     ]
    },
    {
     "name": "stdout",
     "output_type": "stream",
     "text": [
      "✅ 의류_validation.jsonl 저장 완료! 총 26940개 대화\n"
     ]
    },
    {
     "name": "stderr",
     "output_type": "stream",
     "text": [
      "/tmp/ipykernel_521601/2799918030.py:17: FutureWarning: A value is trying to be set on a copy of a DataFrame or Series through chained assignment using an inplace method.\n",
      "The behavior will change in pandas 3.0. This inplace method will never work because the intermediate object on which we are setting values always behaves as a copy.\n",
      "\n",
      "For example, when doing 'df[col].method(value, inplace=True)', try using 'df.method({col: value}, inplace=True)' or df[col] = df[col].method(value) instead, to perform the operation inplace on the original object.\n",
      "\n",
      "\n",
      "  df_processed[\"QA여부\"].replace({\"q\": \"user\", \"a\": \"system\"}, inplace=True)\n",
      " 86%|████████▌ | 12/14 [00:18<00:03,  1.59s/it]"
     ]
    },
    {
     "name": "stdout",
     "output_type": "stream",
     "text": [
      "✅ 출산육아_validation.jsonl 저장 완료! 총 23099개 대화\n"
     ]
    },
    {
     "name": "stderr",
     "output_type": "stream",
     "text": [
      "/tmp/ipykernel_521601/2799918030.py:17: FutureWarning: A value is trying to be set on a copy of a DataFrame or Series through chained assignment using an inplace method.\n",
      "The behavior will change in pandas 3.0. This inplace method will never work because the intermediate object on which we are setting values always behaves as a copy.\n",
      "\n",
      "For example, when doing 'df[col].method(value, inplace=True)', try using 'df.method({col: value}, inplace=True)' or df[col] = df[col].method(value) instead, to perform the operation inplace on the original object.\n",
      "\n",
      "\n",
      "  df_processed[\"QA여부\"].replace({\"q\": \"user\", \"a\": \"system\"}, inplace=True)\n",
      " 93%|█████████▎| 13/14 [00:19<00:01,  1.32s/it]"
     ]
    },
    {
     "name": "stdout",
     "output_type": "stream",
     "text": [
      "✅ 카페_validation.jsonl 저장 완료! 총 9583개 대화\n"
     ]
    },
    {
     "name": "stderr",
     "output_type": "stream",
     "text": [
      "/tmp/ipykernel_521601/2799918030.py:17: FutureWarning: A value is trying to be set on a copy of a DataFrame or Series through chained assignment using an inplace method.\n",
      "The behavior will change in pandas 3.0. This inplace method will never work because the intermediate object on which we are setting values always behaves as a copy.\n",
      "\n",
      "For example, when doing 'df[col].method(value, inplace=True)', try using 'df.method({col: value}, inplace=True)' or df[col] = df[col].method(value) instead, to perform the operation inplace on the original object.\n",
      "\n",
      "\n",
      "  df_processed[\"QA여부\"].replace({\"q\": \"user\", \"a\": \"system\"}, inplace=True)\n",
      "100%|██████████| 14/14 [00:20<00:00,  1.45s/it]"
     ]
    },
    {
     "name": "stdout",
     "output_type": "stream",
     "text": [
      "✅ 패션_validation.jsonl 저장 완료! 총 12963개 대화\n"
     ]
    },
    {
     "name": "stderr",
     "output_type": "stream",
     "text": [
      "\n"
     ]
    }
   ],
   "source": [
    "import pandas as pd\n",
    "import json\n",
    "import os\n",
    "import glob\n",
    "from tqdm import tqdm\n",
    "\n",
    "# CSV 경로 정렬하여 수집\n",
    "# train_path = sorted(glob.glob(\"../data/Small_Business_Customer_Order_QnA/Training/라벨링데이터_train/*.csv\"))\n",
    "train_path = sorted(glob.glob(\"../data/Small_Business_Customer_Order_QnA/Validation/라벨링데이터_validation/*.csv\"))\n",
    "\n",
    "# CSV 파일명 추출\n",
    "csv_names = [os.path.splitext(os.path.basename(path))[0] for path in train_path]\n",
    "\n",
    "# 전처리 함수 정의\n",
    "def process_df(df: pd.DataFrame) -> pd.DataFrame:\n",
    "    df_processed = df[[\"QA여부\", \"발화문\"]].copy()\n",
    "    df_processed[\"QA여부\"].replace({\"q\": \"user\", \"a\": \"system\"}, inplace=True)\n",
    "    df_processed.dropna(inplace=True)\n",
    "    df_processed.reset_index(drop=True, inplace=True)\n",
    "    return df_processed\n",
    "\n",
    "# 디렉토리 생성\n",
    "# output_dir = \"../data/Small_Business_Customer_Order_QnA/Training/labeling_data_train_json\"\n",
    "output_dir = \"../data/Small_Business_Customer_Order_QnA/Validation/labeling_data_val_json\"\n",
    "\n",
    "os.makedirs(output_dir, exist_ok=True)\n",
    "\n",
    "# 각 CSV 파일 처리 및 jsonl 저장\n",
    "for path, name in tqdm(zip(train_path, csv_names), total=len(train_path)):\n",
    "    df = process_df(pd.read_csv(path))\n",
    "    all_conversations = []\n",
    "    current_dialogue = []\n",
    "\n",
    "    for _, row in df.iterrows():\n",
    "        role = row[\"QA여부\"]\n",
    "        content = row[\"발화문\"].strip()\n",
    "\n",
    "        if role not in [\"user\", \"system\"]:\n",
    "            continue\n",
    "\n",
    "        current_dialogue.append({\n",
    "            \"role\": role,\n",
    "            \"content\": content\n",
    "        })\n",
    "\n",
    "        if len(current_dialogue) >= 2 and \\\n",
    "           current_dialogue[-2][\"role\"] == \"user\" and current_dialogue[-1][\"role\"] == \"system\":\n",
    "            all_conversations.append({\"messages\": current_dialogue.copy()})\n",
    "            current_dialogue = []\n",
    "\n",
    "    output_path = os.path.join(output_dir, f\"{name}.jsonl\")\n",
    "    with open(output_path, \"w\", encoding=\"utf-8\") as f:\n",
    "        for convo in all_conversations:\n",
    "            f.write(json.dumps(convo, ensure_ascii=False) + \"\\n\")\n",
    "\n",
    "    print(f\"✅ {name}.jsonl 저장 완료! 총 {len(all_conversations)}개 대화\")\n"
   ]
  },
  {
   "cell_type": "code",
   "execution_count": null,
   "id": "00cb9ac1",
   "metadata": {},
   "outputs": [],
   "source": []
  }
 ],
 "metadata": {
  "kernelspec": {
   "display_name": ".venv",
   "language": "python",
   "name": "python3"
  },
  "language_info": {
   "codemirror_mode": {
    "name": "ipython",
    "version": 3
   },
   "file_extension": ".py",
   "mimetype": "text/x-python",
   "name": "python",
   "nbconvert_exporter": "python",
   "pygments_lexer": "ipython3",
   "version": "3.11.4"
  }
 },
 "nbformat": 4,
 "nbformat_minor": 5
}
