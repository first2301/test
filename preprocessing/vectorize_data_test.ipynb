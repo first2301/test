{
 "cells": [
  {
   "cell_type": "code",
   "execution_count": 3,
   "id": "6c78a32f",
   "metadata": {},
   "outputs": [],
   "source": [
    "import os\n",
    "os.environ[\"CUDA_VISIBLE_DEVICES\"] = \"3\""
   ]
  },
  {
   "cell_type": "code",
   "execution_count": 4,
   "id": "b2f6d054",
   "metadata": {},
   "outputs": [
    {
     "name": "stdout",
     "output_type": "stream",
     "text": [
      "True\n",
      "NVIDIA A100-SXM4-80GB\n",
      "3\n"
     ]
    }
   ],
   "source": [
    "import torch\n",
    "print(torch.cuda.is_available())\n",
    "print(torch.cuda.get_device_name(0))\n",
    "print((torch.cuda._get_nvml_device_index(0)))"
   ]
  },
  {
   "cell_type": "code",
   "execution_count": 14,
   "id": "272202b4",
   "metadata": {},
   "outputs": [],
   "source": [
    "from langchain_community.vectorstores import FAISS\n",
    "# from langchain.embeddings import HuggingFaceEmbeddings\n",
    "from langchain_huggingface import HuggingFaceEmbeddings\n",
    "from langchain_community.document_loaders.csv_loader import CSVLoader\n",
    "\n",
    "# CSV 로더 생성\n",
    "\n",
    "# LLM_MODEL_PATH = \"../ai_models/llama-3.2-Korean-Bllossom-3B-gguf-Q4_K_M/llama-3.2-Korean-Bllossom-3B-gguf-Q4_K_M.gguf\"\n",
    "# EMBEDDING_MODEL_PATH = \"../ai_models/base_models/intfloat/multilingual-e5-large-instruct\"  # 또는 로컬 모델 경로\n",
    "EMBEDDING_MODEL_PATH = \"../ai_models/base_models/BGE-m3-ko\"\n",
    "VECTORSTORE_PATH = \"../data/vectorstore/faiss_index\" \n",
    "\n",
    "\n",
    "# path = \"../data/csv/한국인터넷진흥원_개인정보포털 상황별 FAQ정보_20240731.csv\"\n",
    "# loader = CSVLoader(file_path=path, encoding=\"utf-8\")\n"
   ]
  },
  {
   "cell_type": "code",
   "execution_count": null,
   "id": "e357b068",
   "metadata": {},
   "outputs": [],
   "source": [
    "data_dir = \"../data/lcw99/wikipedia-korean-20240501-1million-qna\"\n",
    "from langchain_community.document_loaders import DirectoryLoader\n",
    "from langchain_community.document_loaders import ParquetLoader\n",
    "\n",
    "# Load all parquet files in directory\n",
    "loader = DirectoryLoader(\n",
    "    data_dir,\n",
    "    glob=\"/*.parquet\",\n",
    "    loader_cls=ParquetLoader\n",
    ")"
   ]
  },
  {
   "cell_type": "code",
   "execution_count": null,
   "id": "b1e520c4",
   "metadata": {},
   "outputs": [],
   "source": []
  },
  {
   "cell_type": "code",
   "execution_count": null,
   "id": "09ffd540",
   "metadata": {},
   "outputs": [],
   "source": []
  },
  {
   "cell_type": "code",
   "execution_count": 25,
   "id": "550b5c95",
   "metadata": {},
   "outputs": [
    {
     "name": "stdout",
     "output_type": "stream",
     "text": [
      "MTEBTasks(KorSTS(name='KorSTS', languages=['kor']),)\n"
     ]
    }
   ],
   "source": [
    "import mteb\n",
    "task = mteb.get_tasks(tasks=[\"KorSTS\"])\n",
    "print(task)"
   ]
  },
  {
   "cell_type": "code",
   "execution_count": 30,
   "id": "259f6056",
   "metadata": {},
   "outputs": [],
   "source": [
    "kor_lis = mteb.get_tasks(languages=[\"kor\"])"
   ]
  },
  {
   "cell_type": "code",
   "execution_count": 32,
   "id": "152d6efc",
   "metadata": {},
   "outputs": [
    {
     "name": "stdout",
     "output_type": "stream",
     "text": [
      "STS17MultilingualVisualSTSMultilingual(name='VisualSTS17Multilingual', languages=['ara', 'deu', 'eng', '...'])\n",
      "AutoRAGRetrieval(name='AutoRAGRetrieval', languages=['kor'])\n",
      "KoStrategyQA(name='Ko-StrategyQA', languages=['kor'])\n",
      "BelebeleRetrieval(name='BelebeleRetrieval', languages=['eng', 'kor'])\n",
      "MIRACLRetrieval(name='MIRACLRetrieval', languages=['kor'])\n",
      "MIRACLRetrievalHardNegatives(name='MIRACLRetrievalHardNegatives', languages=['kor'])\n",
      "MrTidyRetrieval(name='MrTidyRetrieval', languages=['kor'])\n",
      "MultiLongDocRetrieval(name='MultiLongDocRetrieval', languages=['kor'])\n",
      "PublicHealthQARetrieval(name='PublicHealthQA', languages=['kor'])\n",
      "WebFAQRetrieval(name='WebFAQRetrieval', languages=['kor'])\n",
      "XPQARetrieval(name='XPQARetrieval', languages=['eng', 'kor'])\n",
      "WITT2IRetrieval(name='WITT2IRetrieval', languages=['kor'])\n",
      "XM3600T2IRetrieval(name='XM3600T2IRetrieval', languages=['kor'])\n",
      "STS17MultilingualVisualSTS(name='STS17MultilingualVisualSTS', languages=['kor'])\n",
      "KlueTC(name='KLUE-TC', languages=['kor'])\n",
      "KorFin(name='KorFin', languages=['kor'])\n",
      "KorHateClassification(name='KorHateClassification', languages=['kor'])\n",
      "KorSarcasmClassification(name='KorSarcasmClassification', languages=['kor'])\n",
      "MassiveIntentClassification(name='MassiveIntentClassification', languages=['kor'])\n",
      "MassiveScenarioClassification(name='MassiveScenarioClassification', languages=['kor'])\n",
      "MultilingualSentimentClassification(name='MultilingualSentimentClassification', languages=['kor'])\n",
      "SIB200Classification(name='SIB200Classification', languages=['kor'])\n",
      "FloresBitextMining(name='FloresBitextMining', languages=['ace', 'acm', 'acq', '...'])\n",
      "IWSLT2017BitextMining(name='IWSLT2017BitextMining', languages=['eng', 'kor'])\n",
      "NTREXBitextMining(name='NTREXBitextMining', languages=['arb', 'ben', 'deu', '...'])\n",
      "TatoebaBitextMining(name='Tatoeba', languages=['eng', 'kor'])\n",
      "WebFAQBitextMiningQuestions(name='WebFAQBitextMiningQuestions', languages=['eng', 'jpn', 'kor', '...'])\n",
      "WebFAQBitextMiningQAs(name='WebFAQBitextMiningQAs', languages=['eng', 'jpn', 'kor', '...'])\n",
      "KlueMrcDomainClustering(name='KlueMrcDomainClustering', languages=['kor'])\n",
      "KlueYnatMrcCategoryClustering(name='KlueYnatMrcCategoryClustering', languages=['kor'])\n",
      "SIB200ClusteringFast(name='SIB200ClusteringS2S', languages=['kor'])\n",
      "KorHateSpeechMLClassification(name='KorHateSpeechMLClassification', languages=['kor'])\n",
      "KlueNLI(name='KLUE-NLI', languages=['kor'])\n",
      "PawsXPairClassification(name='PawsXPairClassification', languages=['kor'])\n",
      "PubChemWikiPairClassification(name='PubChemWikiPairClassification', languages=['eng', 'kor'])\n",
      "MIRACLReranking(name='MIRACLReranking', languages=['kor'])\n",
      "KlueSTS(name='KLUE-STS', languages=['kor'])\n",
      "KorSTS(name='KorSTS', languages=['kor'])\n",
      "STS17Crosslingual(name='STS17', languages=['kor'])\n"
     ]
    }
   ],
   "source": [
    "for i in kor_lis:\n",
    "    print(i)"
   ]
  },
  {
   "cell_type": "code",
   "execution_count": 19,
   "id": "3482718f",
   "metadata": {},
   "outputs": [
    {
     "name": "stderr",
     "output_type": "stream",
     "text": [
      "WARNING:mteb.model_meta:Loader not specified for model ../ai_models/base_models/BGE-m3-ko, loading using sentence transformers.\n"
     ]
    },
    {
     "data": {
      "text/html": [
       "<pre style=\"white-space:pre;overflow-x:auto;line-height:normal;font-family:Menlo,'DejaVu Sans Mono',consolas,'Courier New',monospace\"><span style=\"color: #262626; text-decoration-color: #262626\">───────────────────────────────────────────────── </span><span style=\"font-weight: bold\">Selected tasks </span><span style=\"color: #262626; text-decoration-color: #262626\"> ─────────────────────────────────────────────────</span>\n",
       "</pre>\n"
      ],
      "text/plain": [
       "\u001b[38;5;235m───────────────────────────────────────────────── \u001b[0m\u001b[1mSelected tasks \u001b[0m\u001b[38;5;235m ─────────────────────────────────────────────────\u001b[0m\n"
      ]
     },
     "metadata": {},
     "output_type": "display_data"
    },
    {
     "data": {
      "text/html": [
       "<pre style=\"white-space:pre;overflow-x:auto;line-height:normal;font-family:Menlo,'DejaVu Sans Mono',consolas,'Courier New',monospace\"><span style=\"font-weight: bold\">Retrieval</span>\n",
       "</pre>\n"
      ],
      "text/plain": [
       "\u001b[1mRetrieval\u001b[0m\n"
      ]
     },
     "metadata": {},
     "output_type": "display_data"
    },
    {
     "data": {
      "text/html": [
       "<pre style=\"white-space:pre;overflow-x:auto;line-height:normal;font-family:Menlo,'DejaVu Sans Mono',consolas,'Courier New',monospace\">    - AutoRAGRetrieval, <span style=\"color: #626262; text-decoration-color: #626262; font-style: italic\">s2p</span>\n",
       "</pre>\n"
      ],
      "text/plain": [
       "    - AutoRAGRetrieval, \u001b[3;38;5;241ms2p\u001b[0m\n"
      ]
     },
     "metadata": {},
     "output_type": "display_data"
    },
    {
     "data": {
      "text/html": [
       "<pre style=\"white-space:pre;overflow-x:auto;line-height:normal;font-family:Menlo,'DejaVu Sans Mono',consolas,'Courier New',monospace\">\n",
       "\n",
       "</pre>\n"
      ],
      "text/plain": [
       "\n",
       "\n"
      ]
     },
     "metadata": {},
     "output_type": "display_data"
    },
    {
     "data": {
      "text/html": [
       "<pre style=\"white-space:pre;overflow-x:auto;line-height:normal;font-family:Menlo,'DejaVu Sans Mono',consolas,'Courier New',monospace\"><span style=\"font-weight: bold\">STS</span>\n",
       "</pre>\n"
      ],
      "text/plain": [
       "\u001b[1mSTS\u001b[0m\n"
      ]
     },
     "metadata": {},
     "output_type": "display_data"
    },
    {
     "data": {
      "text/html": [
       "<pre style=\"white-space:pre;overflow-x:auto;line-height:normal;font-family:Menlo,'DejaVu Sans Mono',consolas,'Courier New',monospace\">    - KorSTS, <span style=\"color: #626262; text-decoration-color: #626262; font-style: italic\">s2s</span>\n",
       "</pre>\n"
      ],
      "text/plain": [
       "    - KorSTS, \u001b[3;38;5;241ms2s\u001b[0m\n"
      ]
     },
     "metadata": {},
     "output_type": "display_data"
    },
    {
     "data": {
      "text/html": [
       "<pre style=\"white-space:pre;overflow-x:auto;line-height:normal;font-family:Menlo,'DejaVu Sans Mono',consolas,'Courier New',monospace\">\n",
       "\n",
       "</pre>\n"
      ],
      "text/plain": [
       "\n",
       "\n"
      ]
     },
     "metadata": {},
     "output_type": "display_data"
    },
    {
     "data": {
      "application/vnd.jupyter.widget-view+json": {
       "model_id": "7901b69fe1014be5ae00ae46fd63ff0a",
       "version_major": 2,
       "version_minor": 0
      },
      "text/plain": [
       "Batches:   0%|          | 0/1 [00:00<?, ?it/s]"
      ]
     },
     "metadata": {},
     "output_type": "display_data"
    },
    {
     "data": {
      "application/vnd.jupyter.widget-view+json": {
       "model_id": "ca479b019f0341c498edf103b020e96b",
       "version_major": 2,
       "version_minor": 0
      },
      "text/plain": [
       "Batches:   0%|          | 0/6 [00:00<?, ?it/s]"
      ]
     },
     "metadata": {},
     "output_type": "display_data"
    },
    {
     "data": {
      "application/vnd.jupyter.widget-view+json": {
       "model_id": "c0e0997e9d564dfa8a8500d24bbc20f1",
       "version_major": 2,
       "version_minor": 0
      },
      "text/plain": [
       "Batches:   0%|          | 0/11 [00:00<?, ?it/s]"
      ]
     },
     "metadata": {},
     "output_type": "display_data"
    },
    {
     "data": {
      "application/vnd.jupyter.widget-view+json": {
       "model_id": "957b3f96589e418ebb8b03359bf5dddd",
       "version_major": 2,
       "version_minor": 0
      },
      "text/plain": [
       "Batches:   0%|          | 0/11 [00:00<?, ?it/s]"
      ]
     },
     "metadata": {},
     "output_type": "display_data"
    },
    {
     "name": "stdout",
     "output_type": "stream",
     "text": [
      "Task: AutoRAGRetrieval\n",
      "  test: [{'ndcg_at_1': 0.75439, 'ndcg_at_3': 0.84826, 'ndcg_at_5': 0.85921, 'ndcg_at_10': 0.87379, 'ndcg_at_20': 0.87816, 'ndcg_at_100': 0.87816, 'ndcg_at_1000': 0.87816, 'map_at_1': 0.75439, 'map_at_3': 0.82602, 'map_at_5': 0.83216, 'map_at_10': 0.83841, 'map_at_20': 0.83957, 'map_at_100': 0.83957, 'map_at_1000': 0.83957, 'recall_at_1': 0.75439, 'recall_at_3': 0.91228, 'recall_at_5': 0.9386, 'recall_at_10': 0.98246, 'recall_at_20': 1.0, 'recall_at_100': 1.0, 'recall_at_1000': 1.0, 'precision_at_1': 0.75439, 'precision_at_3': 0.30409, 'precision_at_5': 0.18772, 'precision_at_10': 0.09825, 'precision_at_20': 0.05, 'precision_at_100': 0.01, 'precision_at_1000': 0.001, 'mrr_at_1': 0.7543859649122807, 'mrr_at_3': 0.8260233918128655, 'mrr_at_5': 0.8321637426900585, 'mrr_at_10': 0.8384120022277919, 'mrr_at_20': 0.8395740954951483, 'mrr_at_100': 0.8395740954951483, 'mrr_at_1000': 0.8395740954951483, 'nauc_ndcg_at_1_max': np.float64(0.06264615667212535), 'nauc_ndcg_at_1_std': np.float64(-0.6420183946779819), 'nauc_ndcg_at_1_diff1': np.float64(0.7493933183304148), 'nauc_ndcg_at_3_max': np.float64(0.20710284523661493), 'nauc_ndcg_at_3_std': np.float64(-0.7680242628597699), 'nauc_ndcg_at_3_diff1': np.float64(0.7704450250564626), 'nauc_ndcg_at_5_max': np.float64(0.2274499137326895), 'nauc_ndcg_at_5_std': np.float64(-0.7186386105526826), 'nauc_ndcg_at_5_diff1': np.float64(0.7702091882328883), 'nauc_ndcg_at_10_max': np.float64(0.18342906202141002), 'nauc_ndcg_at_10_std': np.float64(-0.703275491144023), 'nauc_ndcg_at_10_diff1': np.float64(0.751463249238206), 'nauc_ndcg_at_20_max': np.float64(0.165803773315689), 'nauc_ndcg_at_20_std': np.float64(-0.696811115693176), 'nauc_ndcg_at_20_diff1': np.float64(0.7560582117239595), 'nauc_ndcg_at_100_max': np.float64(0.165803773315689), 'nauc_ndcg_at_100_std': np.float64(-0.696811115693176), 'nauc_ndcg_at_100_diff1': np.float64(0.7560582117239595), 'nauc_ndcg_at_1000_max': np.float64(0.165803773315689), 'nauc_ndcg_at_1000_std': np.float64(-0.696811115693176), 'nauc_ndcg_at_1000_diff1': np.float64(0.7560582117239595), 'nauc_map_at_1_max': np.float64(0.06264615667212535), 'nauc_map_at_1_std': np.float64(-0.6420183946779819), 'nauc_map_at_1_diff1': np.float64(0.7493933183304148), 'nauc_map_at_3_max': np.float64(0.1681637034361113), 'nauc_map_at_3_std': np.float64(-0.7226590901715979), 'nauc_map_at_3_diff1': np.float64(0.7616179634532826), 'nauc_map_at_5_max': np.float64(0.1768332483014387), 'nauc_map_at_5_std': np.float64(-0.6970842647826092), 'nauc_map_at_5_diff1': np.float64(0.7610831361890733), 'nauc_map_at_10_max': np.float64(0.15938639419130274), 'nauc_map_at_10_std': np.float64(-0.6934863935974837), 'nauc_map_at_10_diff1': np.float64(0.7543342191950719), 'nauc_map_at_20_max': np.float64(0.15569810026809622), 'nauc_map_at_20_std': np.float64(-0.691306901301535), 'nauc_map_at_20_diff1': np.float64(0.7553580826697276), 'nauc_map_at_100_max': np.float64(0.15569810026809622), 'nauc_map_at_100_std': np.float64(-0.691306901301535), 'nauc_map_at_100_diff1': np.float64(0.7553580826697276), 'nauc_map_at_1000_max': np.float64(0.15569810026809622), 'nauc_map_at_1000_std': np.float64(-0.691306901301535), 'nauc_map_at_1000_diff1': np.float64(0.7553580826697276), 'nauc_recall_at_1_max': np.float64(0.06264615667212535), 'nauc_recall_at_1_std': np.float64(-0.6420183946779819), 'nauc_recall_at_1_diff1': np.float64(0.7493933183304148), 'nauc_recall_at_3_max': np.float64(0.4057607575710131), 'nauc_recall_at_3_std': np.float64(-1.0100173976271816), 'nauc_recall_at_3_diff1': np.float64(0.8183963637732907), 'nauc_recall_at_5_max': np.float64(0.589226209460994), 'nauc_recall_at_5_std': np.float64(-0.8642596199753173), 'nauc_recall_at_5_diff1': np.float64(0.8384802315250196), 'nauc_recall_at_10_max': np.float64(0.6385831330291614), 'nauc_recall_at_10_std': np.float64(-0.8171511695270118), 'nauc_recall_at_10_diff1': np.float64(0.6385831330291614), 'nauc_recall_at_20_max': nan, 'nauc_recall_at_20_std': nan, 'nauc_recall_at_20_diff1': nan, 'nauc_recall_at_100_max': nan, 'nauc_recall_at_100_std': nan, 'nauc_recall_at_100_diff1': nan, 'nauc_recall_at_1000_max': nan, 'nauc_recall_at_1000_std': nan, 'nauc_recall_at_1000_diff1': nan, 'nauc_precision_at_1_max': np.float64(0.06264615667212535), 'nauc_precision_at_1_std': np.float64(-0.6420183946779819), 'nauc_precision_at_1_diff1': np.float64(0.7493933183304148), 'nauc_precision_at_3_max': np.float64(0.40576075757101193), 'nauc_precision_at_3_std': np.float64(-1.010017397627182), 'nauc_precision_at_3_diff1': np.float64(0.8183963637732921), 'nauc_precision_at_5_max': np.float64(0.5892262094609966), 'nauc_precision_at_5_std': np.float64(-0.864259619975316), 'nauc_precision_at_5_diff1': np.float64(0.8384802315250225), 'nauc_precision_at_10_max': np.float64(0.638583133029159), 'nauc_precision_at_10_std': np.float64(-0.8171511695270405), 'nauc_precision_at_10_diff1': np.float64(0.638583133029159), 'nauc_precision_at_20_max': np.float64(1.0), 'nauc_precision_at_20_std': np.float64(1.0), 'nauc_precision_at_20_diff1': np.float64(1.0), 'nauc_precision_at_100_max': np.float64(1.0), 'nauc_precision_at_100_std': np.float64(1.0), 'nauc_precision_at_100_diff1': np.float64(1.0), 'nauc_precision_at_1000_max': np.float64(1.0), 'nauc_precision_at_1000_std': np.float64(1.0), 'nauc_precision_at_1000_diff1': np.float64(1.0), 'nauc_mrr_at_1_max': np.float64(0.06264615667212535), 'nauc_mrr_at_1_std': np.float64(-0.6420183946779819), 'nauc_mrr_at_1_diff1': np.float64(0.7493933183304148), 'nauc_mrr_at_3_max': np.float64(0.1681637034361113), 'nauc_mrr_at_3_std': np.float64(-0.7226590901715979), 'nauc_mrr_at_3_diff1': np.float64(0.7616179634532826), 'nauc_mrr_at_5_max': np.float64(0.1768332483014387), 'nauc_mrr_at_5_std': np.float64(-0.6970842647826092), 'nauc_mrr_at_5_diff1': np.float64(0.7610831361890733), 'nauc_mrr_at_10_max': np.float64(0.15938639419130274), 'nauc_mrr_at_10_std': np.float64(-0.6934863935974837), 'nauc_mrr_at_10_diff1': np.float64(0.7543342191950719), 'nauc_mrr_at_20_max': np.float64(0.15569810026809622), 'nauc_mrr_at_20_std': np.float64(-0.691306901301535), 'nauc_mrr_at_20_diff1': np.float64(0.7553580826697276), 'nauc_mrr_at_100_max': np.float64(0.15569810026809622), 'nauc_mrr_at_100_std': np.float64(-0.691306901301535), 'nauc_mrr_at_100_diff1': np.float64(0.7553580826697276), 'nauc_mrr_at_1000_max': np.float64(0.15569810026809622), 'nauc_mrr_at_1000_std': np.float64(-0.691306901301535), 'nauc_mrr_at_1000_diff1': np.float64(0.7553580826697276), 'main_score': 0.87379, 'hf_subset': 'default', 'languages': ['kor-Hang']}]\n",
      "Task: KorSTS\n",
      "  test: [{'pearson': np.float64(0.817679951661902), 'spearman': np.float64(0.8158600800443854), 'cosine_pearson': np.float64(0.8176799701190445), 'cosine_spearman': np.float64(0.8158604650207936), 'manhattan_pearson': np.float64(0.8023507776745065), 'manhattan_spearman': np.float64(0.8150697815084414), 'euclidean_pearson': np.float64(0.8028682560698374), 'euclidean_spearman': np.float64(0.8158590793571152), 'main_score': np.float64(0.8158604650207936), 'hf_subset': 'default', 'languages': ['kor-Hang']}]\n"
     ]
    }
   ],
   "source": [
    "import mteb\n",
    "from sentence_transformers import SentenceTransformer\n",
    "\n",
    "# Define the sentence-transformers model name\n",
    "revision = \"main\"  # 또는 원하는 커밋 해시, 태그 등\n",
    "\n",
    "model = mteb.get_model(EMBEDDING_MODEL_PATH, revision=revision)\n",
    "\n",
    "tasks = mteb.get_tasks(tasks=[\"AutoRAGRetrieval\", \"KorSTS\"])\n",
    "evaluation = mteb.MTEB(tasks=tasks)\n",
    "results = evaluation.run(model, output_folder=f\"results/BGE-m3-ko\")\n",
    "\n",
    "# 결과 출력\n",
    "for result in results:\n",
    "    print(f\"Task: {result.task_name}\")\n",
    "    for metric, score in result.scores.items():\n",
    "        print(f\"  {metric}: {score}\")"
   ]
  },
  {
   "cell_type": "code",
   "execution_count": 56,
   "id": "0da42d61",
   "metadata": {},
   "outputs": [],
   "source": [
    "import shutil\n",
    "import glob, os\n",
    "from pathlib import Path\n",
    "if not os.path.exists(\"./results/flat\"):\n",
    "    os.makedirs(\"./results/flat\", exist_ok=True)\n",
    "\n",
    "if not os.path.exists(\"./results/flat/BGE-m3-ko\"):\n",
    "    os.makedirs(\"./results/flat/BGE-m3-ko\", exist_ok=True)\n",
    "\n",
    "\n",
    "for file in Path(\"./results/BGE-m3-ko\").rglob(\"*.json\"):\n",
    "    if file.name.endswith(\"KorSTS.json\"):\n",
    "        shutil.copy(file, \"./results/flat/BGE-m3-ko/KorSTS.json\")\n",
    "    elif file.name.endswith(\"AutoRAGRetrieval.json\"):\n",
    "        shutil.copy(file, \"./results/flat/BGE-m3-ko/AutoRAGRetrieval.json\")"
   ]
  },
  {
   "cell_type": "code",
   "execution_count": 49,
   "id": "025b3803",
   "metadata": {},
   "outputs": [
    {
     "name": "stdout",
     "output_type": "stream",
     "text": [
      "results/BGE-m3-ko/..__ai_models__base_models__BGE-m3-ko/main/model_meta.json\n",
      "results/BGE-m3-ko/..__ai_models__base_models__BGE-m3-ko/main/KorSTS.json\n",
      "results/BGE-m3-ko/..__ai_models__base_models__BGE-m3-ko/main/AutoRAGRetrieval.json\n"
     ]
    }
   ],
   "source": [
    "for file in Path(\"./results/BGE-m3-ko\").rglob(\"*.json\"):\n",
    "    print(file)\n"
   ]
  },
  {
   "cell_type": "code",
   "execution_count": 101,
   "id": "632a0f4a",
   "metadata": {},
   "outputs": [
    {
     "name": "stdout",
     "output_type": "stream",
     "text": [
      "               task  cosine_spearman  recall_at_1  recall_at_5  mrr_at_10\n",
      "0            KorSTS         0.796406          NaN          NaN        NaN\n",
      "1  AutoRAGRetrieval              NaN      0.49123      0.80702   0.615762\n"
     ]
    }
   ],
   "source": [
    "import json\n",
    "import pandas as pd\n",
    "from pathlib import Path\n",
    "\n",
    "# 결과 폴더 경로\n",
    "score_dir = Path(\"./results/test_score\")\n",
    "\n",
    "# 파일별로 추출할 지표 정의\n",
    "score_keys = {\n",
    "    \"KorSTS.json\": [\"cosine_spearman\"],\n",
    "    \"AutoRAGRetrieval.json\": [\"recall_at_1\", \"recall_at_5\", \"mrr_at_10\"]\n",
    "}\n",
    "\n",
    "# 결과 저장 리스트\n",
    "rows = []\n",
    "\n",
    "# 모든 json 파일 순회\n",
    "for json_file in score_dir.glob(\"*.json\"):\n",
    "    if json_file.name == \"model_meta.json\":  # ← .name 속성으로 비교!\n",
    "        continue\n",
    "    with open(json_file, \"r\", encoding=\"utf-8\") as f:\n",
    "        data = json.load(f)\n",
    "        scores = data.get(\"scores\", {})\n",
    "        if isinstance(scores, dict) and \"test\" in scores and isinstance(scores[\"test\"], list):\n",
    "            scores = scores[\"test\"][0]\n",
    "        metrics = score_keys.get(json_file.name, [])\n",
    "        filtered = {metric: scores.get(metric, None) for metric in metrics}\n",
    "        filtered[\"task\"] = json_file.stem\n",
    "        rows.append(filtered)\n",
    "\n",
    "# DataFrame 생성\n",
    "df = pd.DataFrame(rows)\n",
    "cols = [\"task\", \"cosine_spearman\", \"recall_at_1\", \"recall_at_5\", \"mrr_at_10\"]\n",
    "df = df.reindex(columns=cols)\n",
    "\n",
    "print(df)"
   ]
  },
  {
   "cell_type": "code",
   "execution_count": 102,
   "id": "48dcb5ff",
   "metadata": {},
   "outputs": [
    {
     "name": "stderr",
     "output_type": "stream",
     "text": [
      "/tmp/ipykernel_1535560/1415807241.py:1: FutureWarning: Setting an item of incompatible dtype is deprecated and will raise an error in a future version of pandas. Value '없음' has dtype incompatible with float64, please explicitly cast to a compatible dtype first.\n",
      "  df.fillna(\"없음\", inplace=True)\n"
     ]
    }
   ],
   "source": [
    "df.fillna(\"없음\", inplace=True)   \n",
    "df['model'] = \"multilingual-e5-large-instruct\""
   ]
  },
  {
   "cell_type": "code",
   "execution_count": 103,
   "id": "5ea98112",
   "metadata": {},
   "outputs": [],
   "source": [
    "\n",
    "df.to_csv(\"./results/csv/multilingual-e5-large-instruct.csv\", index=False)"
   ]
  },
  {
   "cell_type": "code",
   "execution_count": 96,
   "id": "b7a603f4",
   "metadata": {},
   "outputs": [],
   "source": [
    "csv_path = Path(\"./results/csv\").rglob(\"*.csv\")"
   ]
  },
  {
   "cell_type": "code",
   "execution_count": 106,
   "id": "ddf3bcb7",
   "metadata": {},
   "outputs": [
    {
     "name": "stdout",
     "output_type": "stream",
     "text": [
      "모든 csv 파일을 합쳐서 combined_results.csv로 저장했습니다.\n"
     ]
    }
   ],
   "source": [
    "import pandas as pd\n",
    "from pathlib import Path\n",
    "\n",
    "# 모든 csv 파일 경로 찾기\n",
    "csv_files = list(Path(\"./results/csv\").glob(\"*.csv\"))\n",
    "\n",
    "# DataFrame 리스트에 모두 읽기\n",
    "df_list = [pd.read_csv(f) for f in csv_files]\n",
    "\n",
    "# 하나의 DataFrame으로 합치기\n",
    "combined_df = pd.concat(df_list, ignore_index=True)\n",
    "\n",
    "# 합친 결과를 새 파일로 저장\n",
    "combined_df.to_csv(\"./results/csv/combined_results.csv\", index=False)\n",
    "\n",
    "print(\"모든 csv 파일을 합쳐서 combined_results.csv로 저장했습니다.\")"
   ]
  },
  {
   "cell_type": "code",
   "execution_count": 107,
   "id": "5ecd2fbb",
   "metadata": {},
   "outputs": [
    {
     "data": {
      "text/html": [
       "<div>\n",
       "<style scoped>\n",
       "    .dataframe tbody tr th:only-of-type {\n",
       "        vertical-align: middle;\n",
       "    }\n",
       "\n",
       "    .dataframe tbody tr th {\n",
       "        vertical-align: top;\n",
       "    }\n",
       "\n",
       "    .dataframe thead th {\n",
       "        text-align: right;\n",
       "    }\n",
       "</style>\n",
       "<table border=\"1\" class=\"dataframe\">\n",
       "  <thead>\n",
       "    <tr style=\"text-align: right;\">\n",
       "      <th></th>\n",
       "      <th>task</th>\n",
       "      <th>cosine_spearman</th>\n",
       "      <th>recall_at_1</th>\n",
       "      <th>recall_at_5</th>\n",
       "      <th>mrr_at_10</th>\n",
       "      <th>model</th>\n",
       "    </tr>\n",
       "  </thead>\n",
       "  <tbody>\n",
       "    <tr>\n",
       "      <th>0</th>\n",
       "      <td>KorSTS</td>\n",
       "      <td>0.81586</td>\n",
       "      <td>없음</td>\n",
       "      <td>없음</td>\n",
       "      <td>없음</td>\n",
       "      <td>BGE-m3-ko</td>\n",
       "    </tr>\n",
       "    <tr>\n",
       "      <th>1</th>\n",
       "      <td>AutoRAGRetrieval</td>\n",
       "      <td>없음</td>\n",
       "      <td>0.75439</td>\n",
       "      <td>0.9386</td>\n",
       "      <td>0.838412</td>\n",
       "      <td>BGE-m3-ko</td>\n",
       "    </tr>\n",
       "    <tr>\n",
       "      <th>2</th>\n",
       "      <td>KorSTS</td>\n",
       "      <td>0.796406</td>\n",
       "      <td>없음</td>\n",
       "      <td>없음</td>\n",
       "      <td>없음</td>\n",
       "      <td>multilingual-e5-large-instruct</td>\n",
       "    </tr>\n",
       "    <tr>\n",
       "      <th>3</th>\n",
       "      <td>AutoRAGRetrieval</td>\n",
       "      <td>없음</td>\n",
       "      <td>0.49123</td>\n",
       "      <td>0.80702</td>\n",
       "      <td>0.615762</td>\n",
       "      <td>multilingual-e5-large-instruct</td>\n",
       "    </tr>\n",
       "  </tbody>\n",
       "</table>\n",
       "</div>"
      ],
      "text/plain": [
       "               task cosine_spearman recall_at_1 recall_at_5 mrr_at_10  \\\n",
       "0            KorSTS         0.81586          없음          없음        없음   \n",
       "1  AutoRAGRetrieval              없음     0.75439      0.9386  0.838412   \n",
       "2            KorSTS        0.796406          없음          없음        없음   \n",
       "3  AutoRAGRetrieval              없음     0.49123     0.80702  0.615762   \n",
       "\n",
       "                            model  \n",
       "0                       BGE-m3-ko  \n",
       "1                       BGE-m3-ko  \n",
       "2  multilingual-e5-large-instruct  \n",
       "3  multilingual-e5-large-instruct  "
      ]
     },
     "execution_count": 107,
     "metadata": {},
     "output_type": "execute_result"
    }
   ],
   "source": [
    "combined_df"
   ]
  },
  {
   "cell_type": "code",
   "execution_count": 111,
   "id": "b7b3ba0f",
   "metadata": {},
   "outputs": [
    {
     "ename": "FileNotFoundError",
     "evalue": "Couldn't find any data file at /AIHUB/PCNRND/home/chatbot/data/lcw99/wikipedia-korean-20240501-1million-qna.",
     "output_type": "error",
     "traceback": [
      "\u001b[31m---------------------------------------------------------------------------\u001b[39m",
      "\u001b[31mFileNotFoundError\u001b[39m                         Traceback (most recent call last)",
      "\u001b[36mCell\u001b[39m\u001b[36m \u001b[39m\u001b[32mIn[111]\u001b[39m\u001b[32m, line 1\u001b[39m\n\u001b[32m----> \u001b[39m\u001b[32m1\u001b[39m parquet_docs = \u001b[43mloader\u001b[49m\u001b[43m.\u001b[49m\u001b[43mload\u001b[49m\u001b[43m(\u001b[49m\u001b[43m)\u001b[49m\n",
      "\u001b[36mFile \u001b[39m\u001b[32m~/chatbot/.venv/lib/python3.11/site-packages/langchain_core/document_loaders/base.py:32\u001b[39m, in \u001b[36mBaseLoader.load\u001b[39m\u001b[34m(self)\u001b[39m\n\u001b[32m     30\u001b[39m \u001b[38;5;28;01mdef\u001b[39;00m\u001b[38;5;250m \u001b[39m\u001b[34mload\u001b[39m(\u001b[38;5;28mself\u001b[39m) -> \u001b[38;5;28mlist\u001b[39m[Document]:\n\u001b[32m     31\u001b[39m \u001b[38;5;250m    \u001b[39m\u001b[33;03m\"\"\"Load data into Document objects.\"\"\"\u001b[39;00m\n\u001b[32m---> \u001b[39m\u001b[32m32\u001b[39m     \u001b[38;5;28;01mreturn\u001b[39;00m \u001b[38;5;28;43mlist\u001b[39;49m\u001b[43m(\u001b[49m\u001b[38;5;28;43mself\u001b[39;49m\u001b[43m.\u001b[49m\u001b[43mlazy_load\u001b[49m\u001b[43m(\u001b[49m\u001b[43m)\u001b[49m\u001b[43m)\u001b[49m\n",
      "\u001b[36mFile \u001b[39m\u001b[32m~/chatbot/.venv/lib/python3.11/site-packages/langchain_community/document_loaders/hugging_face_dataset.py:66\u001b[39m, in \u001b[36mHuggingFaceDatasetLoader.lazy_load\u001b[39m\u001b[34m(self)\u001b[39m\n\u001b[32m     60\u001b[39m \u001b[38;5;28;01mexcept\u001b[39;00m \u001b[38;5;167;01mImportError\u001b[39;00m:\n\u001b[32m     61\u001b[39m     \u001b[38;5;28;01mraise\u001b[39;00m \u001b[38;5;167;01mImportError\u001b[39;00m(\n\u001b[32m     62\u001b[39m         \u001b[33m\"\u001b[39m\u001b[33mCould not import datasets python package. \u001b[39m\u001b[33m\"\u001b[39m\n\u001b[32m     63\u001b[39m         \u001b[33m\"\u001b[39m\u001b[33mPlease install it with `pip install datasets`.\u001b[39m\u001b[33m\"\u001b[39m\n\u001b[32m     64\u001b[39m     )\n\u001b[32m---> \u001b[39m\u001b[32m66\u001b[39m dataset = \u001b[43mload_dataset\u001b[49m\u001b[43m(\u001b[49m\n\u001b[32m     67\u001b[39m \u001b[43m    \u001b[49m\u001b[43mpath\u001b[49m\u001b[43m=\u001b[49m\u001b[38;5;28;43mself\u001b[39;49m\u001b[43m.\u001b[49m\u001b[43mpath\u001b[49m\u001b[43m,\u001b[49m\n\u001b[32m     68\u001b[39m \u001b[43m    \u001b[49m\u001b[43mname\u001b[49m\u001b[43m=\u001b[49m\u001b[38;5;28;43mself\u001b[39;49m\u001b[43m.\u001b[49m\u001b[43mname\u001b[49m\u001b[43m,\u001b[49m\n\u001b[32m     69\u001b[39m \u001b[43m    \u001b[49m\u001b[43mdata_dir\u001b[49m\u001b[43m=\u001b[49m\u001b[38;5;28;43mself\u001b[39;49m\u001b[43m.\u001b[49m\u001b[43mdata_dir\u001b[49m\u001b[43m,\u001b[49m\n\u001b[32m     70\u001b[39m \u001b[43m    \u001b[49m\u001b[43mdata_files\u001b[49m\u001b[43m=\u001b[49m\u001b[38;5;28;43mself\u001b[39;49m\u001b[43m.\u001b[49m\u001b[43mdata_files\u001b[49m\u001b[43m,\u001b[49m\n\u001b[32m     71\u001b[39m \u001b[43m    \u001b[49m\u001b[43mcache_dir\u001b[49m\u001b[43m=\u001b[49m\u001b[38;5;28;43mself\u001b[39;49m\u001b[43m.\u001b[49m\u001b[43mcache_dir\u001b[49m\u001b[43m,\u001b[49m\n\u001b[32m     72\u001b[39m \u001b[43m    \u001b[49m\u001b[43mkeep_in_memory\u001b[49m\u001b[43m=\u001b[49m\u001b[38;5;28;43mself\u001b[39;49m\u001b[43m.\u001b[49m\u001b[43mkeep_in_memory\u001b[49m\u001b[43m,\u001b[49m\n\u001b[32m     73\u001b[39m \u001b[43m    \u001b[49m\u001b[43msave_infos\u001b[49m\u001b[43m=\u001b[49m\u001b[38;5;28;43mself\u001b[39;49m\u001b[43m.\u001b[49m\u001b[43msave_infos\u001b[49m\u001b[43m,\u001b[49m\n\u001b[32m     74\u001b[39m \u001b[43m    \u001b[49m\u001b[43muse_auth_token\u001b[49m\u001b[43m=\u001b[49m\u001b[38;5;28;43mself\u001b[39;49m\u001b[43m.\u001b[49m\u001b[43muse_auth_token\u001b[49m\u001b[43m,\u001b[49m\n\u001b[32m     75\u001b[39m \u001b[43m    \u001b[49m\u001b[43mnum_proc\u001b[49m\u001b[43m=\u001b[49m\u001b[38;5;28;43mself\u001b[39;49m\u001b[43m.\u001b[49m\u001b[43mnum_proc\u001b[49m\u001b[43m,\u001b[49m\n\u001b[32m     76\u001b[39m \u001b[43m\u001b[49m\u001b[43m)\u001b[49m\n\u001b[32m     78\u001b[39m \u001b[38;5;28;01myield from\u001b[39;00m (\n\u001b[32m     79\u001b[39m     Document(\n\u001b[32m     80\u001b[39m         page_content=\u001b[38;5;28mself\u001b[39m.parse_obj(row.pop(\u001b[38;5;28mself\u001b[39m.page_content_column)),\n\u001b[32m   (...)\u001b[39m\u001b[32m     84\u001b[39m     \u001b[38;5;28;01mfor\u001b[39;00m row \u001b[38;5;129;01min\u001b[39;00m dataset[key]\n\u001b[32m     85\u001b[39m )\n",
      "\u001b[36mFile \u001b[39m\u001b[32m~/chatbot/.venv/lib/python3.11/site-packages/datasets/load.py:2062\u001b[39m, in \u001b[36mload_dataset\u001b[39m\u001b[34m(path, name, data_dir, data_files, split, cache_dir, features, download_config, download_mode, verification_mode, keep_in_memory, save_infos, revision, token, streaming, num_proc, storage_options, trust_remote_code, **config_kwargs)\u001b[39m\n\u001b[32m   2057\u001b[39m verification_mode = VerificationMode(\n\u001b[32m   2058\u001b[39m     (verification_mode \u001b[38;5;129;01mor\u001b[39;00m VerificationMode.BASIC_CHECKS) \u001b[38;5;28;01mif\u001b[39;00m \u001b[38;5;129;01mnot\u001b[39;00m save_infos \u001b[38;5;28;01melse\u001b[39;00m VerificationMode.ALL_CHECKS\n\u001b[32m   2059\u001b[39m )\n\u001b[32m   2061\u001b[39m \u001b[38;5;66;03m# Create a dataset builder\u001b[39;00m\n\u001b[32m-> \u001b[39m\u001b[32m2062\u001b[39m builder_instance = \u001b[43mload_dataset_builder\u001b[49m\u001b[43m(\u001b[49m\n\u001b[32m   2063\u001b[39m \u001b[43m    \u001b[49m\u001b[43mpath\u001b[49m\u001b[43m=\u001b[49m\u001b[43mpath\u001b[49m\u001b[43m,\u001b[49m\n\u001b[32m   2064\u001b[39m \u001b[43m    \u001b[49m\u001b[43mname\u001b[49m\u001b[43m=\u001b[49m\u001b[43mname\u001b[49m\u001b[43m,\u001b[49m\n\u001b[32m   2065\u001b[39m \u001b[43m    \u001b[49m\u001b[43mdata_dir\u001b[49m\u001b[43m=\u001b[49m\u001b[43mdata_dir\u001b[49m\u001b[43m,\u001b[49m\n\u001b[32m   2066\u001b[39m \u001b[43m    \u001b[49m\u001b[43mdata_files\u001b[49m\u001b[43m=\u001b[49m\u001b[43mdata_files\u001b[49m\u001b[43m,\u001b[49m\n\u001b[32m   2067\u001b[39m \u001b[43m    \u001b[49m\u001b[43mcache_dir\u001b[49m\u001b[43m=\u001b[49m\u001b[43mcache_dir\u001b[49m\u001b[43m,\u001b[49m\n\u001b[32m   2068\u001b[39m \u001b[43m    \u001b[49m\u001b[43mfeatures\u001b[49m\u001b[43m=\u001b[49m\u001b[43mfeatures\u001b[49m\u001b[43m,\u001b[49m\n\u001b[32m   2069\u001b[39m \u001b[43m    \u001b[49m\u001b[43mdownload_config\u001b[49m\u001b[43m=\u001b[49m\u001b[43mdownload_config\u001b[49m\u001b[43m,\u001b[49m\n\u001b[32m   2070\u001b[39m \u001b[43m    \u001b[49m\u001b[43mdownload_mode\u001b[49m\u001b[43m=\u001b[49m\u001b[43mdownload_mode\u001b[49m\u001b[43m,\u001b[49m\n\u001b[32m   2071\u001b[39m \u001b[43m    \u001b[49m\u001b[43mrevision\u001b[49m\u001b[43m=\u001b[49m\u001b[43mrevision\u001b[49m\u001b[43m,\u001b[49m\n\u001b[32m   2072\u001b[39m \u001b[43m    \u001b[49m\u001b[43mtoken\u001b[49m\u001b[43m=\u001b[49m\u001b[43mtoken\u001b[49m\u001b[43m,\u001b[49m\n\u001b[32m   2073\u001b[39m \u001b[43m    \u001b[49m\u001b[43mstorage_options\u001b[49m\u001b[43m=\u001b[49m\u001b[43mstorage_options\u001b[49m\u001b[43m,\u001b[49m\n\u001b[32m   2074\u001b[39m \u001b[43m    \u001b[49m\u001b[43mtrust_remote_code\u001b[49m\u001b[43m=\u001b[49m\u001b[43mtrust_remote_code\u001b[49m\u001b[43m,\u001b[49m\n\u001b[32m   2075\u001b[39m \u001b[43m    \u001b[49m\u001b[43m_require_default_config_name\u001b[49m\u001b[43m=\u001b[49m\u001b[43mname\u001b[49m\u001b[43m \u001b[49m\u001b[38;5;129;43;01mis\u001b[39;49;00m\u001b[43m \u001b[49m\u001b[38;5;28;43;01mNone\u001b[39;49;00m\u001b[43m,\u001b[49m\n\u001b[32m   2076\u001b[39m \u001b[43m    \u001b[49m\u001b[43m*\u001b[49m\u001b[43m*\u001b[49m\u001b[43mconfig_kwargs\u001b[49m\u001b[43m,\u001b[49m\n\u001b[32m   2077\u001b[39m \u001b[43m\u001b[49m\u001b[43m)\u001b[49m\n\u001b[32m   2079\u001b[39m \u001b[38;5;66;03m# Return iterable dataset in case of streaming\u001b[39;00m\n\u001b[32m   2080\u001b[39m \u001b[38;5;28;01mif\u001b[39;00m streaming:\n",
      "\u001b[36mFile \u001b[39m\u001b[32m~/chatbot/.venv/lib/python3.11/site-packages/datasets/load.py:1782\u001b[39m, in \u001b[36mload_dataset_builder\u001b[39m\u001b[34m(path, name, data_dir, data_files, cache_dir, features, download_config, download_mode, revision, token, storage_options, trust_remote_code, _require_default_config_name, **config_kwargs)\u001b[39m\n\u001b[32m   1780\u001b[39m     download_config = download_config.copy() \u001b[38;5;28;01mif\u001b[39;00m download_config \u001b[38;5;28;01melse\u001b[39;00m DownloadConfig()\n\u001b[32m   1781\u001b[39m     download_config.storage_options.update(storage_options)\n\u001b[32m-> \u001b[39m\u001b[32m1782\u001b[39m dataset_module = \u001b[43mdataset_module_factory\u001b[49m\u001b[43m(\u001b[49m\n\u001b[32m   1783\u001b[39m \u001b[43m    \u001b[49m\u001b[43mpath\u001b[49m\u001b[43m,\u001b[49m\n\u001b[32m   1784\u001b[39m \u001b[43m    \u001b[49m\u001b[43mrevision\u001b[49m\u001b[43m=\u001b[49m\u001b[43mrevision\u001b[49m\u001b[43m,\u001b[49m\n\u001b[32m   1785\u001b[39m \u001b[43m    \u001b[49m\u001b[43mdownload_config\u001b[49m\u001b[43m=\u001b[49m\u001b[43mdownload_config\u001b[49m\u001b[43m,\u001b[49m\n\u001b[32m   1786\u001b[39m \u001b[43m    \u001b[49m\u001b[43mdownload_mode\u001b[49m\u001b[43m=\u001b[49m\u001b[43mdownload_mode\u001b[49m\u001b[43m,\u001b[49m\n\u001b[32m   1787\u001b[39m \u001b[43m    \u001b[49m\u001b[43mdata_dir\u001b[49m\u001b[43m=\u001b[49m\u001b[43mdata_dir\u001b[49m\u001b[43m,\u001b[49m\n\u001b[32m   1788\u001b[39m \u001b[43m    \u001b[49m\u001b[43mdata_files\u001b[49m\u001b[43m=\u001b[49m\u001b[43mdata_files\u001b[49m\u001b[43m,\u001b[49m\n\u001b[32m   1789\u001b[39m \u001b[43m    \u001b[49m\u001b[43mcache_dir\u001b[49m\u001b[43m=\u001b[49m\u001b[43mcache_dir\u001b[49m\u001b[43m,\u001b[49m\n\u001b[32m   1790\u001b[39m \u001b[43m    \u001b[49m\u001b[43mtrust_remote_code\u001b[49m\u001b[43m=\u001b[49m\u001b[43mtrust_remote_code\u001b[49m\u001b[43m,\u001b[49m\n\u001b[32m   1791\u001b[39m \u001b[43m    \u001b[49m\u001b[43m_require_default_config_name\u001b[49m\u001b[43m=\u001b[49m\u001b[43m_require_default_config_name\u001b[49m\u001b[43m,\u001b[49m\n\u001b[32m   1792\u001b[39m \u001b[43m    \u001b[49m\u001b[43m_require_custom_configs\u001b[49m\u001b[43m=\u001b[49m\u001b[38;5;28;43mbool\u001b[39;49m\u001b[43m(\u001b[49m\u001b[43mconfig_kwargs\u001b[49m\u001b[43m)\u001b[49m\u001b[43m,\u001b[49m\n\u001b[32m   1793\u001b[39m \u001b[43m\u001b[49m\u001b[43m)\u001b[49m\n\u001b[32m   1794\u001b[39m \u001b[38;5;66;03m# Get dataset builder class from the processing script\u001b[39;00m\n\u001b[32m   1795\u001b[39m builder_kwargs = dataset_module.builder_kwargs\n",
      "\u001b[36mFile \u001b[39m\u001b[32m~/chatbot/.venv/lib/python3.11/site-packages/datasets/load.py:1670\u001b[39m, in \u001b[36mdataset_module_factory\u001b[39m\u001b[34m(path, revision, download_config, download_mode, dynamic_modules_path, data_dir, data_files, cache_dir, trust_remote_code, _require_default_config_name, _require_custom_configs, **download_kwargs)\u001b[39m\n\u001b[32m   1666\u001b[39m     \u001b[38;5;28;01mraise\u001b[39;00m \u001b[38;5;167;01mFileNotFoundError\u001b[39;00m(\n\u001b[32m   1667\u001b[39m         \u001b[33mf\u001b[39m\u001b[33m\"\u001b[39m\u001b[33mCouldn\u001b[39m\u001b[33m'\u001b[39m\u001b[33mt find a dataset script at \u001b[39m\u001b[38;5;132;01m{\u001b[39;00mrelative_to_absolute_path(combined_path)\u001b[38;5;132;01m}\u001b[39;00m\u001b[33m or any data file in the same directory.\u001b[39m\u001b[33m\"\u001b[39m\n\u001b[32m   1668\u001b[39m     )\n\u001b[32m   1669\u001b[39m \u001b[38;5;28;01melse\u001b[39;00m:\n\u001b[32m-> \u001b[39m\u001b[32m1670\u001b[39m     \u001b[38;5;28;01mraise\u001b[39;00m \u001b[38;5;167;01mFileNotFoundError\u001b[39;00m(\u001b[33mf\u001b[39m\u001b[33m\"\u001b[39m\u001b[33mCouldn\u001b[39m\u001b[33m'\u001b[39m\u001b[33mt find any data file at \u001b[39m\u001b[38;5;132;01m{\u001b[39;00mrelative_to_absolute_path(path)\u001b[38;5;132;01m}\u001b[39;00m\u001b[33m.\u001b[39m\u001b[33m\"\u001b[39m)\n",
      "\u001b[31mFileNotFoundError\u001b[39m: Couldn't find any data file at /AIHUB/PCNRND/home/chatbot/data/lcw99/wikipedia-korean-20240501-1million-qna."
     ]
    }
   ],
   "source": [
    "parquet_docs = loader.load()"
   ]
  },
  {
   "cell_type": "code",
   "execution_count": 44,
   "id": "9132ced8",
   "metadata": {},
   "outputs": [],
   "source": [
    "csv_docs = loader.load()\n",
    "\n",
    "# 임베딩 모델 생성\n",
    "embedding_model = HuggingFaceEmbeddings(model_name=EMBEDDING_MODEL_PATH)\n",
    "\n",
    "# 문서 텍스트 추출 (Document 객체라면 .page_content 사용)\n",
    "texts = [doc.page_content for doc in csv_docs]\n",
    "\n",
    "# FAISS 인덱스 생성\n",
    "vectorstore = FAISS.from_texts(texts, embedding_model)\n",
    "\n",
    "# 인덱스 저장\n",
    "vectorstore.save_local(\"../data/vectorstore/faiss_index\")\n"
   ]
  },
  {
   "cell_type": "code",
   "execution_count": 6,
   "id": "302cc7b0",
   "metadata": {},
   "outputs": [],
   "source": [
    "embedding = HuggingFaceEmbeddings(\n",
    "    model_name=EMBEDDING_MODEL_PATH,\n",
    "    model_kwargs={\"device\": \"cpu\"},                    # GPU 사용 안함\n",
    "    encode_kwargs={\"normalize_embeddings\": True}       # 임베딩 정규화 (권장)\n",
    ")\n",
    "vectorstore = FAISS.load_local(VECTORSTORE_PATH, embedding, allow_dangerous_deserialization=True)"
   ]
  },
  {
   "cell_type": "code",
   "execution_count": 7,
   "id": "43077e0f",
   "metadata": {},
   "outputs": [],
   "source": [
    "retriever = vectorstore.as_retriever(search_kwargs={\"k\": 2})  # top-3 문서 검색"
   ]
  },
  {
   "cell_type": "code",
   "execution_count": 8,
   "id": "e62c6ebe",
   "metadata": {},
   "outputs": [
    {
     "name": "stderr",
     "output_type": "stream",
     "text": [
      "/tmp/ipykernel_3983422/2043201211.py:1: LangChainDeprecationWarning: The method `BaseRetriever.get_relevant_documents` was deprecated in langchain-core 0.1.46 and will be removed in 1.0. Use :meth:`~invoke` instead.\n",
      "  retriever.get_relevant_documents(\"개인정보 유출이란?\")  # 검색 쿼리\n"
     ]
    },
    {
     "data": {
      "text/plain": [
       "[Document(id='e75bbb95-17d5-4fa0-b228-d46a9206e5d7', metadata={}, page_content='\\ufeff처리상황단계내용: 안전성확보조치\\n적용분야내용: 시스템 분야\\n개인정보유형내용: 일반정보\\n코드제목: 홈페이지 방문객이 게시판에 스스로 본인의 개인정보를 게시했다면?\\n주제내용: 정보주체가 자신의 개인정보를 인터넷 게시판에 게재하는 경우 조치 방법\\n문제상황내용: 협회에서는 홈페이지를 운영하고 있으나 별도의 회원가입 없이 누구나 자유롭게 게시판을 이용할 수 있도록 자유게시판을 운영하고 있습니다. 그런데 일부 홈페이지 이용자가 게시물에 자신의 성명, 전화번호, 이메일주소 등의 개인정보를 공개하는 경우가 있습니다. 이런 경우 개인정보가 유출되는 것은 아닌지 우려가 되고, 개인정보가 포함된 게시글을 삭제해야 하는지 고민이 됩니다.\\n질문: 개인이 본인의 개인정보가 포함된 게시물을 작성하여 게시판에 올린 경우 어떻게 처리해야 하나요?\\n해결방법내용: 홈페이지 운영자는 이용자가 작성한 게시물에 개인정보가 포함되어 있는 경우 개인정보의 추가적인 노출 및 타인에 의한 도용 등 2차적 피해를 예방하기 위하여  게시판 안내문을 통해 게시글에 개인정보가 포함되어 있는지 여부를 작성자가 확인하도록 하고, 개인정보 유출로 인한 피해가 있음을 알려줄 수 있습니다. 또한 고객이 부주의하게 게재한 개인정보는 고객의 의사를 확인하여 일부 마스킹 처리하거나 개인정보 입력을 사전에 차단할 수 있도록 ‘필터링 시스템’을 적용할 수 있습니다. 이와 같이 홈페이지 운영자는 최대한 개인정보 유출 방지를 위한 안전성 확보조치를 취하는 것이 바람직합니다.\\n결론내용: 홈페이지 이용자가 인터넷 게시판을 이용하면서 부주의로 자신의 개인정보를 게재하지 않도록 피해가능성 등에 대한 경고문을 사전에 안내하고, 개인정보 유출 방지를 위한 안전조치를 하여야 할 것입니다.\\n유사사례내용: FAQ_0000000000000748\\nfaq식별자: FAQ_0000000000000803\\n최종수정년월일시: 2013-10-11 21:01:49\\n조회수: 5385\\n임시: 안전성확보조치'),\n",
       " Document(id='1261b0d5-858b-4901-97e6-d640a3749a9d', metadata={}, page_content='\\ufeff처리상황단계내용: 위탁\\n적용분야내용: 공통분야\\n개인정보유형내용: 일반정보\\n코드제목: 수탁사에서 개인정보를 유출한 경우 위탁사는 아무책임 없다?\\n주제내용: 수탁회사의 잘못으로 개인정보가 유출된 경우 손해배상 책임\\n문제상황내용: A사는 자신들의 고객관리업무를 B사에 위탁하고 있습니다. 그런데 얼마 전 B사가 고객정보를 TM업체에 팔아넘겨 손해를 보았습니다. 이에 따라 A사에 개인정보 유출에 대한 손해배상을 청구하였으나, A사는 자신들의 책임이 아니라며 B사에 손해배상을 청구하라고 하며 손해배상을 거부했습니다.제가 회원가입을 한 곳은 A사인데 A사에서 아무런 책임이 없다고 하는 것이 이해가 되지 않습니다\\n질문: 유출 피해를 입은 정보주체는 가입회사(A)사에 손해배상을 청구할 수 없나요?\\n해결방법내용: 개인정보보호법 제26조에서는 위탁자는 수탁자가 개인정보를 안전하게 처리하는지를 감독하도록 하고 있고, 수탁자가 위탁받은 업무와 관련하여 개인정보보호법을 위반해 정보주체에게 손해를 발생시킨 경우 수탁자를 개인정보처리자의 소속 직원으로 보도록 하여 위탁자에게 사용자 책임을 부담하도록 하고 있습니다.민법상 사용자 책임은 부진정 연대채무로 손해를 입은 정보주체는 수탁자나 위탁자 중 선택하여 손해배상을 청구할 수 있습니다.\\n결론내용: 수탁자가 개인정보보호법을 위반해 정보주체에게 손해가 발생한 경우 정보주체는 위탁자(A사)에게 손해배상을 청구할 수 있습니다.\\n유사사례내용: FAQ_0000000000000774\\nfaq식별자: FAQ_0000000000000743\\n최종수정년월일시: 2013-10-02 10:05:22\\n조회수: 2697\\n임시: 위탁')]"
      ]
     },
     "execution_count": 8,
     "metadata": {},
     "output_type": "execute_result"
    }
   ],
   "source": [
    "retriever.get_relevant_documents(\"개인정보 유출이란?\")  # 검색 쿼리"
   ]
  },
  {
   "cell_type": "code",
   "execution_count": 10,
   "id": "e45886de",
   "metadata": {},
   "outputs": [
    {
     "name": "stdout",
     "output_type": "stream",
     "text": [
      "결과 1:\n",
      "﻿처리상황단계내용: 수집·이용\n",
      "적용분야내용: 공통분야\n",
      "개인정보유형내용: 일반정보\n",
      "코드제목: 법인이나 개인사업자 정보도 개인정보로 보호되어야 한다?\n",
      "주제내용: 법인 및 개인사업자 정보가 개인정보보호법상 개인정보에 해당 여부\n",
      "문제상황내용: 우리 회사는 업무 효율성을 높이기 위해 협력사 및 거래처에 대한 정보를 체계적으로 관리하려고 합니다. 회사에서 관리하고자 하는 정보는 법인 및 개인사업자의 사업자등록번호, 사업장 주소, 사업장 전화번호, 대표자 성명입니다.\n",
      "질문: 개인정보보호법에 따르면 개인정보는 살아 있는 개인에 대한 정보라고 정의 되어 있는데, 이러한 정보들이 개인정보에 해당되나요?\n",
      "해결방법내용: 개인정보보호법은 생존하고 있는 자연인에 대한 개인정보를 보호 대상으로 하고 있습니다. 자연인이 아닌 법인이나 사업체(개인사업자 포함)의 정보는 원칙적으로 개인정보보호법상 보호대상인 개인정보에 해당하지 않습니다.그러나 대표자의 성명이 법인이나 사업체의 정보로서가 아니라 자연인으로서의 개인정보로 처리되는 경우 또는 마케팅 목적으로 이용되는 경우에는 개인정보보호법에 따른 개인정보에 포함될 수 있습니다.\n",
      "결론내용: 법인이나 사업체의 정보인 사업장주소, 사업장전화번호, 대표자성명은 자연인으로서의 개인정보에 해당하지 않습니다\n",
      "유사사례내용: FAQ_0000000000000770\n",
      "faq식별자: FAQ_0000000000000784\n",
      "최종수정년월일시: 2013-10-07 10:45:47\n",
      "조회수: 11934\n",
      "임시: 수집·이용\n",
      "\n",
      "결과 2:\n",
      "﻿처리상황단계내용: 안전성확보조치\n",
      "적용분야내용: 시스템 분야\n",
      "개인정보유형내용: 일반정보\n",
      "코드제목: 홈페이지 방문객이 게시판에 스스로 본인의 개인정보를 게시했다면?\n",
      "주제내용: 정보주체가 자신의 개인정보를 인터넷 게시판에 게재하는 경우 조치 방법\n",
      "문제상황내용: 협회에서는 홈페이지를 운영하고 있으나 별도의 회원가입 없이 누구나 자유롭게 게시판을 이용할 수 있도록 자유게시판을 운영하고 있습니다. 그런데 일부 홈페이지 이용자가 게시물에 자신의 성명, 전화번호, 이메일주소 등의 개인정보를 공개하는 경우가 있습니다. 이런 경우 개인정보가 유출되는 것은 아닌지 우려가 되고, 개인정보가 포함된 게시글을 삭제해야 하는지 고민이 됩니다.\n",
      "질문: 개인이 본인의 개인정보가 포함된 게시물을 작성하여 게시판에 올린 경우 어떻게 처리해야 하나요?\n",
      "해결방법내용: 홈페이지 운영자는 이용자가 작성한 게시물에 개인정보가 포함되어 있는 경우 개인정보의 추가적인 노출 및 타인에 의한 도용 등 2차적 피해를 예방하기 위하여  게시판 안내문을 통해 게시글에 개인정보가 포함되어 있는지 여부를 작성자가 확인하도록 하고, 개인정보 유출로 인한 피해가 있음을 알려줄 수 있습니다. 또한 고객이 부주의하게 게재한 개인정보는 고객의 의사를 확인하여 일부 마스킹 처리하거나 개인정보 입력을 사전에 차단할 수 있도록 ‘필터링 시스템’을 적용할 수 있습니다. 이와 같이 홈페이지 운영자는 최대한 개인정보 유출 방지를 위한 안전성 확보조치를 취하는 것이 바람직합니다.\n",
      "결론내용: 홈페이지 이용자가 인터넷 게시판을 이용하면서 부주의로 자신의 개인정보를 게재하지 않도록 피해가능성 등에 대한 경고문을 사전에 안내하고, 개인정보 유출 방지를 위한 안전조치를 하여야 할 것입니다.\n",
      "유사사례내용: FAQ_0000000000000748\n",
      "faq식별자: FAQ_0000000000000803\n",
      "최종수정년월일시: 2013-10-11 21:01:49\n",
      "조회수: 5385\n",
      "임시: 안전성확보조치\n",
      "\n",
      "결과 3:\n",
      "﻿처리상황단계내용: 수집·이용\n",
      "적용분야내용: 공통분야\n",
      "개인정보유형내용: 일반정보\n",
      "코드제목: 만족도 조사를 위해 고객정보를 이용해도 된다?\n",
      "주제내용: 고객만족도 조사를 위해 고객의 개인정보 이용\n",
      "문제상황내용: 이태리음식 전문점인 저희 매장은 예약 고객을 대상으로 서비스가 제공되고 있으며, 예약접수 및 예약 확인을 위해 고객의 성명과 전화번호를 수집하고 있습니다. 예약 후 매장을 방문하여 서비스를 이용한 고객을 대상으로 예약담당자의 친절도와 서비스 이용의 만족도, 불만사항 및 개선사항 등을 알아보기 위하여 ‘만족도 조사’를 진행하려고 합니다. 그러나 아직 고객들로부터 만족도 조사에 대한 사전 동의를 받지는 않았습니다.\n",
      "질문: 고객만족도를 조사하기 위하여 예약접수 시 수집한 고객의 연락처를 이용해도 되는지요?\n",
      "해결방법내용: 개인정보보호법 제15조제1항제4호에 따라 계약의 체결 및 이행을 위하여 불가피한 경우 정보주체의 동의 없이 개인정보를 수집·이용할 수 있습니다. 서비스 이용자의 만족도 조사는 서비스계약의 일부에 해당하므로, 매장은 예약접수 시 수집한 개인정보를 이용하여 고객만족도 조사를 실시할 수 있으며, 고객의 동의는 필요하지 않습니다.  다만, 고객이 원하지 않거나 자신의 개인정보를 처리정지 및 파기하기를 요청하는 경우에는 지체 없이 필요한 조치를 취하여야 합니다. 또한 수집한 고객의 개인정보를 홍보나 마케팅에 이용하기 위해서는 고객의 별도의 동의를 받아야 합니다.\n",
      "결론내용: 해당 서비스 이용자의 만족도 조사를 위해 예약접수 시 수집한 고객의 연락처를 이용할 때는 정보주체의 동의를 받지 않아도 됩니다.\n",
      "유사사례내용: FAQ_0000000000000799,FAQ_0000000000000819\n",
      "faq식별자: FAQ_0000000000000783\n",
      "최종수정년월일시: 2013-10-02 11:40:21\n",
      "조회수: 3732\n",
      "임시: 수집·이용\n",
      "\n"
     ]
    }
   ],
   "source": [
    "# 검색 쿼리 입력\n",
    "query = \"개인정보\"\n",
    "\n",
    "# top-k 유사 문서 검색\n",
    "docs = vectorstore.similarity_search(query, k=3)\n",
    "\n",
    "# 결과 출력\n",
    "for i, doc in enumerate(docs):\n",
    "    print(f\"결과 {i+1}:\\n{doc.page_content}\\n\")\n"
   ]
  },
  {
   "cell_type": "code",
   "execution_count": null,
   "id": "d691c325",
   "metadata": {},
   "outputs": [],
   "source": []
  }
 ],
 "metadata": {
  "kernelspec": {
   "display_name": ".venv",
   "language": "python",
   "name": "python3"
  },
  "language_info": {
   "codemirror_mode": {
    "name": "ipython",
    "version": 3
   },
   "file_extension": ".py",
   "mimetype": "text/x-python",
   "name": "python",
   "nbconvert_exporter": "python",
   "pygments_lexer": "ipython3",
   "version": "3.11.4"
  }
 },
 "nbformat": 4,
 "nbformat_minor": 5
}
