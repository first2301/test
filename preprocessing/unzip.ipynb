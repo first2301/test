{
 "cells": [
  {
   "cell_type": "code",
   "execution_count": 31,
   "metadata": {},
   "outputs": [
    {
     "name": "stdout",
     "output_type": "stream",
     "text": [
      "Collecting pyunpack\n",
      "  Downloading pyunpack-0.3-py2.py3-none-any.whl.metadata (863 bytes)\n",
      "Collecting patool\n",
      "  Downloading patool-4.0.1-py2.py3-none-any.whl.metadata (4.5 kB)\n",
      "Collecting easyprocess (from pyunpack)\n",
      "  Downloading EasyProcess-1.1-py3-none-any.whl.metadata (855 bytes)\n",
      "Collecting entrypoint2 (from pyunpack)\n",
      "  Downloading entrypoint2-1.1-py2.py3-none-any.whl.metadata (1.0 kB)\n",
      "Downloading pyunpack-0.3-py2.py3-none-any.whl (4.1 kB)\n",
      "Downloading patool-4.0.1-py2.py3-none-any.whl (86 kB)\n",
      "Downloading EasyProcess-1.1-py3-none-any.whl (8.7 kB)\n",
      "Downloading entrypoint2-1.1-py2.py3-none-any.whl (9.9 kB)\n",
      "Installing collected packages: entrypoint2, easyprocess, pyunpack, patool\n",
      "Successfully installed easyprocess-1.1 entrypoint2-1.1 patool-4.0.1 pyunpack-0.3\n"
     ]
    },
    {
     "name": "stderr",
     "output_type": "stream",
     "text": [
      "\n",
      "[notice] A new release of pip is available: 25.0.1 -> 25.1.1\n",
      "[notice] To update, run: python.exe -m pip install --upgrade pip\n"
     ]
    }
   ],
   "source": [
    "!pip install pyunpack patool"
   ]
  },
  {
   "cell_type": "code",
   "execution_count": 32,
   "metadata": {},
   "outputs": [],
   "source": [
    "from pyunpack import Archive\n",
    "import glob\n",
    "import os\n",
    "\n",
    "zip_files = glob.glob(\"..\\\\data\\\\022.민원(콜센터) 질의-응답 데이터\\\\01.데이터\\\\**\\\\*.zip\", recursive=True)\n",
    "\n",
    "for zip_path in zip_files:\n",
    "    extract_dir = os.path.dirname(zip_path)\n",
    "    Archive(zip_path).extractall(extract_dir)"
   ]
  },
  {
   "cell_type": "code",
   "execution_count": 29,
   "metadata": {},
   "outputs": [],
   "source": [
    "import glob\n",
    "import zipfile"
   ]
  },
  {
   "cell_type": "code",
   "execution_count": 30,
   "metadata": {},
   "outputs": [],
   "source": [
    "zip_files = glob.glob(\"..\\\\data\\\\022.민원(콜센터) 질의-응답 데이터\\\\01.데이터\\\\**\\\\*.zip\", recursive=True)\n",
    "\n",
    "for zip_path in zip_files:\n",
    "    with zipfile.ZipFile(zip_path, 'r') as zip_ref:\n",
    "        # Extract to same directory as zip file\n",
    "        extract_dir = '\\\\'.join(zip_path.split('\\\\')[:-1])\n",
    "        zip_ref.extractall(extract_dir)"
   ]
  }
 ],
 "metadata": {
  "kernelspec": {
   "display_name": ".venv",
   "language": "python",
   "name": "python3"
  },
  "language_info": {
   "codemirror_mode": {
    "name": "ipython",
    "version": 3
   },
   "file_extension": ".py",
   "mimetype": "text/x-python",
   "name": "python",
   "nbconvert_exporter": "python",
   "pygments_lexer": "ipython3",
   "version": "3.11.2"
  }
 },
 "nbformat": 4,
 "nbformat_minor": 2
}
