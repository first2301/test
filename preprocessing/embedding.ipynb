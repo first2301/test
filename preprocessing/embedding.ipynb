{
 "cells": [
  {
   "cell_type": "markdown",
   "metadata": {},
   "source": [
    "- dataset: https://korquad.github.io/category/1.0_KOR.html\n",
    "- elasticsearch: https://www.elastic.co/docs/deploy-manage/deploy/self-managed/install-elasticsearch-docker-basic"
   ]
  },
  {
   "cell_type": "code",
   "execution_count": null,
   "metadata": {},
   "outputs": [],
   "source": [
    "# docker run -d --name es01 \\\n",
    "#   --net elastic \\\n",
    "#   -p 9200:9200 -m 1GB \\\n",
    "#   -e \"discovery.type=single-node\" \\\n",
    "#   -e \"xpack.security.enabled=false\" \\\n",
    "#   -e \"xpack.security.http.ssl.enabled=false\" \\\n",
    "#   docker.elastic.co/elasticsearch/elasticsearch:9.0.0\n"
   ]
  },
  {
   "cell_type": "code",
   "execution_count": 1,
   "metadata": {},
   "outputs": [],
   "source": [
    "from langchain_huggingface import HuggingFaceEmbeddings\n",
    "from langchain.text_splitter import RecursiveCharacterTextSplitter\n",
    "from langchain.schema import Document\n",
    "\n",
    "from elasticsearch import Elasticsearch\n",
    "from datasets import load_dataset"
   ]
  },
  {
   "cell_type": "code",
   "execution_count": 2,
   "metadata": {},
   "outputs": [],
   "source": [
    "ds = load_dataset('json', data_files='..\\\\data\\\\korquad\\\\KorQuAD_v1.0_train.json')"
   ]
  },
  {
   "cell_type": "code",
   "execution_count": 3,
   "metadata": {},
   "outputs": [],
   "source": [
    "documents = []\n",
    "korquad_data = ds['train'][0]['data']  # ✔️ 이게 실제 문서 리스트\n",
    "\n",
    "for item in korquad_data:\n",
    "    for para in item['paragraphs']:\n",
    "        context = para['context']\n",
    "        documents.append(Document(page_content=context))"
   ]
  },
  {
   "cell_type": "code",
   "execution_count": 4,
   "metadata": {},
   "outputs": [],
   "source": [
    "text_splitter = RecursiveCharacterTextSplitter(\n",
    "    chunk_size=500,\n",
    "    chunk_overlap=100,\n",
    "    length_function=len,\n",
    "    separators=[\"\\n\\n\", \"\\n\", \".\", \" \"]\n",
    ")\n",
    "\n",
    "chunks = text_splitter.split_documents(documents)"
   ]
  },
  {
   "cell_type": "code",
   "execution_count": 5,
   "metadata": {},
   "outputs": [],
   "source": [
    "embeddings = HuggingFaceEmbeddings(\n",
    "    model_name=\"../ai_models/base_models/BGE-m3-ko\",\n",
    "    model_kwargs={'device': 'cpu'},\n",
    "    encode_kwargs={'normalize_embeddings': True}\n",
    ")\n",
    "es = Elasticsearch(\"http://127.0.0.1:9200\")\n"
   ]
  },
  {
   "cell_type": "code",
   "execution_count": 6,
   "metadata": {},
   "outputs": [
    {
     "data": {
      "text/plain": [
       "ObjectApiResponse({'acknowledged': True, 'shards_acknowledged': True, 'index': 'korquad'})"
      ]
     },
     "execution_count": 6,
     "metadata": {},
     "output_type": "execute_result"
    }
   ],
   "source": [
    "es.options(ignore_status=400).indices.create(\n",
    "    index=\"korquad\",\n",
    "    mappings={\n",
    "        \"properties\": {\n",
    "            \"content\": {\"type\": \"text\"},\n",
    "            \"embedding\": {\n",
    "                \"type\": \"dense_vector\",\n",
    "                \"dims\": 1024,  # 모델에 따라 조정\n",
    "                \"index\": True,\n",
    "                \"similarity\": \"cosine\"\n",
    "            }\n",
    "        }\n",
    "    }\n",
    ")"
   ]
  },
  {
   "cell_type": "code",
   "execution_count": null,
   "metadata": {},
   "outputs": [
    {
     "name": "stderr",
     "output_type": "stream",
     "text": [
      "  0%|          | 66/13981 [00:51<2:51:00,  1.36it/s]"
     ]
    }
   ],
   "source": [
    "from elasticsearch import helpers\n",
    "from tqdm import tqdm\n",
    "\n",
    "actions = []\n",
    "for chunk in tqdm(chunks):\n",
    "    text = chunk.page_content\n",
    "    vector = embeddings.embed_documents([text])[0]  # ✅ 문서용\n",
    "\n",
    "    actions.append({\n",
    "        \"_index\": \"korquad\",\n",
    "        \"_source\": {\n",
    "            \"content\": text,\n",
    "            \"embedding\": vector\n",
    "        }\n",
    "    })\n",
    "\n",
    "helpers.bulk(es, actions)\n"
   ]
  },
  {
   "cell_type": "code",
   "execution_count": null,
   "metadata": {},
   "outputs": [],
   "source": [
    "query = \"ChatGPT는 어떤 기술로 만들어졌나요?\"\n",
    "query_vector = embeddings.embed_query(query)\n",
    "\n",
    "response = es.search(\n",
    "    index=\"korquad\",\n",
    "    knn={\n",
    "        \"field\": \"embedding\",\n",
    "        \"query_vector\": query_vector,\n",
    "        \"k\": 5,\n",
    "        \"num_candidates\": 50\n",
    "    }\n",
    ")\n",
    "\n",
    "# 결과 출력\n",
    "for hit in response[\"hits\"][\"hits\"]:\n",
    "    print(f\"점수: {hit['_score']:.4f}\")\n",
    "    print(f\"문서 내용: {hit['_source']['content']}\\n\")\n"
   ]
  },
  {
   "cell_type": "code",
   "execution_count": null,
   "metadata": {},
   "outputs": [],
   "source": []
  }
 ],
 "metadata": {
  "kernelspec": {
   "display_name": ".venv",
   "language": "python",
   "name": "python3"
  },
  "language_info": {
   "codemirror_mode": {
    "name": "ipython",
    "version": 3
   },
   "file_extension": ".py",
   "mimetype": "text/x-python",
   "name": "python",
   "nbconvert_exporter": "python",
   "pygments_lexer": "ipython3",
   "version": "3.11.2"
  }
 },
 "nbformat": 4,
 "nbformat_minor": 2
}
