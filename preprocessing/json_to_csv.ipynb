{
 "cells": [
  {
   "cell_type": "code",
   "execution_count": 12,
   "metadata": {},
   "outputs": [],
   "source": [
    "import glob\n",
    "\n",
    "# Train/Validation 데이터셋 경로 분리\n",
    "import pandas as pd\n",
    "import json\n",
    "\n",
    "# Train/Validation 데이터셋 경로 분리\n",
    "train_files = glob.glob(\"..\\\\data\\\\022.민원(콜센터) 질의-응답 데이터\\\\01.데이터\\\\1.Training\\\\**\\\\*.json\", recursive=True)\n",
    "val_files = glob.glob(\"..\\\\data\\\\022.민원(콜센터) 질의-응답 데이터\\\\01.데이터\\\\2.Validation\\\\**\\\\*.json\", recursive=True)\n",
    "\n",
    "# JSON 파일 통합\n",
    "def merge_json_files(file_list, output_path):\n",
    "    # 데이터를 담을 리스트 초기화\n",
    "    merged_data = []\n",
    "    \n",
    "    # 각 JSON 파일 읽어서 병합\n",
    "    for file in file_list:\n",
    "        with open(file, 'r', encoding='utf-8') as f:\n",
    "            json_data = json.load(f)\n",
    "            merged_data.extend(json_data)\n",
    "            \n",
    "    # 병합된 JSON 데이터를 파일로 저장\n",
    "    with open(output_path, 'w', encoding='utf-8') as f:\n",
    "        json.dump(merged_data, f, ensure_ascii=False, indent=4)\n",
    "    \n",
    "    return merged_data\n",
    "\n",
    "# Train 데이터 통합\n",
    "train_data = merge_json_files(train_files, '../data/qna_data/train.json')\n",
    "\n",
    "# Validation 데이터 통합  \n",
    "val_data = merge_json_files(val_files, '../data/qna_data/val.json')"
   ]
  },
  {
   "cell_type": "code",
   "execution_count": 4,
   "metadata": {},
   "outputs": [],
   "source": [
    "import glob\n",
    "\n",
    "# Train/Validation 데이터셋 경로 분리\n",
    "import pandas as pd\n",
    "import json\n",
    "\n",
    "# Train/Validation 데이터셋 경로 분리\n",
    "train_files = glob.glob(\"..\\\\data\\\\022.민원(콜센터) 질의-응답 데이터\\\\01.데이터\\\\1.Training\\\\**\\\\*.json\", recursive=True)\n",
    "val_files = glob.glob(\"..\\\\data\\\\022.민원(콜센터) 질의-응답 데이터\\\\01.데이터\\\\2.Validation\\\\**\\\\*.json\", recursive=True)\n",
    "\n",
    "# Train 데이터 통합\n",
    "def load_json_files(file_list):\n",
    "    data = []\n",
    "    for file in file_list:\n",
    "        with open(file, 'r', encoding='utf-8') as f:\n",
    "            data.extend(json.load(f))\n",
    "    return pd.DataFrame(data)\n",
    "\n",
    "train_df = load_json_files(train_files)\n",
    "train_df.to_csv('../data/qna_data/train.csv', index=False, encoding='utf-8')\n",
    "\n",
    "# Validation 데이터 통합  \n",
    "val_df = load_json_files(val_files)\n",
    "val_df.to_csv('../data/qna_data/val.csv', index=False, encoding='utf-8')"
   ]
  },
  {
   "cell_type": "code",
   "execution_count": 6,
   "metadata": {},
   "outputs": [],
   "source": [
    "\n",
    "test_df = pd.read_csv(\"../data/qna_data/train.csv\")\n"
   ]
  },
  {
   "cell_type": "code",
   "execution_count": 13,
   "metadata": {},
   "outputs": [],
   "source": [
    "with open('../data/qna_data/train.json', 'r', encoding='utf-8') as f:\n",
    "    train_data = json.load(f)\n",
    "\n",
    "with open('../data/qna_data/val.json', 'r', encoding='utf-8') as f:\n",
    "    val_data = json.load(f)\n",
    "\n"
   ]
  },
  {
   "cell_type": "code",
   "execution_count": null,
   "metadata": {},
   "outputs": [],
   "source": []
  }
 ],
 "metadata": {
  "kernelspec": {
   "display_name": ".venv",
   "language": "python",
   "name": "python3"
  },
  "language_info": {
   "codemirror_mode": {
    "name": "ipython",
    "version": 3
   },
   "file_extension": ".py",
   "mimetype": "text/x-python",
   "name": "python",
   "nbconvert_exporter": "python",
   "pygments_lexer": "ipython3",
   "version": "3.11.2"
  }
 },
 "nbformat": 4,
 "nbformat_minor": 2
}
