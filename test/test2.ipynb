{
 "cells": [
  {
   "cell_type": "code",
   "execution_count": 4,
   "id": "590cc2f5",
   "metadata": {},
   "outputs": [],
   "source": [
    "from langchain_community.vectorstores import FAISS\n",
    "# from langchain.embeddings import HuggingFaceEmbeddings\n",
    "from langchain_huggingface import HuggingFaceEmbeddings\n",
    "from langchain_community.document_loaders.csv_loader import CSVLoader\n",
    "\n",
    "# CSV 로더 생성\n",
    "\n",
    "LLM_MODEL_PATH = \"../ai_models/llama-3.2-Korean-Bllossom-3B-gguf-Q4_K_M/llama-3.2-Korean-Bllossom-3B-gguf-Q4_K_M.gguf\"\n",
    "EMBEDDING_MODEL_PATH = \"../ai_models/intfloat/multilingual-e5-large-instruct\"  # 또는 로컬 모델 경로\n",
    "VECTORSTORE_PATH = \"../vectorstore/faiss_index\" \n",
    "\n",
    "\n",
    "path = \"../data/한국인터넷진흥원_개인정보포털 상황별 FAQ정보_20240731.csv\"\n",
    "loader = CSVLoader(file_path=path, encoding=\"utf-8\")\n"
   ]
  },
  {
   "cell_type": "code",
   "execution_count": 5,
   "id": "a36ac492",
   "metadata": {},
   "outputs": [],
   "source": [
    "embedding = HuggingFaceEmbeddings(\n",
    "    model_name=EMBEDDING_MODEL_PATH,\n",
    "    model_kwargs={\"device\": \"cpu\"},                    # GPU 사용 안함\n",
    "    encode_kwargs={\"normalize_embeddings\": True}       # 임베딩 정규화 (권장)\n",
    ")\n",
    "vectorstore = FAISS.load_local(VECTORSTORE_PATH, embedding, allow_dangerous_deserialization=True)\n",
    "retriever = vectorstore.as_retriever(search_kwargs={\"k\": 2})  # top-3 문서 검색"
   ]
  },
  {
   "cell_type": "code",
   "execution_count": 6,
   "id": "3b10ad4d",
   "metadata": {},
   "outputs": [
    {
     "name": "stderr",
     "output_type": "stream",
     "text": [
      "C:\\Users\\PCN\\AppData\\Local\\Temp\\ipykernel_8332\\894890008.py:1: LangChainDeprecationWarning: The method `BaseRetriever.get_relevant_documents` was deprecated in langchain-core 0.1.46 and will be removed in 1.0. Use :meth:`~invoke` instead.\n",
      "  retriever.get_relevant_documents(\"개인정보\")\n"
     ]
    },
    {
     "data": {
      "text/plain": [
       "[Document(id='a3c459a1-5428-4b7d-b684-3564fc56d2c3', metadata={}, page_content='\\ufeff처리상황단계내용: 수집·이용\\n적용분야내용: 공통분야\\n개인정보유형내용: 일반정보\\n코드제목: 법인이나 개인사업자 정보도 개인정보로 보호되어야 한다?\\n주제내용: 법인 및 개인사업자 정보가 개인정보보호법상 개인정보에 해당 여부\\n문제상황내용: 우리 회사는 업무 효율성을 높이기 위해 협력사 및 거래처에 대한 정보를 체계적으로 관리하려고 합니다. 회사에서 관리하고자 하는 정보는 법인 및 개인사업자의 사업자등록번호, 사업장 주소, 사업장 전화번호, 대표자 성명입니다.\\n질문: 개인정보보호법에 따르면 개인정보는 살아 있는 개인에 대한 정보라고 정의 되어 있는데, 이러한 정보들이 개인정보에 해당되나요?\\n해결방법내용: 개인정보보호법은 생존하고 있는 자연인에 대한 개인정보를 보호 대상으로 하고 있습니다. 자연인이 아닌 법인이나 사업체(개인사업자 포함)의 정보는 원칙적으로 개인정보보호법상 보호대상인 개인정보에 해당하지 않습니다.그러나 대표자의 성명이 법인이나 사업체의 정보로서가 아니라 자연인으로서의 개인정보로 처리되는 경우 또는 마케팅 목적으로 이용되는 경우에는 개인정보보호법에 따른 개인정보에 포함될 수 있습니다.\\n결론내용: 법인이나 사업체의 정보인 사업장주소, 사업장전화번호, 대표자성명은 자연인으로서의 개인정보에 해당하지 않습니다\\n유사사례내용: FAQ_0000000000000770\\nfaq식별자: FAQ_0000000000000784\\n최종수정년월일시: 2013-10-07 10:45:47\\n조회수: 11934\\n임시: 수집·이용'),\n",
       " Document(id='93bafc82-46e5-4713-b415-59e9913ccad8', metadata={}, page_content='\\ufeff처리상황단계내용: 안전성확보조치\\n적용분야내용: 시스템 분야\\n개인정보유형내용: 일반정보\\n코드제목: 홈페이지 방문객이 게시판에 스스로 본인의 개인정보를 게시했다면?\\n주제내용: 정보주체가 자신의 개인정보를 인터넷 게시판에 게재하는 경우 조치 방법\\n문제상황내용: 협회에서는 홈페이지를 운영하고 있으나 별도의 회원가입 없이 누구나 자유롭게 게시판을 이용할 수 있도록 자유게시판을 운영하고 있습니다. 그런데 일부 홈페이지 이용자가 게시물에 자신의 성명, 전화번호, 이메일주소 등의 개인정보를 공개하는 경우가 있습니다. 이런 경우 개인정보가 유출되는 것은 아닌지 우려가 되고, 개인정보가 포함된 게시글을 삭제해야 하는지 고민이 됩니다.\\n질문: 개인이 본인의 개인정보가 포함된 게시물을 작성하여 게시판에 올린 경우 어떻게 처리해야 하나요?\\n해결방법내용: 홈페이지 운영자는 이용자가 작성한 게시물에 개인정보가 포함되어 있는 경우 개인정보의 추가적인 노출 및 타인에 의한 도용 등 2차적 피해를 예방하기 위하여  게시판 안내문을 통해 게시글에 개인정보가 포함되어 있는지 여부를 작성자가 확인하도록 하고, 개인정보 유출로 인한 피해가 있음을 알려줄 수 있습니다. 또한 고객이 부주의하게 게재한 개인정보는 고객의 의사를 확인하여 일부 마스킹 처리하거나 개인정보 입력을 사전에 차단할 수 있도록 ‘필터링 시스템’을 적용할 수 있습니다. 이와 같이 홈페이지 운영자는 최대한 개인정보 유출 방지를 위한 안전성 확보조치를 취하는 것이 바람직합니다.\\n결론내용: 홈페이지 이용자가 인터넷 게시판을 이용하면서 부주의로 자신의 개인정보를 게재하지 않도록 피해가능성 등에 대한 경고문을 사전에 안내하고, 개인정보 유출 방지를 위한 안전조치를 하여야 할 것입니다.\\n유사사례내용: FAQ_0000000000000748\\nfaq식별자: FAQ_0000000000000803\\n최종수정년월일시: 2013-10-11 21:01:49\\n조회수: 5385\\n임시: 안전성확보조치')]"
      ]
     },
     "execution_count": 6,
     "metadata": {},
     "output_type": "execute_result"
    }
   ],
   "source": [
    "retriever.get_relevant_documents(\"개인정보\")"
   ]
  },
  {
   "cell_type": "code",
   "execution_count": null,
   "id": "f1b36c09",
   "metadata": {},
   "outputs": [],
   "source": []
  },
  {
   "cell_type": "code",
   "execution_count": null,
   "id": "fc1b274c",
   "metadata": {},
   "outputs": [],
   "source": [
    "# 예시 문서 및 임베딩 생성\n",
    "# docs = [\"LangChain is cool\", \"FAISS is fast\"]\n",
    "# CSV 파일에서 문서 로드\n",
    "csv_docs = loader.load()\n",
    "\n",
    "# 임베딩 모델 생성\n",
    "embedding_model = HuggingFaceEmbeddings(model_name=EMBEDDING_MODEL_PATH)\n",
    "\n",
    "# 문서 텍스트 추출 (Document 객체라면 .page_content 사용)\n",
    "texts = [doc.page_content for doc in csv_docs]\n",
    "\n",
    "# FAISS 인덱스 생성\n",
    "vectorstore = FAISS.from_texts(texts, embedding_model)\n",
    "\n",
    "# 인덱스 저장\n",
    "vectorstore.save_local(\"./faiss_index\")\n"
   ]
  },
  {
   "cell_type": "code",
   "execution_count": 9,
   "id": "f932b652",
   "metadata": {},
   "outputs": [
    {
     "ename": "NameError",
     "evalue": "name 'vectorstore' is not defined",
     "output_type": "error",
     "traceback": [
      "\u001b[31m---------------------------------------------------------------------------\u001b[39m",
      "\u001b[31mNameError\u001b[39m                                 Traceback (most recent call last)",
      "\u001b[36mCell\u001b[39m\u001b[36m \u001b[39m\u001b[32mIn[2]\u001b[39m\u001b[32m, line 1\u001b[39m\n\u001b[32m----> \u001b[39m\u001b[32m1\u001b[39m retriever = \u001b[43mvectorstore\u001b[49m.as_retriever()\n",
      "\u001b[31mNameError\u001b[39m: name 'vectorstore' is not defined"
     ]
    }
   ],
   "source": [
    "retriever = vectorstore.as_retriever()"
   ]
  },
  {
   "cell_type": "code",
   "execution_count": 3,
   "id": "5a101e49",
   "metadata": {},
   "outputs": [
    {
     "ename": "NameError",
     "evalue": "name 'retriever' is not defined",
     "output_type": "error",
     "traceback": [
      "\u001b[31m---------------------------------------------------------------------------\u001b[39m",
      "\u001b[31mNameError\u001b[39m                                 Traceback (most recent call last)",
      "\u001b[36mCell\u001b[39m\u001b[36m \u001b[39m\u001b[32mIn[3]\u001b[39m\u001b[32m, line 1\u001b[39m\n\u001b[32m----> \u001b[39m\u001b[32m1\u001b[39m \u001b[43mretriever\u001b[49m.get_relevant_documents(\u001b[33m\"\u001b[39m\u001b[33m개인정보 유출이란?\u001b[39m\u001b[33m\"\u001b[39m)  \u001b[38;5;66;03m# 검색어에 대한 관련 문서 검색\u001b[39;00m\n",
      "\u001b[31mNameError\u001b[39m: name 'retriever' is not defined"
     ]
    }
   ],
   "source": [
    "retriever.get_relevant_documents(\"개인정보 유출이란?\")  # 검색어에 대한 관련 문서 검색"
   ]
  },
  {
   "cell_type": "code",
   "execution_count": null,
   "id": "1f06bc3b",
   "metadata": {},
   "outputs": [],
   "source": []
  },
  {
   "cell_type": "code",
   "execution_count": 7,
   "id": "a2137789",
   "metadata": {},
   "outputs": [
    {
     "name": "stdout",
     "output_type": "stream",
     "text": [
      "결과 1:\n",
      "﻿처리상황단계내용: CCTV\n",
      "적용분야내용: 공통분야\n",
      "개인정보유형내용: 영상정보\n",
      "코드제목: 건물 내 영상정보처리기기 안내판 부착은 어떻게?\n",
      "주제내용: 건물 내에 영상정보처리기기 대표 안내판 부착 가능 여부\n",
      "문제상황내용: 현재 건물 2개 층을 임대 사용 중이며 각 층 출입구에 영상정보처리기기 안내판을 부착하고 안내판에는 설치 목적과 장소, 촬영 범위와 시간, 설치 대수 및 책임자의 성명, 연락처 등을 명시하였습니다. 그러나 영상정보처리기기가 설치된 곳마다 영상정보처리기기 안내판을 부착해야 한다는 얘기를 들었습니다.\n",
      "질문: 영상정보처리기기 한 대당 안내판을 각각 부착해야 하는 것인지요?\n",
      "해결방법내용: 안내판은 촬영범위 내에서 정보주체가 알아보기 쉬운 장소에 설치하며, 안내판의 크기나 위치는 그 범위 내에서 자율적으로 정할 수 있습니다. 안내판에는 설치 목적 및 장소, 촬영범위 및 시간, 관리책임자의 성명 또는 직책 및 연락처 등을 기재하여야 합니다.이 경우 건물 안에 여러 개의 영상정보처리기기를 설치하는 경우에는 출입구 등 잘 보이는 곳에 해당 시설 또는 장소 전체가 영상정보처리기기 설치지역임을 표시하는 안내판을 설치할 수 있습니다.\n",
      "결론내용: 백화점, 역사 등 규모가 큰 건물 안에 여러 개의 영상정보처리기기를 설치하는 경우에는 각각의 기기에 대해 개별적으로 안내판을 설치하지 않아도 되며, 출입구 등 잘 보이는 곳에 해당 시설 또는 장소 전체가 영상정보처리기기 설치지역임을 표시하는 안내판을 설치할 수 있습니다.\n",
      "유사사례내용: FAQ_0000000000000766\n",
      "faq식별자: FAQ_0000000000000739\n",
      "최종수정년월일시: 2013-10-14 17:22:24\n",
      "조회수: 2525\n",
      "임시: CCTV\n",
      "\n",
      "결과 2:\n",
      "﻿처리상황단계내용: 위탁\n",
      "적용분야내용: 금융 분야\n",
      "개인정보유형내용: 일반정보\n",
      "코드제목: 금융회사는 모든 위탁업체 정보를 공개해야 한다?\n",
      "주제내용: 개인정보처리를 위탁하는 경우 공개하는 방법\n",
      "문제상황내용: 00금융회사는 A사에게 고객관리시스템 개발업무를 위탁하고, B사에게는 회계시스템 개발 업무를 위탁하고 있습니다.고객관리시스템을 개발하기 위해서는 고객의 성명이나 연락처 등 개인정보 처리가 수반되고, 회계시스템은 고객이나 직원의 개인정보의 처리 없이 단순한 회계정보만 다루게 됩니다. 개인정보보호법에서는 개인정보의 처리를 위탁하는 경우 위탁의 내용을 지속적으로 공개하도록 규정하고 있습니다.\n",
      "질문: 개인정보를 처리하지 않는 회계시스템과 같은 개발업무를 위탁하는 경우에도 위탁업체인 B를 공개해야 하는지요?\n",
      "해결방법내용: 개인정보보호법 제26조에서는 개인정보를 처리하는 업무를 위탁하는 경우 위탁하는 업무의 내용과 개인정보 처리 업무를 위탁받아 처리하는 자(이하 \"수탁자\"라 한다)를 정보주체가 언제든지 쉽게 확인할 수 있도록 인터넷 홈페이지 등에 공개하도록 하고 있습니다.개인정보의 처리업무 위탁이란 개인정보처리자가 비용절감, 업무 효율화 등을 위하여 자신의 업무를 외부에 위탁하는 것으로써, 이에는 개인정보의 수집·관리 업무 그 자체를 위탁하는 경우와 개인정보의 이용 등이 수반되는 일반 업무를 위탁하는 경우가 모두 포함됩니다. 고객의 개인정보처리를 수반하는 고객관리시스템 개발위탁은 개인정보 처리업무의 위탁에 해당되고, 고객정보나 개인정보를 전혀 활용하지 않는 회계시스템 개발 위탁은 개인정보 처리 업무의 위탁에 해당되지 않습니다.\n",
      "결론내용: 위탁자인 금융회사는 개인정보보호법 제26조에 따라 개인정보 처리 업무를 위탁받은 A사의 정보를 정보주체가 쉽게 알아볼 수 있도록 공개하여야 하며, 개인정보를 처리하지 않는 업무를 위탁받은 B사의 정보를 공개할 의무는 없습니다.\n",
      "유사사례내용: FAQ_0000000000000814,FAQ_0000000000000815,FAQ_0000000000000774\n",
      "faq식별자: FAQ_0000000000000754\n",
      "최종수정년월일시: 2013-10-14 17:31:09\n",
      "조회수: 3671\n",
      "임시: 위탁\n",
      "\n",
      "결과 3:\n",
      "﻿처리상황단계내용: 안전성확보조치\n",
      "적용분야내용: 시스템 분야\n",
      "개인정보유형내용: 일반정보\n",
      "코드제목: 홈페이지 방문객이 게시판에 스스로 본인의 개인정보를 게시했다면?\n",
      "주제내용: 정보주체가 자신의 개인정보를 인터넷 게시판에 게재하는 경우 조치 방법\n",
      "문제상황내용: 협회에서는 홈페이지를 운영하고 있으나 별도의 회원가입 없이 누구나 자유롭게 게시판을 이용할 수 있도록 자유게시판을 운영하고 있습니다. 그런데 일부 홈페이지 이용자가 게시물에 자신의 성명, 전화번호, 이메일주소 등의 개인정보를 공개하는 경우가 있습니다. 이런 경우 개인정보가 유출되는 것은 아닌지 우려가 되고, 개인정보가 포함된 게시글을 삭제해야 하는지 고민이 됩니다.\n",
      "질문: 개인이 본인의 개인정보가 포함된 게시물을 작성하여 게시판에 올린 경우 어떻게 처리해야 하나요?\n",
      "해결방법내용: 홈페이지 운영자는 이용자가 작성한 게시물에 개인정보가 포함되어 있는 경우 개인정보의 추가적인 노출 및 타인에 의한 도용 등 2차적 피해를 예방하기 위하여  게시판 안내문을 통해 게시글에 개인정보가 포함되어 있는지 여부를 작성자가 확인하도록 하고, 개인정보 유출로 인한 피해가 있음을 알려줄 수 있습니다. 또한 고객이 부주의하게 게재한 개인정보는 고객의 의사를 확인하여 일부 마스킹 처리하거나 개인정보 입력을 사전에 차단할 수 있도록 ‘필터링 시스템’을 적용할 수 있습니다. 이와 같이 홈페이지 운영자는 최대한 개인정보 유출 방지를 위한 안전성 확보조치를 취하는 것이 바람직합니다.\n",
      "결론내용: 홈페이지 이용자가 인터넷 게시판을 이용하면서 부주의로 자신의 개인정보를 게재하지 않도록 피해가능성 등에 대한 경고문을 사전에 안내하고, 개인정보 유출 방지를 위한 안전조치를 하여야 할 것입니다.\n",
      "유사사례내용: FAQ_0000000000000748\n",
      "faq식별자: FAQ_0000000000000803\n",
      "최종수정년월일시: 2013-10-11 21:01:49\n",
      "조회수: 5385\n",
      "임시: 안전성확보조치\n",
      "\n"
     ]
    }
   ],
   "source": [
    "# 검색 쿼리 입력\n",
    "query = \"LangChain이 뭐하는 라이브러리야?\"\n",
    "\n",
    "# top-k 유사 문서 검색\n",
    "docs = vectorstore.similarity_search(query, k=3)\n",
    "\n",
    "# 결과 출력\n",
    "for i, doc in enumerate(docs):\n",
    "    print(f\"결과 {i+1}:\\n{doc.page_content}\\n\")\n"
   ]
  }
 ],
 "metadata": {
  "kernelspec": {
   "display_name": ".venv",
   "language": "python",
   "name": "python3"
  },
  "language_info": {
   "codemirror_mode": {
    "name": "ipython",
    "version": 3
   },
   "file_extension": ".py",
   "mimetype": "text/x-python",
   "name": "python",
   "nbconvert_exporter": "python",
   "pygments_lexer": "ipython3",
   "version": "3.11.2"
  }
 },
 "nbformat": 4,
 "nbformat_minor": 5
}
