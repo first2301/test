{
 "cells": [
  {
   "cell_type": "code",
   "execution_count": 1,
   "metadata": {},
   "outputs": [],
   "source": [
    "# import os\n",
    "# os.environ[\"CUDA_VISIBLE_DEVICES\"] = \"3\""
   ]
  },
  {
   "cell_type": "code",
   "execution_count": 2,
   "metadata": {},
   "outputs": [],
   "source": [
    "# import torch\n",
    "# print(torch.cuda.is_available())\n",
    "# print(torch.cuda.get_device_name(0))\n",
    "# print((torch.cuda._get_nvml_device_index(0)))"
   ]
  },
  {
   "cell_type": "code",
   "execution_count": 3,
   "metadata": {},
   "outputs": [],
   "source": [
    "from langchain.callbacks.manager import CallbackManager\n",
    "from langchain_community.vectorstores import ElasticsearchStore\n",
    "from langchain.callbacks.streaming_stdout import StreamingStdOutCallbackHandler\n",
    "from langchain_community.llms import LlamaCpp\n",
    "from langchain.vectorstores import FAISS\n",
    "from langchain_huggingface import HuggingFaceEmbeddings\n",
    "from langchain.prompts import PromptTemplate\n",
    "from langchain.chains import RetrievalQA\n",
    "import multiprocessing\n",
    "import os\n",
    "\n",
    "from pathlib import Path\n",
    "from langchain.prompts import load_prompt"
   ]
  },
  {
   "cell_type": "code",
   "execution_count": 4,
   "metadata": {},
   "outputs": [],
   "source": [
    "current_dir = os.getcwd()\n",
    "project_root = os.path.abspath(os.path.join(current_dir, \"..\"))\n",
    "# MODEL_PATH = os.path.join(project_root, \"ai_models\", \"base_models\", \"hyperclova\", \"hyperclova-seed-text-1.5b-q4-k-m.gguf\")\n",
    "# MODEL_PATH = os.path.join(project_root, \"ai_models\", \"base_models\", \"hyperclova\", \"hyperclova-seed-text-1.5b.gguf\")\n",
    "# MODEL_PATH = os.path.join(project_root, \"ai_models\", \"base_models\", \"kanana\", \"kanana-nano-2.1b-instruc-q4-k-m.gguf\")\n",
    "# MODEL_PATH = os.path.join(project_root, \"ai_models\", \"base_models\", \"llama-3.2-Korean-Bllossom-3B-gguf-Q4_K_M\", \"llama-3.2-Korean-Bllossom-3B-gguf-Q4_K_M.gguf\")\n",
    "\n",
    "# MODEL_PATH = os.path.join(project_root, \"ai_models\", \"base_models\", \"Meta-Llama-3-8B-Instruct-GGUF\", \"Meta-Llama-3-8B-Instruct-Q4_K_M.gguf\")\n",
    "# MODEL_PATH = os.path.join(project_root, \"ai_models\", \"base_models\", \"llama-3.2-Korean-Bllossom-3B-GGUF\", \"llama-3.2-Korean-Bllossom-3B.gguf\")\n",
    "# MODEL_PATH = os.path.join(project_root, \"ai_models\", \"base_models\", \"EXAONE-3.5-2.4B-Instruct-GGUF\", \"EXAONE-3.5-2.4B-Instruct-BF16.gguf\")\n",
    "# MODEL_PATH = os.path.join(project_root, \"ai_models\", \"base_models\", \"EXAONE-3.5-2.4B-Instruct-GGUF\", \"EXAONE-3.5-2.4B-Instruct-Q5_K_M.gguf\")\n",
    "\n",
    "\n",
    "# MODEL_PATH = os.path.join(project_root, \"ai_models\", \"base_models\", \"TheBloke\", \"OpenHermes-2.5-Mistral-7B-GGUF\", \"openhermes-2.5-mistral-7b.Q3_K_M.gguf\")\n",
    "MODEL_PATH = os.path.join(project_root, \"ai_models\", \"base_models\", \"TheBloke\", \"CapybaraHermes-2.5-Mistral-7B-GGUF\", \"capybarahermes-2.5-mistral-7b.Q6_K.gguf\")\n",
    "# MODEL_PATH = os.path.join(project_root, \"ai_models\", \"base_models\", \"unsloth\", \"Llama-3.1-8B-Instruct-GGUF\", \"Llama-3.1-8B-Instruct-UD-Q8_K_XL.gguf\")\n",
    "# MODEL_PATH = os.path.join(project_root, \"ai_models\", \"base_models\", \"unsloth\", \"Llama-3.1-8B-Instruct-GGUF\", \"Llama-3.1-8B-Instruct-Q3_K_M.gguf\")\n",
    "# MODEL_PATH = os.path.join(project_root, \"ai_models\", \"base_models\", \"unsloth\", \"Llama-3.1-8B-Instruct-GGUF\", \"Llama-3.1-8B-Instruct-UD-Q6_K_XL.gguf\")\n",
    "# MODEL_PATH = os.path.join(project_root, \"ai_models\", \"base_models\", \"lmstudio-community\", \"Phi-4-mini-instruct-GGUF\", \"Phi-4-mini-instruct-Q3_K_L.gguf\")\n"
   ]
  },
  {
   "cell_type": "code",
   "execution_count": 5,
   "metadata": {},
   "outputs": [],
   "source": [
    "PROMPT_DIR = Path(\"prompts\")\n",
    "system_prompt = (PROMPT_DIR / \"system\" / \"base_system_prompt_v0.4.txt\").read_text(encoding=\"utf-8\")\n",
    "qa_prompt = load_prompt(str(PROMPT_DIR / \"tasks\" / \"qa_prompt_v0.4.yaml\"), encoding=\"utf-8\")\n",
    "\n",
    "condense_prompt = load_prompt(str(PROMPT_DIR / \"follow\" / \"condense_question.yaml\"), encoding=\"utf-8\")"
   ]
  },
  {
   "cell_type": "code",
   "execution_count": 6,
   "metadata": {},
   "outputs": [],
   "source": [
    "# HuggingFaceEmbeddings 클래스 deprecation 경고 발생\n",
    "# LangChain 0.2.2에서 deprecated되어 1.0에서 제거 예정\n",
    "# 해결: langchain-huggingface 패키지의 새 버전 사용 필요\n",
    "\n",
    "embeddings = HuggingFaceEmbeddings(\n",
    "    model_name=\"../ai_models/base_models/BGE-m3-ko\",\n",
    "    model_kwargs={'device': 'cpu'},\n",
    "    encode_kwargs={'normalize_embeddings': True}\n",
    ")"
   ]
  },
  {
   "cell_type": "code",
   "execution_count": 7,
   "metadata": {},
   "outputs": [],
   "source": [
    "from langchain_elasticsearch import ElasticsearchStore\n",
    "\n",
    "elastic_vector_search = ElasticsearchStore(\n",
    "    es_url=\"http://127.0.0.1:9200\",\n",
    "    index_name=\"all_docs\",\n",
    "    embedding=embeddings,\n",
    "    es_user=\"elastic\",\n",
    "    es_password=\"elastic\",\n",
    ")"
   ]
  },
  {
   "cell_type": "code",
   "execution_count": 8,
   "metadata": {},
   "outputs": [],
   "source": [
    "# retriever = elastic_vector_search.as_retriever(\n",
    "#     search_type=\"similarity\",\n",
    "#     search_kwargs={\n",
    "#         \"k\": 20,\n",
    "#         \"field\": \"embedding\",\n",
    "#         \"similarity\": \"cosine\"\n",
    "#     }\n",
    "# )\n",
    "\n",
    "retriever = elastic_vector_search.as_retriever(\n",
    "    search_type=\"similarity\",\n",
    "    search_kwargs={\n",
    "        \"k\": 5,                    # 상위 5개 문서\n",
    "        \"num_candidates\": 20,      # 후보 문서 수\n",
    "        \"field\": \"embedding\",      # 벡터 필드\n",
    "        \"similarity\": \"cosine\",    # 코사인 유사도\n",
    "        \"index_options\": {\n",
    "            \"type\": \"int8_hnsw\",   # HNSW 알고리즘\n",
    "            \"m\": 16,               # 그래프 연결 수\n",
    "            \"ef_construction\": 100  # 정확도 파라미터\n",
    "        }\n",
    "    }\n",
    ")"
   ]
  },
  {
   "cell_type": "code",
   "execution_count": 9,
   "metadata": {},
   "outputs": [],
   "source": [
    "# from elasticsearch import Elasticsearch\n",
    "\n",
    "# es = Elasticsearch(\"http://127.0.0.1:9200\", basic_auth=(\"elastic\", \"elastic\"))\n",
    "\n",
    "# try:\n",
    "#     es.indices.update_aliases(body={\n",
    "#         \"actions\": [\n",
    "#             {\"add\": {\"index\": \"pdf\", \"alias\": \"all_docs\"}},\n",
    "#             {\"add\": {\"index\": \"korquad\", \"alias\": \"all_docs\"}}\n",
    "#         ]\n",
    "#     })\n",
    "# except Exception as e:\n",
    "#     print(f\"Error updating aliases: {e}\")\n"
   ]
  },
  {
   "cell_type": "code",
   "execution_count": 10,
   "metadata": {},
   "outputs": [],
   "source": [
    "\n",
    "# # 모든 인덱스 조회\n",
    "# indices = es.indices.get_alias().keys()\n",
    "# print(\"Available indices:\", list(indices))\n",
    "\n",
    "# # 각 인덱스의 문서 수 확인\n",
    "# for index in indices:\n",
    "#     count = es.count(index=index)\n",
    "#     print(f\"\\nIndex: {index}\")\n",
    "#     print(f\"Document count: {count['count']}\")\n",
    "    \n",
    "#     # 인덱스 매핑 정보 조회\n",
    "#     mapping = es.indices.get_mapping(index=index)\n",
    "#     print(f\"Mapping:\", mapping[index]['mappings'])\n"
   ]
  },
  {
   "cell_type": "code",
   "execution_count": 11,
   "metadata": {},
   "outputs": [],
   "source": [
    "# faiss_index_directory = \"./faiss_index_directory\"\n",
    "# vectorstore = FAISS.load_local(faiss_index_directory, embeddings, allow_dangerous_deserialization=True)\n",
    "# retriever = vectorstore.as_retriever(    \n",
    "#     search_type=\"similarity_score_threshold\", \n",
    "#     search_kwargs={\"score_threshold\": 0.5, \"k\": 3}\n",
    "# )"
   ]
  },
  {
   "cell_type": "code",
   "execution_count": 12,
   "metadata": {},
   "outputs": [
    {
     "name": "stderr",
     "output_type": "stream",
     "text": [
      "f:\\chat_test\\.venv\\Lib\\site-packages\\IPython\\core\\interactiveshell.py:3607: UserWarning: WARNING! presence_penalty is not default parameter.\n",
      "                presence_penalty was transferred to model_kwargs.\n",
      "                Please confirm that presence_penalty is what you intended.\n",
      "  if await self.run_code(code, result, async_=asy):\n",
      "f:\\chat_test\\.venv\\Lib\\site-packages\\IPython\\core\\interactiveshell.py:3607: UserWarning: WARNING! frequency_penalty is not default parameter.\n",
      "                frequency_penalty was transferred to model_kwargs.\n",
      "                Please confirm that frequency_penalty is what you intended.\n",
      "  if await self.run_code(code, result, async_=asy):\n",
      "f:\\chat_test\\.venv\\Lib\\site-packages\\IPython\\core\\interactiveshell.py:3607: UserWarning: WARNING! device is not default parameter.\n",
      "                device was transferred to model_kwargs.\n",
      "                Please confirm that device is what you intended.\n",
      "  if await self.run_code(code, result, async_=asy):\n",
      "llama_model_loader: loaded meta data with 24 key-value pairs and 291 tensors from f:\\chat_test\\ai_models\\base_models\\TheBloke\\CapybaraHermes-2.5-Mistral-7B-GGUF\\capybarahermes-2.5-mistral-7b.Q6_K.gguf (version GGUF V3 (latest))\n",
      "llama_model_loader: Dumping metadata keys/values. Note: KV overrides do not apply in this output.\n",
      "llama_model_loader: - kv   0:                       general.architecture str              = llama\n",
      "llama_model_loader: - kv   1:                               general.name str              = argilla_capybarahermes-2.5-mistral-7b\n",
      "llama_model_loader: - kv   2:                       llama.context_length u32              = 32768\n",
      "llama_model_loader: - kv   3:                     llama.embedding_length u32              = 4096\n",
      "llama_model_loader: - kv   4:                          llama.block_count u32              = 32\n",
      "llama_model_loader: - kv   5:                  llama.feed_forward_length u32              = 14336\n",
      "llama_model_loader: - kv   6:                 llama.rope.dimension_count u32              = 128\n",
      "llama_model_loader: - kv   7:                 llama.attention.head_count u32              = 32\n",
      "llama_model_loader: - kv   8:              llama.attention.head_count_kv u32              = 8\n",
      "llama_model_loader: - kv   9:     llama.attention.layer_norm_rms_epsilon f32              = 0.000010\n",
      "llama_model_loader: - kv  10:                       llama.rope.freq_base f32              = 10000.000000\n",
      "llama_model_loader: - kv  11:                          general.file_type u32              = 18\n",
      "llama_model_loader: - kv  12:                       tokenizer.ggml.model str              = llama\n",
      "llama_model_loader: - kv  13:                      tokenizer.ggml.tokens arr[str,32002]   = [\"<unk>\", \"<s>\", \"</s>\", \"<0x00>\", \"<...\n",
      "llama_model_loader: - kv  14:                      tokenizer.ggml.scores arr[f32,32002]   = [0.000000, 0.000000, 0.000000, 0.0000...\n",
      "llama_model_loader: - kv  15:                  tokenizer.ggml.token_type arr[i32,32002]   = [2, 3, 3, 6, 6, 6, 6, 6, 6, 6, 6, 6, ...\n",
      "llama_model_loader: - kv  16:                tokenizer.ggml.bos_token_id u32              = 1\n",
      "llama_model_loader: - kv  17:                tokenizer.ggml.eos_token_id u32              = 32000\n",
      "llama_model_loader: - kv  18:            tokenizer.ggml.unknown_token_id u32              = 0\n",
      "llama_model_loader: - kv  19:            tokenizer.ggml.padding_token_id u32              = 0\n",
      "llama_model_loader: - kv  20:               tokenizer.ggml.add_bos_token bool             = true\n",
      "llama_model_loader: - kv  21:               tokenizer.ggml.add_eos_token bool             = false\n",
      "llama_model_loader: - kv  22:                    tokenizer.chat_template str              = {% for message in messages %}{{'<|im_...\n",
      "llama_model_loader: - kv  23:               general.quantization_version u32              = 2\n",
      "llama_model_loader: - type  f32:   65 tensors\n",
      "llama_model_loader: - type q6_K:  226 tensors\n",
      "print_info: file format = GGUF V3 (latest)\n",
      "print_info: file type   = Q6_K\n",
      "print_info: file size   = 5.53 GiB (6.56 BPW) \n",
      "init_tokenizer: initializing tokenizer for type 1\n",
      "load: control-looking token:  32000 '<|im_end|>' was not control-type; this is probably a bug in the model. its type will be overridden\n",
      "load: control token:      2 '</s>' is not marked as EOG\n",
      "load: control token:      1 '<s>' is not marked as EOG\n",
      "load: special tokens cache size = 5\n",
      "load: token to piece cache size = 0.1637 MB\n",
      "print_info: arch             = llama\n",
      "print_info: vocab_only       = 0\n",
      "print_info: n_ctx_train      = 32768\n",
      "print_info: n_embd           = 4096\n",
      "print_info: n_layer          = 32\n",
      "print_info: n_head           = 32\n",
      "print_info: n_head_kv        = 8\n",
      "print_info: n_rot            = 128\n",
      "print_info: n_swa            = 0\n",
      "print_info: n_embd_head_k    = 128\n",
      "print_info: n_embd_head_v    = 128\n",
      "print_info: n_gqa            = 4\n",
      "print_info: n_embd_k_gqa     = 1024\n",
      "print_info: n_embd_v_gqa     = 1024\n",
      "print_info: f_norm_eps       = 0.0e+00\n",
      "print_info: f_norm_rms_eps   = 1.0e-05\n",
      "print_info: f_clamp_kqv      = 0.0e+00\n",
      "print_info: f_max_alibi_bias = 0.0e+00\n",
      "print_info: f_logit_scale    = 0.0e+00\n",
      "print_info: f_attn_scale     = 0.0e+00\n",
      "print_info: n_ff             = 14336\n",
      "print_info: n_expert         = 0\n",
      "print_info: n_expert_used    = 0\n",
      "print_info: causal attn      = 1\n",
      "print_info: pooling type     = 0\n",
      "print_info: rope type        = 0\n",
      "print_info: rope scaling     = linear\n",
      "print_info: freq_base_train  = 10000.0\n",
      "print_info: freq_scale_train = 1\n",
      "print_info: n_ctx_orig_yarn  = 32768\n",
      "print_info: rope_finetuned   = unknown\n",
      "print_info: ssm_d_conv       = 0\n",
      "print_info: ssm_d_inner      = 0\n",
      "print_info: ssm_d_state      = 0\n",
      "print_info: ssm_dt_rank      = 0\n",
      "print_info: ssm_dt_b_c_rms   = 0\n",
      "print_info: model type       = 7B\n",
      "print_info: model params     = 7.24 B\n",
      "print_info: general.name     = argilla_capybarahermes-2.5-mistral-7b\n",
      "print_info: vocab type       = SPM\n",
      "print_info: n_vocab          = 32002\n",
      "print_info: n_merges         = 0\n",
      "print_info: BOS token        = 1 '<s>'\n",
      "print_info: EOS token        = 32000 '<|im_end|>'\n",
      "print_info: EOT token        = 32000 '<|im_end|>'\n",
      "print_info: UNK token        = 0 '<unk>'\n",
      "print_info: PAD token        = 0 '<unk>'\n",
      "print_info: LF token         = 13 '<0x0A>'\n",
      "print_info: EOG token        = 32000 '<|im_end|>'\n",
      "print_info: max token length = 48\n",
      "load_tensors: loading model tensors, this can take a while... (mmap = true)\n",
      "load_tensors: layer   0 assigned to device CPU\n",
      "load_tensors: layer   1 assigned to device CPU\n",
      "load_tensors: layer   2 assigned to device CPU\n",
      "load_tensors: layer   3 assigned to device CPU\n",
      "load_tensors: layer   4 assigned to device CPU\n",
      "load_tensors: layer   5 assigned to device CPU\n",
      "load_tensors: layer   6 assigned to device CPU\n",
      "load_tensors: layer   7 assigned to device CPU\n",
      "load_tensors: layer   8 assigned to device CPU\n",
      "load_tensors: layer   9 assigned to device CPU\n",
      "load_tensors: layer  10 assigned to device CPU\n",
      "load_tensors: layer  11 assigned to device CPU\n",
      "load_tensors: layer  12 assigned to device CPU\n",
      "load_tensors: layer  13 assigned to device CPU\n",
      "load_tensors: layer  14 assigned to device CPU\n",
      "load_tensors: layer  15 assigned to device CPU\n",
      "load_tensors: layer  16 assigned to device CPU\n",
      "load_tensors: layer  17 assigned to device CPU\n",
      "load_tensors: layer  18 assigned to device CPU\n",
      "load_tensors: layer  19 assigned to device CPU\n",
      "load_tensors: layer  20 assigned to device CPU\n",
      "load_tensors: layer  21 assigned to device CPU\n",
      "load_tensors: layer  22 assigned to device CPU\n",
      "load_tensors: layer  23 assigned to device CPU\n",
      "load_tensors: layer  24 assigned to device CPU\n",
      "load_tensors: layer  25 assigned to device CPU\n",
      "load_tensors: layer  26 assigned to device CPU\n",
      "load_tensors: layer  27 assigned to device CPU\n",
      "load_tensors: layer  28 assigned to device CPU\n",
      "load_tensors: layer  29 assigned to device CPU\n",
      "load_tensors: layer  30 assigned to device CPU\n",
      "load_tensors: layer  31 assigned to device CPU\n",
      "load_tensors: layer  32 assigned to device CPU\n",
      "load_tensors: tensor 'token_embd.weight' (q6_K) (and 290 others) cannot be used with preferred buffer type CPU_AARCH64, using CPU instead\n",
      "load_tensors:   CPU_Mapped model buffer size =  5666.11 MiB\n",
      "...................................................................................................\n",
      "llama_init_from_model: n_seq_max     = 1\n",
      "llama_init_from_model: n_ctx         = 4064\n",
      "llama_init_from_model: n_ctx_per_seq = 4064\n",
      "llama_init_from_model: n_batch       = 512\n",
      "llama_init_from_model: n_ubatch      = 512\n",
      "llama_init_from_model: flash_attn    = 0\n",
      "llama_init_from_model: freq_base     = 10000.0\n",
      "llama_init_from_model: freq_scale    = 1\n",
      "llama_init_from_model: n_ctx_per_seq (4064) < n_ctx_train (32768) -- the full capacity of the model will not be utilized\n",
      "llama_kv_cache_init: kv_size = 4064, offload = 1, type_k = 'f16', type_v = 'f16', n_layer = 32, can_shift = 1\n",
      "llama_kv_cache_init: layer 0: n_embd_k_gqa = 1024, n_embd_v_gqa = 1024\n",
      "llama_kv_cache_init: layer 1: n_embd_k_gqa = 1024, n_embd_v_gqa = 1024\n",
      "llama_kv_cache_init: layer 2: n_embd_k_gqa = 1024, n_embd_v_gqa = 1024\n",
      "llama_kv_cache_init: layer 3: n_embd_k_gqa = 1024, n_embd_v_gqa = 1024\n",
      "llama_kv_cache_init: layer 4: n_embd_k_gqa = 1024, n_embd_v_gqa = 1024\n",
      "llama_kv_cache_init: layer 5: n_embd_k_gqa = 1024, n_embd_v_gqa = 1024\n",
      "llama_kv_cache_init: layer 6: n_embd_k_gqa = 1024, n_embd_v_gqa = 1024\n",
      "llama_kv_cache_init: layer 7: n_embd_k_gqa = 1024, n_embd_v_gqa = 1024\n",
      "llama_kv_cache_init: layer 8: n_embd_k_gqa = 1024, n_embd_v_gqa = 1024\n",
      "llama_kv_cache_init: layer 9: n_embd_k_gqa = 1024, n_embd_v_gqa = 1024\n",
      "llama_kv_cache_init: layer 10: n_embd_k_gqa = 1024, n_embd_v_gqa = 1024\n",
      "llama_kv_cache_init: layer 11: n_embd_k_gqa = 1024, n_embd_v_gqa = 1024\n",
      "llama_kv_cache_init: layer 12: n_embd_k_gqa = 1024, n_embd_v_gqa = 1024\n",
      "llama_kv_cache_init: layer 13: n_embd_k_gqa = 1024, n_embd_v_gqa = 1024\n",
      "llama_kv_cache_init: layer 14: n_embd_k_gqa = 1024, n_embd_v_gqa = 1024\n",
      "llama_kv_cache_init: layer 15: n_embd_k_gqa = 1024, n_embd_v_gqa = 1024\n",
      "llama_kv_cache_init: layer 16: n_embd_k_gqa = 1024, n_embd_v_gqa = 1024\n",
      "llama_kv_cache_init: layer 17: n_embd_k_gqa = 1024, n_embd_v_gqa = 1024\n",
      "llama_kv_cache_init: layer 18: n_embd_k_gqa = 1024, n_embd_v_gqa = 1024\n",
      "llama_kv_cache_init: layer 19: n_embd_k_gqa = 1024, n_embd_v_gqa = 1024\n",
      "llama_kv_cache_init: layer 20: n_embd_k_gqa = 1024, n_embd_v_gqa = 1024\n",
      "llama_kv_cache_init: layer 21: n_embd_k_gqa = 1024, n_embd_v_gqa = 1024\n",
      "llama_kv_cache_init: layer 22: n_embd_k_gqa = 1024, n_embd_v_gqa = 1024\n",
      "llama_kv_cache_init: layer 23: n_embd_k_gqa = 1024, n_embd_v_gqa = 1024\n",
      "llama_kv_cache_init: layer 24: n_embd_k_gqa = 1024, n_embd_v_gqa = 1024\n",
      "llama_kv_cache_init: layer 25: n_embd_k_gqa = 1024, n_embd_v_gqa = 1024\n",
      "llama_kv_cache_init: layer 26: n_embd_k_gqa = 1024, n_embd_v_gqa = 1024\n",
      "llama_kv_cache_init: layer 27: n_embd_k_gqa = 1024, n_embd_v_gqa = 1024\n",
      "llama_kv_cache_init: layer 28: n_embd_k_gqa = 1024, n_embd_v_gqa = 1024\n",
      "llama_kv_cache_init: layer 29: n_embd_k_gqa = 1024, n_embd_v_gqa = 1024\n",
      "llama_kv_cache_init: layer 30: n_embd_k_gqa = 1024, n_embd_v_gqa = 1024\n",
      "llama_kv_cache_init: layer 31: n_embd_k_gqa = 1024, n_embd_v_gqa = 1024\n",
      "llama_kv_cache_init:        CPU KV buffer size =   508.00 MiB\n",
      "llama_init_from_model: KV self size  =  508.00 MiB, K (f16):  254.00 MiB, V (f16):  254.00 MiB\n",
      "llama_init_from_model:        CPU  output buffer size =     0.12 MiB\n",
      "llama_init_from_model:        CPU compute buffer size =   293.94 MiB\n",
      "llama_init_from_model: graph nodes  = 1030\n",
      "llama_init_from_model: graph splits = 1\n",
      "CPU : SSE3 = 1 | SSSE3 = 1 | AVX = 1 | AVX2 = 1 | F16C = 1 | FMA = 1 | LLAMAFILE = 1 | OPENMP = 1 | AARCH64_REPACK = 1 | \n",
      "Model metadata: {'general.name': 'argilla_capybarahermes-2.5-mistral-7b', 'general.architecture': 'llama', 'llama.context_length': '32768', 'llama.rope.dimension_count': '128', 'llama.embedding_length': '4096', 'llama.block_count': '32', 'llama.feed_forward_length': '14336', 'llama.attention.head_count': '32', 'tokenizer.ggml.eos_token_id': '32000', 'general.file_type': '18', 'llama.attention.head_count_kv': '8', 'llama.attention.layer_norm_rms_epsilon': '0.000010', 'llama.rope.freq_base': '10000.000000', 'tokenizer.ggml.model': 'llama', 'general.quantization_version': '2', 'tokenizer.ggml.bos_token_id': '1', 'tokenizer.ggml.unknown_token_id': '0', 'tokenizer.ggml.padding_token_id': '0', 'tokenizer.ggml.add_bos_token': 'true', 'tokenizer.ggml.add_eos_token': 'false', 'tokenizer.chat_template': \"{% for message in messages %}{{'<|im_start|>' + message['role'] + '\\n' + message['content'] + '<|im_end|>' + '\\n'}}{% endfor %}{% if add_generation_prompt %}{{ '<|im_start|>assistant\\n' }}{% endif %}\"}\n",
      "Available chat formats from metadata: chat_template.default\n",
      "Guessed chat format: chatml\n"
     ]
    }
   ],
   "source": [
    "callback_manager = CallbackManager([StreamingStdOutCallbackHandler()])\n",
    "llm = LlamaCpp(\n",
    "    model_path=MODEL_PATH,          # 모델 파일 경로\n",
    "    temperature=0.6,                # 생성의 무작위성/창의성 조절 (0-1, 높을수록 창의적)\n",
    "    top_p=0.9,                      # 누적 확률 임계값 (다양성과 품질의 균형)\n",
    "    max_tokens=512,                 # 생성할 최대 토큰 수\n",
    "    repeat_penalty=1.3,             # 반복 표현 억제를 위한 페널티 계수\n",
    "   # stop=[\"\\n###\",\"<<END>>\"],     # 생성 중단 토큰 (주석 처리됨)\n",
    "    presence_penalty=0.2,           # 이미 등장한 토큰 재사용 억제 강도\n",
    "    frequency_penalty=0.3,          # 자주 등장하는 토큰 사용 억제 강도\n",
    "    top_k=45,                      # 다음 토큰 선택시 고려할 상위 토큰 수\n",
    "    callback_manager=callback_manager, # 콜백 관리자 (스트리밍 출력용)\n",
    "    verbose=True,                   # 상세 로그 출력 여부\n",
    "    n_ctx=4048,                    # 컨텍스트 윈도우 크기 (토큰 수)\n",
    "    n_gpu_layers=-1,               # GPU로 처리할 레이어 수 (-1은 전체)\n",
    "    n_batch=512,                   # 배치 처리 크기\n",
    "    device=\"cuda\",                 # 실행 디바이스 (GPU 사용)\n",
    "    f16_kv=True                    # FP16 형식으로 key/value 캐시 저장 (메모리 최적화)\n",
    ")\n",
    "\n",
    "# llm = LlamaCpp(\n",
    "#     model_path=MODEL_PATH,\n",
    "#     temperature=0.6,\n",
    "#     max_tokens=512,\n",
    "#     top_p=1,\n",
    "#     callback_manager=callback_manager,\n",
    "#     verbose=True,\n",
    "#     n_ctx=2048,  # 컨텍스트 길이\n",
    "#     n_gpu_layers=-1,  # 모든 레이어를 GPU에서 실행 (-1은 전체 레이어)\n",
    "#     n_batch=512,  # GPU 배치 크기\n",
    "#     # n_threads=multiprocessing.cpu_count() - 1,\n",
    "#     device=\"cuda\",  # GPU 사용 설정\n",
    "#     f16_kv=True  # GPU 메모리 최적화를 위한 FP16 사용\n",
    "# )"
   ]
  },
  {
   "cell_type": "code",
   "execution_count": 13,
   "metadata": {},
   "outputs": [],
   "source": [
    "merged_template_str = f\"\"\"{system_prompt}\n",
    "\n",
    "{qa_prompt.template}\"\"\"   # ← .template 속성이 ‘본문 문자열’\n",
    "\n",
    "# ④ 최종 PromptTemplate 생성\n",
    "prompt_template = PromptTemplate(\n",
    "    template=merged_template_str,\n",
    "    input_variables=qa_prompt.input_variables   # [\"context\", \"question\", \"chat_history\"]\n",
    ")"
   ]
  },
  {
   "cell_type": "code",
   "execution_count": 14,
   "metadata": {},
   "outputs": [],
   "source": [
    "from langchain.chains import ConversationalRetrievalChain\n",
    "\n",
    "qa_chain = ConversationalRetrievalChain.from_llm(\n",
    "    llm=llm,\n",
    "    retriever=retriever,\n",
    "    condense_question_prompt=load_prompt(PROMPT_DIR / \"follow\" / \"condense_question.yaml\"),\n",
    "    combine_docs_chain_kwargs={\"prompt\": prompt_template}\n",
    ")\n"
   ]
  },
  {
   "cell_type": "code",
   "execution_count": 15,
   "metadata": {},
   "outputs": [],
   "source": [
    "chat_history = [] # 첫 질문이면 빈 리스트"
   ]
  },
  {
   "cell_type": "code",
   "execution_count": 16,
   "metadata": {},
   "outputs": [],
   "source": [
    "query = \"초거대 AI에 대해 알려줘\""
   ]
  },
  {
   "cell_type": "code",
   "execution_count": 17,
   "metadata": {},
   "outputs": [
    {
     "name": "stdout",
     "output_type": "stream",
     "text": [
      "초거대 AI, 즉 Large Language Model는 자연어처리와 관련된 AI모델 중에서 특히 텍스트를 입력받아 문장을 생성하고 이해하며 추천할 수 있도록 구축한 것으로, 최근에는 ChatGPT와 같은 AI기반의 대화형 텍스트봇(chatbot)을 개발하거나 자동완성과 관련된 서비스를 포함해서 다양한 분야에 활용되고 있습니다."
     ]
    },
    {
     "name": "stderr",
     "output_type": "stream",
     "text": [
      "llama_perf_context_print:        load time =   40201.68 ms\n",
      "llama_perf_context_print: prompt eval time =   40201.21 ms /   387 tokens (  103.88 ms per token,     9.63 tokens per second)\n",
      "llama_perf_context_print:        eval time =   29580.07 ms /   162 runs   (  182.59 ms per token,     5.48 tokens per second)\n",
      "llama_perf_context_print:       total time =   70096.11 ms /   549 tokens\n"
     ]
    }
   ],
   "source": [
    "response = qa_chain.invoke(\n",
    "    {\"question\": query, \"chat_history\": chat_history}\n",
    ")\n",
    "\n",
    "answer = response[\"answer\"]            # or .get(\"answer\")\n",
    "source_docs = response.get(\"source_documents\", [])\n"
   ]
  },
  {
   "cell_type": "code",
   "execution_count": 18,
   "metadata": {},
   "outputs": [
    {
     "name": "stdout",
     "output_type": "stream",
     "text": [
      "초거대 AI, 즉 Large Language Model는 자연어처리와 관련된 AI모델 중에서 특히 텍스트를 입력받아 문장을 생성하고 이해하며 추천할 수 있도록 구축한 것으로, 최근에는 ChatGPT와 같은 AI기반의 대화형 텍스트봇(chatbot)을 개발하거나 자동완성과 관련된 서비스를 포함해서 다양한 분야에 활용되고 있습니다.\n"
     ]
    }
   ],
   "source": [
    "print(answer)"
   ]
  },
  {
   "cell_type": "code",
   "execution_count": 19,
   "metadata": {},
   "outputs": [
    {
     "name": "stdout",
     "output_type": "stream",
     "text": [
      "[]\n"
     ]
    }
   ],
   "source": [
    "print(source_docs)"
   ]
  },
  {
   "cell_type": "code",
   "execution_count": 20,
   "metadata": {},
   "outputs": [
    {
     "name": "stdout",
     "output_type": "stream",
     "text": [
      "[]\n"
     ]
    }
   ],
   "source": [
    "print(chat_history)"
   ]
  },
  {
   "cell_type": "code",
   "execution_count": 21,
   "metadata": {},
   "outputs": [],
   "source": [
    "# vectorstore.similarity_search(\"공공부문 ai 도입 현황 알려줘\", k=20)"
   ]
  },
  {
   "cell_type": "code",
   "execution_count": null,
   "metadata": {},
   "outputs": [],
   "source": []
  }
 ],
 "metadata": {
  "kernelspec": {
   "display_name": ".venv",
   "language": "python",
   "name": "python3"
  },
  "language_info": {
   "codemirror_mode": {
    "name": "ipython",
    "version": 3
   },
   "file_extension": ".py",
   "mimetype": "text/x-python",
   "name": "python",
   "nbconvert_exporter": "python",
   "pygments_lexer": "ipython3",
   "version": "3.11.2"
  }
 },
 "nbformat": 4,
 "nbformat_minor": 2
}
