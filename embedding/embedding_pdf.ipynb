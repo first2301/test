{
 "cells": [
  {
   "cell_type": "code",
   "execution_count": 3,
   "metadata": {},
   "outputs": [],
   "source": [
    "from langchain_huggingface import HuggingFaceEmbeddings\n",
    "from langchain.text_splitter import RecursiveCharacterTextSplitter\n",
    "from langchain.schema import Document\n",
    "\n",
    "from elasticsearch import Elasticsearch\n",
    "from datasets import load_dataset\n",
    "\n",
    "\n",
    "from langchain.document_loaders import PyPDFLoader, DirectoryLoader\n",
    "from langchain.document_loaders.pdf import PyPDFDirectoryLoader\n",
    "\n",
    "from elasticsearch import helpers\n",
    "from tqdm import tqdm\n",
    "\n",
    "# Load single PDF file\n",
    "def load_single_pdf(file_path):\n",
    "    loader = PyPDFLoader(file_path)\n",
    "    pages = loader.load()\n",
    "    return pages\n",
    "\n",
    "# Load multiple PDF files from directory\n",
    "def load_pdf_directory(directory_path):\n",
    "    loader = PyPDFDirectoryLoader(directory_path)\n",
    "    pages = loader.load()\n",
    "    return pages\n",
    "\n"
   ]
  },
  {
   "cell_type": "code",
   "execution_count": 1,
   "metadata": {},
   "outputs": [],
   "source": [
    "pdf_paths = \"../data/pdf/\""
   ]
  },
  {
   "cell_type": "code",
   "execution_count": 4,
   "metadata": {},
   "outputs": [],
   "source": [
    "pdf_data = load_pdf_directory(pdf_paths)"
   ]
  },
  {
   "cell_type": "code",
   "execution_count": 5,
   "metadata": {},
   "outputs": [],
   "source": [
    "text_splitter = RecursiveCharacterTextSplitter(\n",
    "    chunk_size=500,  # PDF 문서는 더 작은 청크로 나누는 것이 좋음\n",
    "    chunk_overlap=50, # 청크 간 중복도 줄임\n",
    "    length_function=len,\n",
    "    separators=[\"\\n\\n\", \"\\n\", \".\", \"!\", \"?\", \";\", \":\", \" \", \"\"],  # PDF 문서의 구조를 고려한 구분자 추가\n",
    "    is_separator_regex=False\n",
    ")\n",
    "\n",
    "chunks = text_splitter.split_documents(pdf_data)"
   ]
  },
  {
   "cell_type": "code",
   "execution_count": 6,
   "metadata": {},
   "outputs": [],
   "source": [
    "embeddings = HuggingFaceEmbeddings(\n",
    "    model_name=\"../ai_models/base_models/BGE-m3-ko\",\n",
    "    model_kwargs={'device': 'cpu'},\n",
    "    encode_kwargs={'normalize_embeddings': True}\n",
    ")\n",
    "es = Elasticsearch(\"http://127.0.0.1:9200\")\n"
   ]
  },
  {
   "cell_type": "code",
   "execution_count": 7,
   "metadata": {},
   "outputs": [
    {
     "data": {
      "text/plain": [
       "ObjectApiResponse({'acknowledged': True, 'shards_acknowledged': True, 'index': 'pdf'})"
      ]
     },
     "execution_count": 7,
     "metadata": {},
     "output_type": "execute_result"
    }
   ],
   "source": [
    "es.options(ignore_status=400).indices.create(\n",
    "    index=\"pdf\",\n",
    "    mappings={\n",
    "        \"properties\": {\n",
    "            \"content\": {\"type\": \"text\"},\n",
    "            \"embedding\": {\n",
    "                \"type\": \"dense_vector\",\n",
    "                \"dims\": 1024,  # 모델에 따라 조정\n",
    "                \"index\": True,\n",
    "                \"similarity\": \"cosine\"\n",
    "            }\n",
    "        }\n",
    "    }\n",
    ")"
   ]
  },
  {
   "cell_type": "code",
   "execution_count": 12,
   "metadata": {},
   "outputs": [
    {
     "name": "stderr",
     "output_type": "stream",
     "text": [
      " 49%|████▉     | 6664/13590 [1:03:47<59:15,  1.95it/s]  "
     ]
    }
   ],
   "source": [
    "actions = []\n",
    "for chunk in tqdm(chunks):\n",
    "    text = chunk.page_content\n",
    "    vector = embeddings.embed_documents([text])[0]  # ✅ 문서용\n",
    "\n",
    "    actions.append({\n",
    "        \"_index\": \"pdf\",\n",
    "        \"_source\": {\n",
    "            \"content\": text,\n",
    "            \"embedding\": vector\n",
    "        }\n",
    "    })\n",
    "\n",
    "helpers.bulk(es, actions)"
   ]
  },
  {
   "cell_type": "code",
   "execution_count": 27,
   "metadata": {},
   "outputs": [
    {
     "name": "stdout",
     "output_type": "stream",
     "text": [
      "점수: 0.7662\n",
      "문서 내용: EU GDPR 이해하기유럽 일반 개인정보보호법General Data Protection  Regulation1. GDPR이란 ?   2018년 5월 25일부터 시행되는 EU(유럽연합)의 개인정보보호 법령이며, 동 법령 위반시 과징금 등 행정처분이 부과될 수 있어 EU와 거래하는 우리나라 기업도 이 법에 위반되지 않도록 주의할 필요가 있습니다.2. GDPR 시행에 따른 주요 변화\n",
      "\n",
      "점수: 0.7479\n",
      "문서 내용: GDPR은 DPO가 아니라 컨트롤러 또는 프로세서가 GDPR을 준수하여 개인정보를 처\n",
      "리하였다는 것을 보장하고, 이를 입증할 수 있는 적절한 기술적·관리적 조치를 이행하\n",
      "여야 한다고 규정하고 있다. 5 4 즉, GDPR 준수는 컨트롤러나 프로세서의 책임이다.\n",
      "■\n",
      "5.6 DPO의 책임 여부\n",
      "GDPR 관련 규정\n",
      "■  제37조(DPO의 지정)\n",
      "■  제38조(DPO의 지위)\n",
      "■  제39조(DPO의 업무)\n",
      "■ 전문 제97항\n",
      "■  Guidelines on Data Protection Officers(DPO) 2016, \n",
      "WP29(EDPB 승인)\n",
      "■ 제31조(개인정보 보호책임자의 지정)한국 개인정보보호법 관련 규정\n",
      "54   제29조 작업반, The Guidelines on Data Protection Officer, 2017. 04. 05., p.4.\n",
      "\n",
      "점수: 0.7413\n",
      "문서 내용: 우리나라에서 GDPR 가이드북을 발간하게 된 배경\n",
      "2016년 5월 유럽연합(이하 ‘EU’)에서 제정한 「일반 개인정보보호법(General Data Protection \n",
      "Regulation)」(이하 ‘GDPR’)이 2018년 5월 25일부터 시행되었습니다.\n",
      "GDPR은 기존의 EU 개인정보보호 지침인 「1995년 개인정보보호 지침(Data Protection Directive \n",
      "95/46/EC)」을 대체하며 보다 강력한 제재를 규정하고 있습니다.\n",
      "이에 한국인터넷진흥원은 『우리 기업을 위한 유럽 일반 개인정보보호법(GDPR) 안내서』(2017.04.)\n",
      "와 『우리 기업을 위한 유럽 일반 개인정보보호법(GDPR) 1차 가이드라인』(2017.11.)을 우선 발간하여 \n",
      "GDPR 시행 이전에 기업들의 사전 조치 수준을 제고하는 데 도움을 드리고자 하였습니다. 이후 GDPR \n",
      "본격 시행에 따라 위 ‘안내서’와 ‘1차 가이드라인’의 내용을 통합하고, EU의 정책자문 기구 ‘The\n",
      "\n",
      "점수: 0.7410\n",
      "문서 내용: 1. GDPR의 제정 의미와 효력\n",
      " 1.1 GDPR 제정 목적과 의의\n",
      " 1.2 GDPR의 구성\n",
      " 1.3 GDPR의 법적 효력\n",
      "2. GDPR 시행에 따라 유의해야 할 주요 사항\n",
      " 2.1 EU 역내 및 역외 적용\n",
      " 2.2 개인정보 정의와 적용대상 범위\n",
      " 2.3 개인정보 기본 처리 원칙\n",
      " 2.4 동의 요건의 강화 및 아동 개인정보 처리에 대한 동의 원칙\n",
      " 2.5 개인정보의 합법처리 기준\n",
      " 2.6 one stop shop 메커니즘의 도입\n",
      " 2.7 프로세서에 대한 적용\n",
      " 2.8 정보주체의 권리\n",
      " 2.9 책임성과 거버넌스\n",
      " 2.10 DPO 지정 의무\n",
      " 2.11 개인정보 역외 이전 메커니즘\n",
      " 2.12 개인정보 침해 시 통지의무\n",
      " 2.13 제재\n",
      " 2.14 인증제도 및 인증기관에 대한 인정\n",
      "3. GDPR 내 주요 용어\n",
      " 3.1 주요 용어의 표기\n",
      " 3.2 주요 용어의 정의\n",
      "4. GDPR의 적용 대상과 범위\n",
      " 4.1 적용 대상(제1조)\n",
      " 4.2 적용 범위\n",
      "18\n",
      "19\n",
      "19\n",
      "21\n",
      "21\n",
      "22\n",
      "22\n",
      "22\n",
      "23\n",
      "\n",
      "점수: 0.7407\n",
      "문서 내용: 18\n",
      "2022   EU 일반 개인정보보호법(GDPR) 가이드북\n",
      "GDPR의 제정 의미와 효력\n",
      "• GDPR 시행의 의미를 알 수 있다.\n",
      "• GDPR의 전체적인 구성을 알 수 있다.\n",
      "• GDPR의 법적인 효력을 알 수 있다.\n",
      "Point\n",
      "1.1 GDPR 제정 목적과 의의\n",
      "GDPR 관련 규정 ■ 제1조(대상 및 목적)\n",
      "■ 제1조(목적)한국 개인정보보호법 관련 규정\n",
      "GDPR은 자연인(natural person)에 관한 기본권과 자유(특히 개인정보보호에 대한 \n",
      "권리)를 보호하고(제1조제2항), EU 역내에서 개인정보의 자유로운 이동(제1조제3항)\n",
      "을 보장하는 것을 목적으로 한다. \n",
      "GDPR은 개인정보 삭제권, 처리 제한권, 개인정보 이동권, 반대권(거부권) 등의 신규 \n",
      "권리 추가 및 기존 권리 명확화를 통하여 기존 Directive 95/46/EC보다 정보주체의 \n",
      "권리를 확대·강화하였으며, 개인정보 처리 활동의 기록, DPO의 지정, 개인정보 영향평\n",
      "\n"
     ]
    }
   ],
   "source": [
    "query = \"피지컬컬 AI 설명\"\n",
    "query_vector = embeddings.embed_query(query)\n",
    "\n",
    "response = es.search(\n",
    "    index=\"pdf\",\n",
    "    knn={\n",
    "        \"field\": \"embedding\",\n",
    "        \"query_vector\": query_vector,\n",
    "        \"k\": 5,\n",
    "        \"num_candidates\": 20\n",
    "    }\n",
    ")\n",
    "\n",
    "# 결과 출력\n",
    "for hit in response[\"hits\"][\"hits\"]:\n",
    "    print(f\"점수: {hit['_score']:.4f}\")\n",
    "    print(f\"문서 내용: {hit['_source']['content']}\\n\")\n"
   ]
  },
  {
   "cell_type": "code",
   "execution_count": null,
   "metadata": {},
   "outputs": [],
   "source": []
  }
 ],
 "metadata": {
  "kernelspec": {
   "display_name": ".venv",
   "language": "python",
   "name": "python3"
  },
  "language_info": {
   "codemirror_mode": {
    "name": "ipython",
    "version": 3
   },
   "file_extension": ".py",
   "mimetype": "text/x-python",
   "name": "python",
   "nbconvert_exporter": "python",
   "pygments_lexer": "ipython3",
   "version": "3.11.2"
  }
 },
 "nbformat": 4,
 "nbformat_minor": 2
}
